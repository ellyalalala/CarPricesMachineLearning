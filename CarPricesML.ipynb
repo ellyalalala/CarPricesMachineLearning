{
 "cells": [
  {
   "cell_type": "markdown",
   "metadata": {},
   "source": [
    "# Определение стоимости автомобилей"
   ]
  },
  {
   "cell_type": "markdown",
   "metadata": {},
   "source": [
    "Сервис по продаже автомобилей с пробегом «Не бит, не крашен» разрабатывает приложение для привлечения новых клиентов. В нём можно быстро узнать рыночную стоимость своего автомобиля. В вашем распоряжении исторические данные: технические характеристики, комплектации и цены автомобилей. Вам нужно построить модель для определения стоимости. \n",
    "\n",
    "Заказчику важны:\n",
    "\n",
    "- качество предсказания;\n",
    "- скорость предсказания;\n",
    "- время обучения."
   ]
  },
  {
   "cell_type": "markdown",
   "metadata": {},
   "source": [
    "<div class=\"alert alert-block alert-success\">\n",
    "<b>✔️ Комментарий ревьюера: </b> Хорошая работа. Удачно подобраны визуализации. Проведён подробный анализ данных. Использованы различные модели машинного обучения и проведено их сравнение. Увидел выводы к каждому этапу работы. Но есть маленькие недочёты. Их нужно исправить. \n",
    "Осталось совсем чуть-чуть. Всегда готов ответить на твои вопросы. Насчёт линейной регрессии не переживай - это нормальный для неё результат. Датасет сложный, простые линейные модели не справляются\n",
    "</div>"
   ]
  },
  {
   "cell_type": "markdown",
   "metadata": {},
   "source": [
    "## Подготовка данных"
   ]
  },
  {
   "cell_type": "code",
   "execution_count": 1,
   "metadata": {},
   "outputs": [],
   "source": [
    "#импорты\n",
    "import pandas as pd\n",
    "import numpy as np\n",
    "from sklearn.metrics import mean_absolute_error,mean_squared_error\n",
    "from sklearn.model_selection import train_test_split\n",
    "from sklearn.linear_model import LinearRegression\n",
    "from sklearn.preprocessing import StandardScaler\n",
    "import warnings\n",
    "warnings.filterwarnings('ignore')\n",
    "from sklearn.metrics import r2_score\n",
    "from tqdm.notebook import tqdm\n",
    "import matplotlib.pyplot as plt\n",
    "import seaborn as sns\n",
    "from sklearn.model_selection import GridSearchCV\n",
    "import lightgbm as lgbm\n",
    "from lightgbm import LGBMRegressor\n",
    "from catboost import CatBoostRegressor\n",
    "from sklearn.ensemble import RandomForestRegressor\n",
    "from sklearn.metrics import make_scorer\n",
    "from sklearn.preprocessing import OrdinalEncoder\n",
    "from sklearn.preprocessing import OneHotEncoder \n",
    "from sklearn.model_selection import cross_val_score\n",
    "\n",
    "import time"
   ]
  },
  {
   "cell_type": "code",
   "execution_count": 2,
   "metadata": {},
   "outputs": [
    {
     "data": {
      "text/html": [
       "<div>\n",
       "<style scoped>\n",
       "    .dataframe tbody tr th:only-of-type {\n",
       "        vertical-align: middle;\n",
       "    }\n",
       "\n",
       "    .dataframe tbody tr th {\n",
       "        vertical-align: top;\n",
       "    }\n",
       "\n",
       "    .dataframe thead th {\n",
       "        text-align: right;\n",
       "    }\n",
       "</style>\n",
       "<table border=\"1\" class=\"dataframe\">\n",
       "  <thead>\n",
       "    <tr style=\"text-align: right;\">\n",
       "      <th></th>\n",
       "      <th>DateCrawled</th>\n",
       "      <th>Price</th>\n",
       "      <th>VehicleType</th>\n",
       "      <th>RegistrationYear</th>\n",
       "      <th>Gearbox</th>\n",
       "      <th>Power</th>\n",
       "      <th>Model</th>\n",
       "      <th>Kilometer</th>\n",
       "      <th>RegistrationMonth</th>\n",
       "      <th>FuelType</th>\n",
       "      <th>Brand</th>\n",
       "      <th>Repaired</th>\n",
       "      <th>DateCreated</th>\n",
       "      <th>NumberOfPictures</th>\n",
       "      <th>PostalCode</th>\n",
       "      <th>LastSeen</th>\n",
       "    </tr>\n",
       "  </thead>\n",
       "  <tbody>\n",
       "    <tr>\n",
       "      <th>0</th>\n",
       "      <td>2016-03-24 11:52:17</td>\n",
       "      <td>480</td>\n",
       "      <td>NaN</td>\n",
       "      <td>1993</td>\n",
       "      <td>manual</td>\n",
       "      <td>0</td>\n",
       "      <td>golf</td>\n",
       "      <td>150000</td>\n",
       "      <td>0</td>\n",
       "      <td>petrol</td>\n",
       "      <td>volkswagen</td>\n",
       "      <td>NaN</td>\n",
       "      <td>2016-03-24 00:00:00</td>\n",
       "      <td>0</td>\n",
       "      <td>70435</td>\n",
       "      <td>2016-04-07 03:16:57</td>\n",
       "    </tr>\n",
       "    <tr>\n",
       "      <th>1</th>\n",
       "      <td>2016-03-24 10:58:45</td>\n",
       "      <td>18300</td>\n",
       "      <td>coupe</td>\n",
       "      <td>2011</td>\n",
       "      <td>manual</td>\n",
       "      <td>190</td>\n",
       "      <td>NaN</td>\n",
       "      <td>125000</td>\n",
       "      <td>5</td>\n",
       "      <td>gasoline</td>\n",
       "      <td>audi</td>\n",
       "      <td>yes</td>\n",
       "      <td>2016-03-24 00:00:00</td>\n",
       "      <td>0</td>\n",
       "      <td>66954</td>\n",
       "      <td>2016-04-07 01:46:50</td>\n",
       "    </tr>\n",
       "    <tr>\n",
       "      <th>2</th>\n",
       "      <td>2016-03-14 12:52:21</td>\n",
       "      <td>9800</td>\n",
       "      <td>suv</td>\n",
       "      <td>2004</td>\n",
       "      <td>auto</td>\n",
       "      <td>163</td>\n",
       "      <td>grand</td>\n",
       "      <td>125000</td>\n",
       "      <td>8</td>\n",
       "      <td>gasoline</td>\n",
       "      <td>jeep</td>\n",
       "      <td>NaN</td>\n",
       "      <td>2016-03-14 00:00:00</td>\n",
       "      <td>0</td>\n",
       "      <td>90480</td>\n",
       "      <td>2016-04-05 12:47:46</td>\n",
       "    </tr>\n",
       "    <tr>\n",
       "      <th>3</th>\n",
       "      <td>2016-03-17 16:54:04</td>\n",
       "      <td>1500</td>\n",
       "      <td>small</td>\n",
       "      <td>2001</td>\n",
       "      <td>manual</td>\n",
       "      <td>75</td>\n",
       "      <td>golf</td>\n",
       "      <td>150000</td>\n",
       "      <td>6</td>\n",
       "      <td>petrol</td>\n",
       "      <td>volkswagen</td>\n",
       "      <td>no</td>\n",
       "      <td>2016-03-17 00:00:00</td>\n",
       "      <td>0</td>\n",
       "      <td>91074</td>\n",
       "      <td>2016-03-17 17:40:17</td>\n",
       "    </tr>\n",
       "    <tr>\n",
       "      <th>4</th>\n",
       "      <td>2016-03-31 17:25:20</td>\n",
       "      <td>3600</td>\n",
       "      <td>small</td>\n",
       "      <td>2008</td>\n",
       "      <td>manual</td>\n",
       "      <td>69</td>\n",
       "      <td>fabia</td>\n",
       "      <td>90000</td>\n",
       "      <td>7</td>\n",
       "      <td>gasoline</td>\n",
       "      <td>skoda</td>\n",
       "      <td>no</td>\n",
       "      <td>2016-03-31 00:00:00</td>\n",
       "      <td>0</td>\n",
       "      <td>60437</td>\n",
       "      <td>2016-04-06 10:17:21</td>\n",
       "    </tr>\n",
       "  </tbody>\n",
       "</table>\n",
       "</div>"
      ],
      "text/plain": [
       "           DateCrawled  Price VehicleType  RegistrationYear Gearbox  Power  \\\n",
       "0  2016-03-24 11:52:17    480         NaN              1993  manual      0   \n",
       "1  2016-03-24 10:58:45  18300       coupe              2011  manual    190   \n",
       "2  2016-03-14 12:52:21   9800         suv              2004    auto    163   \n",
       "3  2016-03-17 16:54:04   1500       small              2001  manual     75   \n",
       "4  2016-03-31 17:25:20   3600       small              2008  manual     69   \n",
       "\n",
       "   Model  Kilometer  RegistrationMonth  FuelType       Brand Repaired  \\\n",
       "0   golf     150000                  0    petrol  volkswagen      NaN   \n",
       "1    NaN     125000                  5  gasoline        audi      yes   \n",
       "2  grand     125000                  8  gasoline        jeep      NaN   \n",
       "3   golf     150000                  6    petrol  volkswagen       no   \n",
       "4  fabia      90000                  7  gasoline       skoda       no   \n",
       "\n",
       "           DateCreated  NumberOfPictures  PostalCode             LastSeen  \n",
       "0  2016-03-24 00:00:00                 0       70435  2016-04-07 03:16:57  \n",
       "1  2016-03-24 00:00:00                 0       66954  2016-04-07 01:46:50  \n",
       "2  2016-03-14 00:00:00                 0       90480  2016-04-05 12:47:46  \n",
       "3  2016-03-17 00:00:00                 0       91074  2016-03-17 17:40:17  \n",
       "4  2016-03-31 00:00:00                 0       60437  2016-04-06 10:17:21  "
      ]
     },
     "execution_count": 2,
     "metadata": {},
     "output_type": "execute_result"
    }
   ],
   "source": [
    "data =  pd.read_csv('/datasets/autos.csv')\n",
    "data.head()\n"
   ]
  },
  {
   "cell_type": "code",
   "execution_count": 3,
   "metadata": {},
   "outputs": [
    {
     "name": "stdout",
     "output_type": "stream",
     "text": [
      "<class 'pandas.core.frame.DataFrame'>\n",
      "RangeIndex: 354369 entries, 0 to 354368\n",
      "Data columns (total 16 columns):\n",
      " #   Column             Non-Null Count   Dtype \n",
      "---  ------             --------------   ----- \n",
      " 0   DateCrawled        354369 non-null  object\n",
      " 1   Price              354369 non-null  int64 \n",
      " 2   VehicleType        316879 non-null  object\n",
      " 3   RegistrationYear   354369 non-null  int64 \n",
      " 4   Gearbox            334536 non-null  object\n",
      " 5   Power              354369 non-null  int64 \n",
      " 6   Model              334664 non-null  object\n",
      " 7   Kilometer          354369 non-null  int64 \n",
      " 8   RegistrationMonth  354369 non-null  int64 \n",
      " 9   FuelType           321474 non-null  object\n",
      " 10  Brand              354369 non-null  object\n",
      " 11  Repaired           283215 non-null  object\n",
      " 12  DateCreated        354369 non-null  object\n",
      " 13  NumberOfPictures   354369 non-null  int64 \n",
      " 14  PostalCode         354369 non-null  int64 \n",
      " 15  LastSeen           354369 non-null  object\n",
      "dtypes: int64(7), object(9)\n",
      "memory usage: 43.3+ MB\n"
     ]
    }
   ],
   "source": [
    "data.info()"
   ]
  },
  {
   "cell_type": "code",
   "execution_count": 4,
   "metadata": {},
   "outputs": [
    {
     "data": {
      "text/plain": [
       "Price                1.000000\n",
       "RegistrationYear     0.026916\n",
       "Power                0.158872\n",
       "Kilometer           -0.333199\n",
       "RegistrationMonth    0.110581\n",
       "NumberOfPictures          NaN\n",
       "PostalCode           0.076055\n",
       "Name: Price, dtype: float64"
      ]
     },
     "execution_count": 4,
     "metadata": {},
     "output_type": "execute_result"
    }
   ],
   "source": [
    "data.corr()['Price']"
   ]
  },
  {
   "cell_type": "markdown",
   "metadata": {},
   "source": [
    "### Пропуски"
   ]
  },
  {
   "cell_type": "code",
   "execution_count": 5,
   "metadata": {},
   "outputs": [
    {
     "data": {
      "text/html": [
       "<style  type=\"text/css\" >\n",
       "#T_45323_row0_col0,#T_45323_row1_col0,#T_45323_row3_col0,#T_45323_row5_col0,#T_45323_row7_col0,#T_45323_row8_col0,#T_45323_row10_col0,#T_45323_row12_col0,#T_45323_row13_col0,#T_45323_row14_col0,#T_45323_row15_col0{\n",
       "            background-color:  #fff7fb;\n",
       "            color:  #000000;\n",
       "        }#T_45323_row2_col0{\n",
       "            background-color:  #67a4cc;\n",
       "            color:  #000000;\n",
       "        }#T_45323_row4_col0{\n",
       "            background-color:  #c6cce3;\n",
       "            color:  #000000;\n",
       "        }#T_45323_row6_col0{\n",
       "            background-color:  #c8cde4;\n",
       "            color:  #000000;\n",
       "        }#T_45323_row9_col0{\n",
       "            background-color:  #83afd3;\n",
       "            color:  #000000;\n",
       "        }#T_45323_row11_col0{\n",
       "            background-color:  #023858;\n",
       "            color:  #f1f1f1;\n",
       "        }</style><table id=\"T_45323_\" ><thead>    <tr>        <th class=\"blank level0\" ></th>        <th class=\"col_heading level0 col0\" >пропусков</th>    </tr></thead><tbody>\n",
       "                <tr>\n",
       "                        <th id=\"T_45323_level0_row0\" class=\"row_heading level0 row0\" >DateCrawled</th>\n",
       "                        <td id=\"T_45323_row0_col0\" class=\"data row0 col0\" >0</td>\n",
       "            </tr>\n",
       "            <tr>\n",
       "                        <th id=\"T_45323_level0_row1\" class=\"row_heading level0 row1\" >Price</th>\n",
       "                        <td id=\"T_45323_row1_col0\" class=\"data row1 col0\" >0</td>\n",
       "            </tr>\n",
       "            <tr>\n",
       "                        <th id=\"T_45323_level0_row2\" class=\"row_heading level0 row2\" >VehicleType</th>\n",
       "                        <td id=\"T_45323_row2_col0\" class=\"data row2 col0\" >37490</td>\n",
       "            </tr>\n",
       "            <tr>\n",
       "                        <th id=\"T_45323_level0_row3\" class=\"row_heading level0 row3\" >RegistrationYear</th>\n",
       "                        <td id=\"T_45323_row3_col0\" class=\"data row3 col0\" >0</td>\n",
       "            </tr>\n",
       "            <tr>\n",
       "                        <th id=\"T_45323_level0_row4\" class=\"row_heading level0 row4\" >Gearbox</th>\n",
       "                        <td id=\"T_45323_row4_col0\" class=\"data row4 col0\" >19833</td>\n",
       "            </tr>\n",
       "            <tr>\n",
       "                        <th id=\"T_45323_level0_row5\" class=\"row_heading level0 row5\" >Power</th>\n",
       "                        <td id=\"T_45323_row5_col0\" class=\"data row5 col0\" >0</td>\n",
       "            </tr>\n",
       "            <tr>\n",
       "                        <th id=\"T_45323_level0_row6\" class=\"row_heading level0 row6\" >Model</th>\n",
       "                        <td id=\"T_45323_row6_col0\" class=\"data row6 col0\" >19705</td>\n",
       "            </tr>\n",
       "            <tr>\n",
       "                        <th id=\"T_45323_level0_row7\" class=\"row_heading level0 row7\" >Kilometer</th>\n",
       "                        <td id=\"T_45323_row7_col0\" class=\"data row7 col0\" >0</td>\n",
       "            </tr>\n",
       "            <tr>\n",
       "                        <th id=\"T_45323_level0_row8\" class=\"row_heading level0 row8\" >RegistrationMonth</th>\n",
       "                        <td id=\"T_45323_row8_col0\" class=\"data row8 col0\" >0</td>\n",
       "            </tr>\n",
       "            <tr>\n",
       "                        <th id=\"T_45323_level0_row9\" class=\"row_heading level0 row9\" >FuelType</th>\n",
       "                        <td id=\"T_45323_row9_col0\" class=\"data row9 col0\" >32895</td>\n",
       "            </tr>\n",
       "            <tr>\n",
       "                        <th id=\"T_45323_level0_row10\" class=\"row_heading level0 row10\" >Brand</th>\n",
       "                        <td id=\"T_45323_row10_col0\" class=\"data row10 col0\" >0</td>\n",
       "            </tr>\n",
       "            <tr>\n",
       "                        <th id=\"T_45323_level0_row11\" class=\"row_heading level0 row11\" >Repaired</th>\n",
       "                        <td id=\"T_45323_row11_col0\" class=\"data row11 col0\" >71154</td>\n",
       "            </tr>\n",
       "            <tr>\n",
       "                        <th id=\"T_45323_level0_row12\" class=\"row_heading level0 row12\" >DateCreated</th>\n",
       "                        <td id=\"T_45323_row12_col0\" class=\"data row12 col0\" >0</td>\n",
       "            </tr>\n",
       "            <tr>\n",
       "                        <th id=\"T_45323_level0_row13\" class=\"row_heading level0 row13\" >NumberOfPictures</th>\n",
       "                        <td id=\"T_45323_row13_col0\" class=\"data row13 col0\" >0</td>\n",
       "            </tr>\n",
       "            <tr>\n",
       "                        <th id=\"T_45323_level0_row14\" class=\"row_heading level0 row14\" >PostalCode</th>\n",
       "                        <td id=\"T_45323_row14_col0\" class=\"data row14 col0\" >0</td>\n",
       "            </tr>\n",
       "            <tr>\n",
       "                        <th id=\"T_45323_level0_row15\" class=\"row_heading level0 row15\" >LastSeen</th>\n",
       "                        <td id=\"T_45323_row15_col0\" class=\"data row15 col0\" >0</td>\n",
       "            </tr>\n",
       "    </tbody></table>"
      ],
      "text/plain": [
       "<pandas.io.formats.style.Styler at 0x7fa5a35a1790>"
      ]
     },
     "execution_count": 5,
     "metadata": {},
     "output_type": "execute_result"
    }
   ],
   "source": [
    "#  количество пропусков\n",
    "\n",
    "pd.DataFrame(data.isna().sum(), columns = ['пропусков']).style.background_gradient()"
   ]
  },
  {
   "cell_type": "markdown",
   "metadata": {},
   "source": [
    "<div class=\"alert alert-block alert-success\">\n",
    "<b>✔️ Комментарий ревьюера:</b> Да, спасибо за оформление\n",
    "</div>"
   ]
  },
  {
   "cell_type": "code",
   "execution_count": 6,
   "metadata": {},
   "outputs": [
    {
     "data": {
      "text/plain": [
       "array([nan, 'coupe', 'suv', 'small', 'sedan', 'convertible', 'bus',\n",
       "       'wagon', 'other'], dtype=object)"
      ]
     },
     "execution_count": 6,
     "metadata": {},
     "output_type": "execute_result"
    }
   ],
   "source": [
    "#очень большое количество пропусков - надо заменять\n",
    "data['VehicleType'].unique()"
   ]
  },
  {
   "cell_type": "code",
   "execution_count": 7,
   "metadata": {},
   "outputs": [
    {
     "data": {
      "text/plain": [
       "sedan          91457\n",
       "small          79831\n",
       "wagon          65166\n",
       "unknown        37490\n",
       "bus            28775\n",
       "convertible    20203\n",
       "coupe          16163\n",
       "suv            11996\n",
       "other           3288\n",
       "Name: VehicleType, dtype: int64"
      ]
     },
     "execution_count": 7,
     "metadata": {},
     "output_type": "execute_result"
    }
   ],
   "source": [
    "#заменяю пропуски на unknown\n",
    "data.fillna({'VehicleType':'unknown'}, inplace=True)\n",
    "data.VehicleType.value_counts()"
   ]
  },
  {
   "cell_type": "code",
   "execution_count": 8,
   "metadata": {},
   "outputs": [
    {
     "data": {
      "text/plain": [
       "0"
      ]
     },
     "execution_count": 8,
     "metadata": {},
     "output_type": "execute_result"
    }
   ],
   "source": [
    "data.VehicleType.isna().sum()\n"
   ]
  },
  {
   "cell_type": "code",
   "execution_count": 9,
   "metadata": {},
   "outputs": [
    {
     "data": {
      "text/plain": [
       "array(['manual', 'auto', nan], dtype=object)"
      ]
     },
     "execution_count": 9,
     "metadata": {},
     "output_type": "execute_result"
    }
   ],
   "source": [
    "#думаю заменить на ручную\n",
    "data['Gearbox'].unique()"
   ]
  },
  {
   "cell_type": "code",
   "execution_count": 10,
   "metadata": {},
   "outputs": [
    {
     "data": {
      "text/plain": [
       "manual    288084\n",
       "auto       66285\n",
       "Name: Gearbox, dtype: int64"
      ]
     },
     "execution_count": 10,
     "metadata": {},
     "output_type": "execute_result"
    }
   ],
   "source": [
    "data.fillna({'Gearbox':'manual'}, inplace=True)\n",
    "data.Gearbox.value_counts()"
   ]
  },
  {
   "cell_type": "code",
   "execution_count": 11,
   "metadata": {},
   "outputs": [
    {
     "data": {
      "text/plain": [
       "array(['golf', nan, 'grand', 'fabia', '3er', '2_reihe', 'other', 'c_max',\n",
       "       '3_reihe', 'passat', 'navara', 'ka', 'polo', 'twingo', 'a_klasse',\n",
       "       'scirocco', '5er', 'meriva', 'arosa', 'c4', 'civic', 'transporter',\n",
       "       'punto', 'e_klasse', 'clio', 'kadett', 'kangoo', 'corsa', 'one',\n",
       "       'fortwo', '1er', 'b_klasse', 'signum', 'astra', 'a8', 'jetta',\n",
       "       'fiesta', 'c_klasse', 'micra', 'vito', 'sprinter', '156', 'escort',\n",
       "       'forester', 'xc_reihe', 'scenic', 'a4', 'a1', 'insignia', 'combo',\n",
       "       'focus', 'tt', 'a6', 'jazz', 'omega', 'slk', '7er', '80', '147',\n",
       "       '100', 'z_reihe', 'sportage', 'sorento', 'v40', 'ibiza', 'mustang',\n",
       "       'eos', 'touran', 'getz', 'a3', 'almera', 'megane', 'lupo', 'r19',\n",
       "       'zafira', 'caddy', 'mondeo', 'cordoba', 'colt', 'impreza',\n",
       "       'vectra', 'berlingo', 'tiguan', 'i_reihe', 'espace', 'sharan',\n",
       "       '6_reihe', 'panda', 'up', 'seicento', 'ceed', '5_reihe', 'yeti',\n",
       "       'octavia', 'mii', 'rx_reihe', '6er', 'modus', 'fox', 'matiz',\n",
       "       'beetle', 'c1', 'rio', 'touareg', 'logan', 'spider', 'cuore',\n",
       "       's_max', 'a2', 'galaxy', 'c3', 'viano', 's_klasse', '1_reihe',\n",
       "       'avensis', 'roomster', 'sl', 'kaefer', 'santa', 'cooper', 'leon',\n",
       "       '4_reihe', 'a5', '500', 'laguna', 'ptcruiser', 'clk', 'primera',\n",
       "       'x_reihe', 'exeo', '159', 'transit', 'juke', 'qashqai', 'carisma',\n",
       "       'accord', 'corolla', 'lanos', 'phaeton', 'verso', 'swift', 'rav',\n",
       "       'picanto', 'boxster', 'kalos', 'superb', 'stilo', 'alhambra',\n",
       "       'mx_reihe', 'roadster', 'ypsilon', 'cayenne', 'galant', 'justy',\n",
       "       '90', 'sirion', 'crossfire', 'agila', 'duster', 'cr_reihe', 'v50',\n",
       "       'c_reihe', 'v_klasse', 'm_klasse', 'yaris', 'c5', 'aygo', 'cc',\n",
       "       'carnival', 'fusion', '911', 'bora', 'forfour', 'm_reihe', 'cl',\n",
       "       'tigra', '300c', 'spark', 'v70', 'kuga', 'x_type', 'ducato',\n",
       "       's_type', 'x_trail', 'toledo', 'altea', 'voyager', 'calibra',\n",
       "       'bravo', 'antara', 'tucson', 'citigo', 'jimny', 'wrangler',\n",
       "       'lybra', 'q7', 'lancer', 'captiva', 'c2', 'discovery',\n",
       "       'freelander', 'sandero', 'note', '900', 'cherokee', 'clubman',\n",
       "       'samara', 'defender', '601', 'cx_reihe', 'legacy', 'pajero',\n",
       "       'auris', 'niva', 's60', 'nubira', 'vivaro', 'g_klasse', 'lodgy',\n",
       "       '850', 'range_rover', 'q3', 'serie_2', 'glk', 'charade', 'croma',\n",
       "       'outlander', 'doblo', 'musa', 'move', '9000', 'v60', '145', 'aveo',\n",
       "       '200', 'b_max', 'range_rover_sport', 'terios', 'rangerover', 'q5',\n",
       "       'range_rover_evoque', 'materia', 'delta', 'gl', 'kalina', 'amarok',\n",
       "       'elefantino', 'i3', 'kappa', 'serie_3', 'serie_1'], dtype=object)"
      ]
     },
     "execution_count": 11,
     "metadata": {},
     "output_type": "execute_result"
    }
   ],
   "source": [
    "data['Model'].unique()"
   ]
  },
  {
   "cell_type": "code",
   "execution_count": 12,
   "metadata": {},
   "outputs": [
    {
     "data": {
      "text/plain": [
       "other                 44126\n",
       "golf                  29232\n",
       "3er                   19761\n",
       "polo                  13066\n",
       "corsa                 12570\n",
       "                      ...  \n",
       "serie_2                   8\n",
       "rangerover                4\n",
       "serie_3                   4\n",
       "range_rover_evoque        2\n",
       "serie_1                   2\n",
       "Name: Model, Length: 250, dtype: int64"
      ]
     },
     "execution_count": 12,
     "metadata": {},
     "output_type": "execute_result"
    }
   ],
   "source": [
    "#заменю на unknown\n",
    "data.fillna({'Model':'other'}, inplace=True)\n",
    "data.Model.value_counts()"
   ]
  },
  {
   "cell_type": "markdown",
   "metadata": {},
   "source": [
    "<div class=\"alert alert-block alert-warning\">\n",
    "<b>⚠️ Комментарий ревьюера: </b> Предлагаю заменить на other. Такое значение уже есть в датасете\n",
    "</div>"
   ]
  },
  {
   "cell_type": "markdown",
   "metadata": {},
   "source": [
    "<div class=\"alert alert-block alert-success\">\n",
    "<b>✔️ Комментарий ревьюера v2: </b> 👍\n",
    "</div>"
   ]
  },
  {
   "cell_type": "code",
   "execution_count": 13,
   "metadata": {},
   "outputs": [
    {
     "data": {
      "text/plain": [
       "array(['petrol', 'gasoline', nan, 'lpg', 'other', 'hybrid', 'cng',\n",
       "       'electric'], dtype=object)"
      ]
     },
     "execution_count": 13,
     "metadata": {},
     "output_type": "execute_result"
    }
   ],
   "source": [
    "data['FuelType'].unique()"
   ]
  },
  {
   "cell_type": "code",
   "execution_count": 14,
   "metadata": {},
   "outputs": [
    {
     "data": {
      "text/plain": [
       "petrol      216352\n",
       "gasoline     98720\n",
       "lpg           5310\n",
       "cng            565\n",
       "hybrid         233\n",
       "other          204\n",
       "electric        90\n",
       "Name: FuelType, dtype: int64"
      ]
     },
     "execution_count": 14,
     "metadata": {},
     "output_type": "execute_result"
    }
   ],
   "source": [
    "data.FuelType.value_counts()"
   ]
  },
  {
   "cell_type": "code",
   "execution_count": 15,
   "metadata": {},
   "outputs": [
    {
     "data": {
      "text/plain": [
       "petrol      216352\n",
       "gasoline     98720\n",
       "other        33099\n",
       "lpg           5310\n",
       "cng            565\n",
       "hybrid         233\n",
       "electric        90\n",
       "Name: FuelType, dtype: int64"
      ]
     },
     "execution_count": 15,
     "metadata": {},
     "output_type": "execute_result"
    }
   ],
   "source": [
    "#заменю на petrol \n",
    "data.fillna({'FuelType':'other'}, inplace=True)\n",
    "data.FuelType.value_counts()"
   ]
  },
  {
   "cell_type": "markdown",
   "metadata": {},
   "source": [
    "<div class=\"alert alert-block alert-warning\">\n",
    "<b>⚠️ Комментарий ревьюера: </b> Предлагаю заменить на other. Такое значение уже есть в датасете\n",
    "</div>"
   ]
  },
  {
   "cell_type": "markdown",
   "metadata": {},
   "source": [
    "<div class=\"alert alert-block alert-success\">\n",
    "<b>✔️ Комментарий ревьюера v2: </b> 👍\n",
    "</div>"
   ]
  },
  {
   "cell_type": "code",
   "execution_count": 16,
   "metadata": {},
   "outputs": [
    {
     "data": {
      "text/plain": [
       "array([nan, 'yes', 'no'], dtype=object)"
      ]
     },
     "execution_count": 16,
     "metadata": {},
     "output_type": "execute_result"
    }
   ],
   "source": [
    "data['Repaired'].unique()"
   ]
  },
  {
   "cell_type": "code",
   "execution_count": 17,
   "metadata": {},
   "outputs": [
    {
     "data": {
      "text/plain": [
       "no         247161\n",
       "unknown     71154\n",
       "yes         36054\n",
       "Name: Repaired, dtype: int64"
      ]
     },
     "execution_count": 17,
     "metadata": {},
     "output_type": "execute_result"
    }
   ],
   "source": [
    "#заменю на unknown (или лучше yes?)\n",
    "data.fillna({'Repaired':'unknown'}, inplace=True)\n",
    "data.Repaired.value_counts()"
   ]
  },
  {
   "cell_type": "code",
   "execution_count": 18,
   "metadata": {},
   "outputs": [
    {
     "data": {
      "text/html": [
       "<style  type=\"text/css\" >\n",
       "#T_178f4_row0_col0,#T_178f4_row1_col0,#T_178f4_row2_col0,#T_178f4_row3_col0,#T_178f4_row4_col0,#T_178f4_row5_col0,#T_178f4_row6_col0,#T_178f4_row7_col0,#T_178f4_row8_col0,#T_178f4_row9_col0,#T_178f4_row10_col0,#T_178f4_row11_col0,#T_178f4_row12_col0,#T_178f4_row13_col0,#T_178f4_row14_col0,#T_178f4_row15_col0{\n",
       "            background-color:  #fff7fb;\n",
       "            color:  #000000;\n",
       "        }</style><table id=\"T_178f4_\" ><thead>    <tr>        <th class=\"blank level0\" ></th>        <th class=\"col_heading level0 col0\" >пропусков</th>    </tr></thead><tbody>\n",
       "                <tr>\n",
       "                        <th id=\"T_178f4_level0_row0\" class=\"row_heading level0 row0\" >DateCrawled</th>\n",
       "                        <td id=\"T_178f4_row0_col0\" class=\"data row0 col0\" >0</td>\n",
       "            </tr>\n",
       "            <tr>\n",
       "                        <th id=\"T_178f4_level0_row1\" class=\"row_heading level0 row1\" >Price</th>\n",
       "                        <td id=\"T_178f4_row1_col0\" class=\"data row1 col0\" >0</td>\n",
       "            </tr>\n",
       "            <tr>\n",
       "                        <th id=\"T_178f4_level0_row2\" class=\"row_heading level0 row2\" >VehicleType</th>\n",
       "                        <td id=\"T_178f4_row2_col0\" class=\"data row2 col0\" >0</td>\n",
       "            </tr>\n",
       "            <tr>\n",
       "                        <th id=\"T_178f4_level0_row3\" class=\"row_heading level0 row3\" >RegistrationYear</th>\n",
       "                        <td id=\"T_178f4_row3_col0\" class=\"data row3 col0\" >0</td>\n",
       "            </tr>\n",
       "            <tr>\n",
       "                        <th id=\"T_178f4_level0_row4\" class=\"row_heading level0 row4\" >Gearbox</th>\n",
       "                        <td id=\"T_178f4_row4_col0\" class=\"data row4 col0\" >0</td>\n",
       "            </tr>\n",
       "            <tr>\n",
       "                        <th id=\"T_178f4_level0_row5\" class=\"row_heading level0 row5\" >Power</th>\n",
       "                        <td id=\"T_178f4_row5_col0\" class=\"data row5 col0\" >0</td>\n",
       "            </tr>\n",
       "            <tr>\n",
       "                        <th id=\"T_178f4_level0_row6\" class=\"row_heading level0 row6\" >Model</th>\n",
       "                        <td id=\"T_178f4_row6_col0\" class=\"data row6 col0\" >0</td>\n",
       "            </tr>\n",
       "            <tr>\n",
       "                        <th id=\"T_178f4_level0_row7\" class=\"row_heading level0 row7\" >Kilometer</th>\n",
       "                        <td id=\"T_178f4_row7_col0\" class=\"data row7 col0\" >0</td>\n",
       "            </tr>\n",
       "            <tr>\n",
       "                        <th id=\"T_178f4_level0_row8\" class=\"row_heading level0 row8\" >RegistrationMonth</th>\n",
       "                        <td id=\"T_178f4_row8_col0\" class=\"data row8 col0\" >0</td>\n",
       "            </tr>\n",
       "            <tr>\n",
       "                        <th id=\"T_178f4_level0_row9\" class=\"row_heading level0 row9\" >FuelType</th>\n",
       "                        <td id=\"T_178f4_row9_col0\" class=\"data row9 col0\" >0</td>\n",
       "            </tr>\n",
       "            <tr>\n",
       "                        <th id=\"T_178f4_level0_row10\" class=\"row_heading level0 row10\" >Brand</th>\n",
       "                        <td id=\"T_178f4_row10_col0\" class=\"data row10 col0\" >0</td>\n",
       "            </tr>\n",
       "            <tr>\n",
       "                        <th id=\"T_178f4_level0_row11\" class=\"row_heading level0 row11\" >Repaired</th>\n",
       "                        <td id=\"T_178f4_row11_col0\" class=\"data row11 col0\" >0</td>\n",
       "            </tr>\n",
       "            <tr>\n",
       "                        <th id=\"T_178f4_level0_row12\" class=\"row_heading level0 row12\" >DateCreated</th>\n",
       "                        <td id=\"T_178f4_row12_col0\" class=\"data row12 col0\" >0</td>\n",
       "            </tr>\n",
       "            <tr>\n",
       "                        <th id=\"T_178f4_level0_row13\" class=\"row_heading level0 row13\" >NumberOfPictures</th>\n",
       "                        <td id=\"T_178f4_row13_col0\" class=\"data row13 col0\" >0</td>\n",
       "            </tr>\n",
       "            <tr>\n",
       "                        <th id=\"T_178f4_level0_row14\" class=\"row_heading level0 row14\" >PostalCode</th>\n",
       "                        <td id=\"T_178f4_row14_col0\" class=\"data row14 col0\" >0</td>\n",
       "            </tr>\n",
       "            <tr>\n",
       "                        <th id=\"T_178f4_level0_row15\" class=\"row_heading level0 row15\" >LastSeen</th>\n",
       "                        <td id=\"T_178f4_row15_col0\" class=\"data row15 col0\" >0</td>\n",
       "            </tr>\n",
       "    </tbody></table>"
      ],
      "text/plain": [
       "<pandas.io.formats.style.Styler at 0x7fa5a30e1730>"
      ]
     },
     "execution_count": 18,
     "metadata": {},
     "output_type": "execute_result"
    }
   ],
   "source": [
    "pd.DataFrame(data.isna().sum(), columns = ['пропусков']).style.background_gradient()"
   ]
  },
  {
   "cell_type": "markdown",
   "metadata": {},
   "source": [
    "### Дубликаты"
   ]
  },
  {
   "cell_type": "code",
   "execution_count": 19,
   "metadata": {},
   "outputs": [
    {
     "data": {
      "text/plain": [
       "4"
      ]
     },
     "execution_count": 19,
     "metadata": {},
     "output_type": "execute_result"
    }
   ],
   "source": [
    "data.duplicated().sum()\n",
    "\n"
   ]
  },
  {
   "cell_type": "code",
   "execution_count": 20,
   "metadata": {},
   "outputs": [
    {
     "data": {
      "text/plain": [
       "0"
      ]
     },
     "execution_count": 20,
     "metadata": {},
     "output_type": "execute_result"
    }
   ],
   "source": [
    "data = data.drop_duplicates()\n",
    "data.duplicated().sum()"
   ]
  },
  {
   "cell_type": "markdown",
   "metadata": {},
   "source": [
    "### Проверю остальные признаки"
   ]
  },
  {
   "cell_type": "code",
   "execution_count": 21,
   "metadata": {},
   "outputs": [],
   "source": [
    "#удалю лишние признаки\n",
    "data1 = data.copy()\n",
    "data = data.drop([\"DateCrawled\",\"DateCreated\",\"LastSeen\",\"NumberOfPictures\",\"PostalCode\"],axis = 1)"
   ]
  },
  {
   "cell_type": "markdown",
   "metadata": {},
   "source": [
    "<div class=\"alert alert-block alert-success\">\n",
    "<b>✔️ Комментарий ревьюера: </b> Согласен, можно удалить\n",
    "</div>"
   ]
  },
  {
   "cell_type": "code",
   "execution_count": 22,
   "metadata": {},
   "outputs": [
    {
     "name": "stdout",
     "output_type": "stream",
     "text": [
      "<class 'pandas.core.frame.DataFrame'>\n",
      "Int64Index: 354365 entries, 0 to 354368\n",
      "Data columns (total 11 columns):\n",
      " #   Column             Non-Null Count   Dtype \n",
      "---  ------             --------------   ----- \n",
      " 0   Price              354365 non-null  int64 \n",
      " 1   VehicleType        354365 non-null  object\n",
      " 2   RegistrationYear   354365 non-null  int64 \n",
      " 3   Gearbox            354365 non-null  object\n",
      " 4   Power              354365 non-null  int64 \n",
      " 5   Model              354365 non-null  object\n",
      " 6   Kilometer          354365 non-null  int64 \n",
      " 7   RegistrationMonth  354365 non-null  int64 \n",
      " 8   FuelType           354365 non-null  object\n",
      " 9   Brand              354365 non-null  object\n",
      " 10  Repaired           354365 non-null  object\n",
      "dtypes: int64(5), object(6)\n",
      "memory usage: 32.4+ MB\n"
     ]
    }
   ],
   "source": [
    "data.info()"
   ]
  },
  {
   "cell_type": "markdown",
   "metadata": {},
   "source": [
    "#### Цена - Price"
   ]
  },
  {
   "cell_type": "code",
   "execution_count": 23,
   "metadata": {},
   "outputs": [
    {
     "data": {
      "text/plain": [
       "count    354365.000000\n",
       "mean       4416.679830\n",
       "std        4514.176349\n",
       "min           0.000000\n",
       "25%        1050.000000\n",
       "50%        2700.000000\n",
       "75%        6400.000000\n",
       "max       20000.000000\n",
       "Name: Price, dtype: float64"
      ]
     },
     "execution_count": 23,
     "metadata": {},
     "output_type": "execute_result"
    }
   ],
   "source": [
    "#Посмотрю по цене\n",
    "data['Price'].describe()"
   ]
  },
  {
   "cell_type": "code",
   "execution_count": 24,
   "metadata": {},
   "outputs": [
    {
     "data": {
      "image/png": "[encoded data removed]",
      "text/plain": [
       "<Figure size 864x504 with 1 Axes>"
      ]
     },
     "metadata": {},
     "output_type": "display_data"
    }
   ],
   "source": [
    "sns.set_style('darkgrid')\n",
    "data.Price.hist(bins=50,figsize=(12,7))\n",
    "plt.title('Cтоимость автомобилей')\n",
    "plt.xlabel('Стоимость в Евро')\n",
    "plt.ylabel('Количество')\n",
    "plt.show()"
   ]
  },
  {
   "cell_type": "markdown",
   "metadata": {},
   "source": [
    "<div class=\"alert alert-block alert-success\">\n",
    "<b>✔️ Комментарий ревьюера: </b> Отличный график. Есть смещение вправо. Можно сказать, что распределение логнормальное. Оно как раз хорошо описывает доходы и цены:\n",
    "    \n",
    "https://fin-accounting.ru/cfa/l1/quantitative/cfa-lognormal-probability-distribution\n",
    "</div>\n"
   ]
  },
  {
   "cell_type": "code",
   "execution_count": 25,
   "metadata": {},
   "outputs": [
    {
     "data": {
      "image/png": "[encoded data removed]",
      "text/plain": [
       "<Figure size 864x504 with 1 Axes>"
      ]
     },
     "metadata": {},
     "output_type": "display_data"
    }
   ],
   "source": [
    "sns.set_style('darkgrid')\n",
    "data.Price.hist(bins=10,figsize=(12,7))\n",
    "plt.title('Cтоимость автомобилей')\n",
    "plt.xlabel('Стоимость в Евро')\n",
    "plt.ylabel('Количество')\n",
    "plt.show()"
   ]
  },
  {
   "cell_type": "markdown",
   "metadata": {},
   "source": [
    "<div class=\"alert alert-block alert-success\">\n",
    "<b>✔️ Комментарий ревьюера: </b> Правильно, что строишь график в разных масштабах\n",
    "</div>\n"
   ]
  },
  {
   "cell_type": "code",
   "execution_count": 26,
   "metadata": {},
   "outputs": [
    {
     "data": {
      "text/plain": [
       "0    10772\n",
       "Name: Price, dtype: int64"
      ]
     },
     "execution_count": 26,
     "metadata": {},
     "output_type": "execute_result"
    }
   ],
   "source": [
    "data['Price'][data['Price']==0].value_counts()"
   ]
  },
  {
   "cell_type": "code",
   "execution_count": 27,
   "metadata": {},
   "outputs": [],
   "source": [
    "#удаляю все 0 из целевого признака\n",
    "data = data.query('Price > 0')"
   ]
  },
  {
   "cell_type": "code",
   "execution_count": 28,
   "metadata": {},
   "outputs": [
    {
     "data": {
      "text/plain": [
       "count    343593.000000\n",
       "mean       4555.147363\n",
       "std        4515.076200\n",
       "min           1.000000\n",
       "25%        1200.000000\n",
       "50%        2890.000000\n",
       "75%        6500.000000\n",
       "max       20000.000000\n",
       "Name: Price, dtype: float64"
      ]
     },
     "execution_count": 28,
     "metadata": {},
     "output_type": "execute_result"
    }
   ],
   "source": [
    "data['Price'].describe()"
   ]
  },
  {
   "cell_type": "code",
   "execution_count": 29,
   "metadata": {},
   "outputs": [],
   "source": [
    "#авто можно купить от 500 евро - 40 тыс рублей - удаляю выбросы\n",
    "data = data.query('Price> 500')\n"
   ]
  },
  {
   "cell_type": "code",
   "execution_count": 30,
   "metadata": {},
   "outputs": [
    {
     "data": {
      "text/plain": [
       "0"
      ]
     },
     "execution_count": 30,
     "metadata": {},
     "output_type": "execute_result"
    }
   ],
   "source": [
    "data.loc[data['Price'] < 500]['Price'].count()\n"
   ]
  },
  {
   "cell_type": "markdown",
   "metadata": {},
   "source": [
    "#### Год - RegistrationYear"
   ]
  },
  {
   "cell_type": "code",
   "execution_count": 31,
   "metadata": {},
   "outputs": [
    {
     "data": {
      "text/plain": [
       "count    312641.000000\n",
       "mean       2004.225127\n",
       "std          64.356577\n",
       "min        1000.000000\n",
       "25%        2000.000000\n",
       "50%        2004.000000\n",
       "75%        2008.000000\n",
       "max        9999.000000\n",
       "Name: RegistrationYear, dtype: float64"
      ]
     },
     "execution_count": 31,
     "metadata": {},
     "output_type": "execute_result"
    }
   ],
   "source": [
    "#приступлю в дате\n",
    "data['RegistrationYear'].describe()"
   ]
  },
  {
   "cell_type": "code",
   "execution_count": 32,
   "metadata": {},
   "outputs": [],
   "source": [
    "data=data.query('RegistrationYear >= 1950 & RegistrationYear < 2023')"
   ]
  },
  {
   "cell_type": "code",
   "execution_count": 33,
   "metadata": {},
   "outputs": [
    {
     "data": {
      "text/plain": [
       "count    312489.000000\n",
       "mean       2003.588674\n",
       "std           7.090351\n",
       "min        1950.000000\n",
       "25%        2000.000000\n",
       "50%        2004.000000\n",
       "75%        2008.000000\n",
       "max        2019.000000\n",
       "Name: RegistrationYear, dtype: float64"
      ]
     },
     "execution_count": 33,
     "metadata": {},
     "output_type": "execute_result"
    }
   ],
   "source": [
    "data['RegistrationYear'].describe()"
   ]
  },
  {
   "cell_type": "code",
   "execution_count": 34,
   "metadata": {},
   "outputs": [
    {
     "data": {
      "image/png": "[encoded data removed]",
      "text/plain": [
       "<Figure size 864x504 with 1 Axes>"
      ]
     },
     "metadata": {},
     "output_type": "display_data"
    }
   ],
   "source": [
    "sns.set_style('darkgrid')\n",
    "data.RegistrationYear.hist(bins=50,figsize=(12,7))\n",
    "plt.title('График по году регистрации автомобиля')\n",
    "plt.xlabel('Год')\n",
    "plt.ylabel('Количество')\n",
    "plt.show()"
   ]
  },
  {
   "cell_type": "markdown",
   "metadata": {},
   "source": [
    "#### Power - мощность"
   ]
  },
  {
   "cell_type": "code",
   "execution_count": 35,
   "metadata": {},
   "outputs": [
    {
     "data": {
      "text/plain": [
       "count    312489.000000\n",
       "mean        115.671201\n",
       "std         188.907447\n",
       "min           0.000000\n",
       "25%          75.000000\n",
       "50%         109.000000\n",
       "75%         147.000000\n",
       "max       20000.000000\n",
       "Name: Power, dtype: float64"
      ]
     },
     "execution_count": 35,
     "metadata": {},
     "output_type": "execute_result"
    }
   ],
   "source": [
    "data['Power'].describe()"
   ]
  },
  {
   "cell_type": "code",
   "execution_count": 36,
   "metadata": {},
   "outputs": [],
   "source": [
    "#Очевидно, что таких мощностей не бывает - удаляю\n",
    "data=data.query('Power > 5 & Power < 3000')\n"
   ]
  },
  {
   "cell_type": "markdown",
   "metadata": {},
   "source": [
    "#### Kilometer"
   ]
  },
  {
   "cell_type": "code",
   "execution_count": 37,
   "metadata": {},
   "outputs": [
    {
     "data": {
      "text/plain": [
       "count    284738.000000\n",
       "mean     127692.264468\n",
       "std       36954.067772\n",
       "min        5000.000000\n",
       "25%      125000.000000\n",
       "50%      150000.000000\n",
       "75%      150000.000000\n",
       "max      150000.000000\n",
       "Name: Kilometer, dtype: float64"
      ]
     },
     "execution_count": 37,
     "metadata": {},
     "output_type": "execute_result"
    }
   ],
   "source": [
    "data['Kilometer'].describe()"
   ]
  },
  {
   "cell_type": "code",
   "execution_count": 38,
   "metadata": {},
   "outputs": [
    {
     "data": {
      "image/png": "[encoded data removed]",
      "text/plain": [
       "<Figure size 864x504 with 1 Axes>"
      ]
     },
     "metadata": {},
     "output_type": "display_data"
    }
   ],
   "source": [
    "sns.set_style('darkgrid')\n",
    "data.Kilometer.hist(bins=10,figsize=(12,7))\n",
    "plt.title('График по пробегу')\n",
    "plt.xlabel('Км')\n",
    "plt.ylabel('Количество')\n",
    "plt.show()"
   ]
  },
  {
   "cell_type": "code",
   "execution_count": 39,
   "metadata": {},
   "outputs": [
    {
     "data": {
      "text/plain": [
       "150000    186010\n",
       "Name: Kilometer, dtype: int64"
      ]
     },
     "execution_count": 39,
     "metadata": {},
     "output_type": "execute_result"
    }
   ],
   "source": [
    "data['Kilometer'][data['Kilometer']==150000].value_counts()"
   ]
  },
  {
   "cell_type": "code",
   "execution_count": 40,
   "metadata": {},
   "outputs": [
    {
     "data": {
      "text/plain": [
       "150000    186010\n",
       "125000     31272\n",
       "100000     12696\n",
       "90000      10264\n",
       "80000       9070\n",
       "70000       7845\n",
       "60000       6860\n",
       "50000       5715\n",
       "40000       4526\n",
       "30000       3862\n",
       "20000       3225\n",
       "5000        2490\n",
       "10000        903\n",
       "Name: Kilometer, dtype: int64"
      ]
     },
     "execution_count": 40,
     "metadata": {},
     "output_type": "execute_result"
    }
   ],
   "source": [
    "#видимо, это особенности заполнения данных\n",
    "data.Kilometer.value_counts()\n"
   ]
  },
  {
   "cell_type": "markdown",
   "metadata": {},
   "source": [
    "<div class=\"alert alert-block alert-success\">\n",
    "<b>✔️ Комментарий ревьюера: </b> Да, так\n",
    "</div>\n"
   ]
  },
  {
   "cell_type": "markdown",
   "metadata": {},
   "source": [
    "#### RegistrationMonth"
   ]
  },
  {
   "cell_type": "code",
   "execution_count": 41,
   "metadata": {},
   "outputs": [
    {
     "data": {
      "text/plain": [
       "count    284738.000000\n",
       "mean          6.051655\n",
       "std           3.563813\n",
       "min           0.000000\n",
       "25%           3.000000\n",
       "50%           6.000000\n",
       "75%           9.000000\n",
       "max          12.000000\n",
       "Name: RegistrationMonth, dtype: float64"
      ]
     },
     "execution_count": 41,
     "metadata": {},
     "output_type": "execute_result"
    }
   ],
   "source": [
    "data['RegistrationMonth'].describe()"
   ]
  },
  {
   "cell_type": "code",
   "execution_count": 42,
   "metadata": {},
   "outputs": [],
   "source": [
    "#  0 - мне не подходит - заменю на ближайшее\n",
    "data=data.query('RegistrationMonth >0').fillna(method='ffill')\n"
   ]
  },
  {
   "cell_type": "code",
   "execution_count": 43,
   "metadata": {},
   "outputs": [
    {
     "data": {
      "text/plain": [
       "array([ 5,  8,  6,  7, 10, 12, 11,  2,  3,  1,  4,  9])"
      ]
     },
     "execution_count": 43,
     "metadata": {},
     "output_type": "execute_result"
    }
   ],
   "source": [
    "data['RegistrationMonth'].unique()"
   ]
  },
  {
   "cell_type": "markdown",
   "metadata": {},
   "source": [
    "#### Brand"
   ]
  },
  {
   "cell_type": "code",
   "execution_count": 44,
   "metadata": {},
   "outputs": [
    {
     "data": {
      "text/plain": [
       "array(['audi', 'jeep', 'volkswagen', 'skoda', 'bmw', 'peugeot', 'ford',\n",
       "       'mazda', 'nissan', 'renault', 'mercedes_benz', 'opel', 'citroen',\n",
       "       'honda', 'fiat', 'mini', 'smart', 'hyundai', 'seat', 'subaru',\n",
       "       'volvo', 'mitsubishi', 'alfa_romeo', 'kia', 'suzuki', 'lancia',\n",
       "       'toyota', 'chevrolet', 'dacia', 'daihatsu', 'chrysler',\n",
       "       'sonstige_autos', 'jaguar', 'rover', 'porsche', 'saab', 'daewoo',\n",
       "       'trabant', 'land_rover', 'lada'], dtype=object)"
      ]
     },
     "execution_count": 44,
     "metadata": {},
     "output_type": "execute_result"
    }
   ],
   "source": [
    "#вроде все ок\n",
    "data['Brand'].unique()"
   ]
  },
  {
   "cell_type": "markdown",
   "metadata": {},
   "source": [
    "### Красивый стиль"
   ]
  },
  {
   "cell_type": "code",
   "execution_count": 45,
   "metadata": {},
   "outputs": [
    {
     "data": {
      "text/plain": [
       "Index(['price', 'vehicle_type', 'registration_year', 'gearbox', 'power',\n",
       "       'model', 'kilometer', 'registration_month', 'fuel_type', 'brand',\n",
       "       'repaired'],\n",
       "      dtype='object')"
      ]
     },
     "execution_count": 45,
     "metadata": {},
     "output_type": "execute_result"
    }
   ],
   "source": [
    "#перевожу названия в змеиный стиль\n",
    "data.columns = data.columns.str.replace(r\"([A-Z])\", r\" \\1\").str.lower().str.replace(' ', '_').str[1:]\n",
    "data.columns"
   ]
  },
  {
   "cell_type": "code",
   "execution_count": 46,
   "metadata": {},
   "outputs": [],
   "source": [
    "# посмотрю корреляцию"
   ]
  },
  {
   "cell_type": "code",
   "execution_count": 47,
   "metadata": {},
   "outputs": [
    {
     "data": {
      "text/html": [
       "<style  type=\"text/css\" >\n",
       "#T_977be_row0_col0,#T_977be_row1_col1,#T_977be_row2_col2,#T_977be_row3_col3,#T_977be_row4_col4{\n",
       "            background-color:  #b40426;\n",
       "            color:  #f1f1f1;\n",
       "        }#T_977be_row0_col1{\n",
       "            background-color:  #ead4c8;\n",
       "            color:  #000000;\n",
       "        }#T_977be_row0_col2{\n",
       "            background-color:  #bed2f6;\n",
       "            color:  #000000;\n",
       "        }#T_977be_row0_col3,#T_977be_row1_col4,#T_977be_row3_col0,#T_977be_row3_col1,#T_977be_row4_col2{\n",
       "            background-color:  #3b4cc0;\n",
       "            color:  #f1f1f1;\n",
       "        }#T_977be_row0_col4,#T_977be_row3_col4{\n",
       "            background-color:  #3c4ec2;\n",
       "            color:  #f1f1f1;\n",
       "        }#T_977be_row1_col0{\n",
       "            background-color:  #f1cdba;\n",
       "            color:  #000000;\n",
       "        }#T_977be_row1_col2{\n",
       "            background-color:  #4961d2;\n",
       "            color:  #f1f1f1;\n",
       "        }#T_977be_row1_col3{\n",
       "            background-color:  #536edd;\n",
       "            color:  #000000;\n",
       "        }#T_977be_row2_col0{\n",
       "            background-color:  #edd1c2;\n",
       "            color:  #000000;\n",
       "        }#T_977be_row2_col1{\n",
       "            background-color:  #96b7ff;\n",
       "            color:  #000000;\n",
       "        }#T_977be_row2_col3{\n",
       "            background-color:  #b3cdfb;\n",
       "            color:  #000000;\n",
       "        }#T_977be_row2_col4{\n",
       "            background-color:  #3f53c6;\n",
       "            color:  #f1f1f1;\n",
       "        }#T_977be_row3_col2{\n",
       "            background-color:  #5572df;\n",
       "            color:  #000000;\n",
       "        }#T_977be_row4_col0{\n",
       "            background-color:  #9abbff;\n",
       "            color:  #000000;\n",
       "        }#T_977be_row4_col1{\n",
       "            background-color:  #82a6fb;\n",
       "            color:  #000000;\n",
       "        }#T_977be_row4_col3{\n",
       "            background-color:  #9bbcff;\n",
       "            color:  #000000;\n",
       "        }</style><table id=\"T_977be_\" ><thead>    <tr>        <th class=\"blank level0\" ></th>        <th class=\"col_heading level0 col0\" >price</th>        <th class=\"col_heading level0 col1\" >registration_year</th>        <th class=\"col_heading level0 col2\" >power</th>        <th class=\"col_heading level0 col3\" >kilometer</th>        <th class=\"col_heading level0 col4\" >registration_month</th>    </tr></thead><tbody>\n",
       "                <tr>\n",
       "                        <th id=\"T_977be_level0_row0\" class=\"row_heading level0 row0\" >price</th>\n",
       "                        <td id=\"T_977be_row0_col0\" class=\"data row0 col0\" >1.000000</td>\n",
       "                        <td id=\"T_977be_row0_col1\" class=\"data row0 col1\" >0.432268</td>\n",
       "                        <td id=\"T_977be_row0_col2\" class=\"data row0 col2\" >0.402108</td>\n",
       "                        <td id=\"T_977be_row0_col3\" class=\"data row0 col3\" >-0.395545</td>\n",
       "                        <td id=\"T_977be_row0_col4\" class=\"data row0 col4\" >0.007778</td>\n",
       "            </tr>\n",
       "            <tr>\n",
       "                        <th id=\"T_977be_level0_row1\" class=\"row_heading level0 row1\" >registration_year</th>\n",
       "                        <td id=\"T_977be_row1_col0\" class=\"data row1 col0\" >0.432268</td>\n",
       "                        <td id=\"T_977be_row1_col1\" class=\"data row1 col1\" >1.000000</td>\n",
       "                        <td id=\"T_977be_row1_col2\" class=\"data row1 col2\" >0.068184</td>\n",
       "                        <td id=\"T_977be_row1_col3\" class=\"data row1 col3\" >-0.282807</td>\n",
       "                        <td id=\"T_977be_row1_col4\" class=\"data row1 col4\" >0.001942</td>\n",
       "            </tr>\n",
       "            <tr>\n",
       "                        <th id=\"T_977be_level0_row2\" class=\"row_heading level0 row2\" >power</th>\n",
       "                        <td id=\"T_977be_row2_col0\" class=\"data row2 col0\" >0.402108</td>\n",
       "                        <td id=\"T_977be_row2_col1\" class=\"data row2 col1\" >0.068184</td>\n",
       "                        <td id=\"T_977be_row2_col2\" class=\"data row2 col2\" >1.000000</td>\n",
       "                        <td id=\"T_977be_row2_col3\" class=\"data row2 col3\" >0.106272</td>\n",
       "                        <td id=\"T_977be_row2_col4\" class=\"data row2 col4\" >0.018363</td>\n",
       "            </tr>\n",
       "            <tr>\n",
       "                        <th id=\"T_977be_level0_row3\" class=\"row_heading level0 row3\" >kilometer</th>\n",
       "                        <td id=\"T_977be_row3_col0\" class=\"data row3 col0\" >-0.395545</td>\n",
       "                        <td id=\"T_977be_row3_col1\" class=\"data row3 col1\" >-0.282807</td>\n",
       "                        <td id=\"T_977be_row3_col2\" class=\"data row3 col2\" >0.106272</td>\n",
       "                        <td id=\"T_977be_row3_col3\" class=\"data row3 col3\" >1.000000</td>\n",
       "                        <td id=\"T_977be_row3_col4\" class=\"data row3 col4\" >0.009482</td>\n",
       "            </tr>\n",
       "            <tr>\n",
       "                        <th id=\"T_977be_level0_row4\" class=\"row_heading level0 row4\" >registration_month</th>\n",
       "                        <td id=\"T_977be_row4_col0\" class=\"data row4 col0\" >0.007778</td>\n",
       "                        <td id=\"T_977be_row4_col1\" class=\"data row4 col1\" >0.001942</td>\n",
       "                        <td id=\"T_977be_row4_col2\" class=\"data row4 col2\" >0.018363</td>\n",
       "                        <td id=\"T_977be_row4_col3\" class=\"data row4 col3\" >0.009482</td>\n",
       "                        <td id=\"T_977be_row4_col4\" class=\"data row4 col4\" >1.000000</td>\n",
       "            </tr>\n",
       "    </tbody></table>"
      ],
      "text/plain": [
       "<pandas.io.formats.style.Styler at 0x7fa5a2d88c10>"
      ]
     },
     "execution_count": 47,
     "metadata": {},
     "output_type": "execute_result"
    }
   ],
   "source": [
    "data\\\n",
    "    .corr()\\\n",
    "    .style\\\n",
    "    .background_gradient(cmap='coolwarm')"
   ]
  },
  {
   "cell_type": "markdown",
   "metadata": {},
   "source": [
    "<div class=\"alert alert-block alert-success\">\n",
    "<b>✔️ Комментарий ревьюера️:</b> Да, так. Ещё можно попробовать использовать phik корреляцию. Удобно, так как покажет зависимости не только между колличественными, но и качественными признаками:\n",
    "    \n",
    "https://towardsdatascience.com/phik-k-get-familiar-with-the-latest-correlation-coefficient-9ba0032b37e7\n",
    "</div>\n"
   ]
  },
  {
   "cell_type": "code",
   "execution_count": 48,
   "metadata": {},
   "outputs": [],
   "source": [
    "#data"
   ]
  },
  {
   "cell_type": "markdown",
   "metadata": {},
   "source": [
    "Вывод:\n",
    "Удалила признаки, которые никак не влияют на цену - \"DateCrawled\",\"DateCreated\",\"LastSeen\",\"NumberOfPictures\",\"PostalCode\".\n",
    "\n",
    "Заменила пропуски в признаках.\n",
    "\n",
    "Удалила некорректные значения и выбросы в признаках. \n",
    "\n",
    "Удалила дубликаты - 4 шт\n",
    "\n",
    "Проверила корреляцию: все в рамках разумных пределов, наиболее коррелирующим с целевым признаком являются признаки, отвечающие за мощность и год регистрации авто.\n",
    "\n",
    "Привела датафрейм к единому змеиному стилю."
   ]
  },
  {
   "cell_type": "markdown",
   "metadata": {},
   "source": [
    "<div class=\"alert alert-block alert-success\">\n",
    "<b>✔️ Комментарий ревьюера:</b> Да, верно. Ещё можно использовать библиотеку pandas_profiling для автоматического построения подробных отчётов:\n",
    "\n",
    "https://habr.com/ru/company/ruvds/blog/451478/\n",
    "</div>"
   ]
  },
  {
   "cell_type": "markdown",
   "metadata": {},
   "source": [
    "## Обучение моделей"
   ]
  },
  {
   "cell_type": "code",
   "execution_count": 49,
   "metadata": {},
   "outputs": [],
   "source": [
    " #Подготовлю выборки для обучения моделей"
   ]
  },
  {
   "cell_type": "code",
   "execution_count": null,
   "metadata": {},
   "outputs": [],
   "source": []
  },
  {
   "cell_type": "code",
   "execution_count": 50,
   "metadata": {},
   "outputs": [],
   "source": [
    "target = data['price'] \n",
    "#целевой\n",
    "features = data.drop('price', axis=1)\n",
    "#выборка\n",
    "#features_train, features_valid, target_train, target_valid = train_test_split(features, \n",
    "#                                                                                  target, \n",
    " #                                                                                 test_size=0.25, \n",
    "  #                                                                                random_state=1)\n",
    "features_train, features_test, target_train, target_test = train_test_split(features,\n",
    "                                                                            target, \n",
    "                                                                            test_size=.25,\n",
    "                                                                            random_state=12345)"
   ]
  },
  {
   "cell_type": "code",
   "execution_count": 51,
   "metadata": {},
   "outputs": [],
   "source": [
    "#Избавляемся от категориальных признаков методом Ohe\n",
    "en = ['vehicle_type','gearbox', 'model', 'fuel_type', 'brand', 'repaired']\n",
    "encoder = OneHotEncoder(handle_unknown ='error',drop='first')\n",
    "encoder.fit(features_train[en])\n",
    "data_ohe_ftrain = encoder.transform(features_train[en]).toarray()\n",
    "\n",
    "data_ohe_ftest = encoder.transform(features_test[en]).toarray()\n"
   ]
  },
  {
   "cell_type": "code",
   "execution_count": 52,
   "metadata": {},
   "outputs": [],
   "source": [
    "data_df_ohe = pd.DataFrame(data_ohe_ftrain, columns = encoder.get_feature_names())\n",
    "\n",
    "data_df_ohe2 = pd.DataFrame(data_ohe_ftest, columns = encoder.get_feature_names())"
   ]
  },
  {
   "cell_type": "code",
   "execution_count": 53,
   "metadata": {},
   "outputs": [],
   "source": [
    "data = data.join(data_df_ohe)"
   ]
  },
  {
   "cell_type": "code",
   "execution_count": 54,
   "metadata": {},
   "outputs": [
    {
     "name": "stdout",
     "output_type": "stream",
     "text": [
      "201902\n",
      "67301\n"
     ]
    }
   ],
   "source": [
    "print(features_train.shape[0])\n",
    "\n",
    "print(features_test.shape[0])"
   ]
  },
  {
   "cell_type": "code",
   "execution_count": 55,
   "metadata": {},
   "outputs": [
    {
     "name": "stdout",
     "output_type": "stream",
     "text": [
      "Размер тренировочной выборки- 75%\n",
      "Размер тестовой выборки - 25%\n"
     ]
    }
   ],
   "source": [
    "train_sample=features_train.shape[0]/features.shape[0]\n",
    "test_sample=target_test.shape[0]/target.shape[0]\n",
    "\n",
    "print('Размер тренировочной выборки- {:.0%}'.format(train_sample))\n",
    "print('Размер тестовой выборки - {:.0%}'.format(test_sample))"
   ]
  },
  {
   "cell_type": "code",
   "execution_count": 56,
   "metadata": {},
   "outputs": [],
   "source": [
    "features_train.drop(en, axis = 1, inplace=True)\n",
    "features_test.drop(en, axis = 1, inplace=True)"
   ]
  },
  {
   "cell_type": "code",
   "execution_count": 57,
   "metadata": {},
   "outputs": [],
   "source": [
    "features_train.reset_index(drop=True, inplace=True)\n",
    "features_test.reset_index(drop=True, inplace=True)"
   ]
  },
  {
   "cell_type": "code",
   "execution_count": 58,
   "metadata": {},
   "outputs": [],
   "source": [
    "features_train = features_train.join(data_df_ohe)\n",
    "features_test = features_test.join(data_df_ohe2)"
   ]
  },
  {
   "cell_type": "code",
   "execution_count": 59,
   "metadata": {},
   "outputs": [
    {
     "data": {
      "text/plain": [
       "array([1., 0.])"
      ]
     },
     "execution_count": 59,
     "metadata": {},
     "output_type": "execute_result"
    }
   ],
   "source": [
    "features_train['x0_small'].unique()"
   ]
  },
  {
   "cell_type": "markdown",
   "metadata": {},
   "source": [
    "<div class=\"alert alert-block alert-danger\">\n",
    "<b>❌ Комментарий ревьюера:</b> Nan значения возникли после этапа кодирования признаков. Такого быть не должно. Думаю, что ошибка в join. Это из-за несоответствия индексов. Предлагаю сделать reset_index для features_train и features_test.\n",
    "</div>"
   ]
  },
  {
   "cell_type": "markdown",
   "metadata": {},
   "source": [
    "<div class=\"alert alert-block alert-success\">\n",
    "<b>✔️ Комментарий ревьюера v2: </b> Да, теперь верно\n",
    "</div>"
   ]
  },
  {
   "cell_type": "code",
   "execution_count": 60,
   "metadata": {},
   "outputs": [],
   "source": [
    "#features_train = features_train.fillna(features_train.median())\n",
    "#features_test = features_test.fillna(features_test.median())"
   ]
  },
  {
   "cell_type": "code",
   "execution_count": 61,
   "metadata": {},
   "outputs": [],
   "source": [
    "#features_train['x0_small'].unique()"
   ]
  },
  {
   "cell_type": "code",
   "execution_count": 62,
   "metadata": {},
   "outputs": [
    {
     "data": {
      "text/plain": [
       "(5283.3575695139225, 5274.646632293725)"
      ]
     },
     "execution_count": 62,
     "metadata": {},
     "output_type": "execute_result"
    }
   ],
   "source": [
    "#дисбаланса нет\n",
    "target_train.mean(), target_test.mean()"
   ]
  },
  {
   "cell_type": "markdown",
   "metadata": {},
   "source": [
    "<div class=\"alert alert-block alert-success\">\n",
    "<b>✔️ Комментарий ревьюера: </b> Дисбаланс применяется к задачам классификации. Для регрессионных задач сравнивают распределения. В данном случае предлагаю провести два статистических теста на равенство средних и равенство дисперсий:\n",
    "    \n",
    "https://www.codecamp.ru/blog/f-test-python/\n",
    "</div>"
   ]
  },
  {
   "cell_type": "code",
   "execution_count": 63,
   "metadata": {},
   "outputs": [],
   "source": [
    "#features_test"
   ]
  },
  {
   "cell_type": "code",
   "execution_count": 64,
   "metadata": {},
   "outputs": [],
   "source": [
    "#данные подготовлены"
   ]
  },
  {
   "cell_type": "code",
   "execution_count": 65,
   "metadata": {},
   "outputs": [],
   "source": [
    "del data_df_ohe\n",
    "del data_df_ohe2\n",
    "del data\n",
    "del data_ohe_ftrain\n",
    "del data_ohe_ftest"
   ]
  },
  {
   "cell_type": "markdown",
   "metadata": {},
   "source": [
    "<div class=\"alert alert-block alert-success\">\n",
    "<b>✔️ Комментарий ревьюера v2: </b> Много лишних переменных было заведено\n",
    "</div>"
   ]
  },
  {
   "cell_type": "markdown",
   "metadata": {},
   "source": [
    "<div class=\"alert alert-block alert-success\">\n",
    "<b>✔️ Комментарий ревьюера: </b> Хорошо, выборки подготовлены\n",
    "</div>"
   ]
  },
  {
   "cell_type": "markdown",
   "metadata": {},
   "source": [
    "## Анализ моделей"
   ]
  },
  {
   "cell_type": "markdown",
   "metadata": {},
   "source": [
    "### Модель LinearRegression\n"
   ]
  },
  {
   "cell_type": "code",
   "execution_count": 66,
   "metadata": {},
   "outputs": [
    {
     "name": "stdout",
     "output_type": "stream",
     "text": [
      "CPU times: user 22.2 s, sys: 22.4 s, total: 44.7 s\n",
      "Wall time: 44.8 s\n"
     ]
    },
    {
     "data": {
      "text/html": [
       "<style>#sk-container-id-1 {color: black;background-color: white;}#sk-container-id-1 pre{padding: 0;}#sk-container-id-1 div.sk-toggleable {background-color: white;}#sk-container-id-1 label.sk-toggleable__label {cursor: pointer;display: block;width: 100%;margin-bottom: 0;padding: 0.3em;box-sizing: border-box;text-align: center;}#sk-container-id-1 label.sk-toggleable__label-arrow:before {content: \"▸\";float: left;margin-right: 0.25em;color: #696969;}#sk-container-id-1 label.sk-toggleable__label-arrow:hover:before {color: black;}#sk-container-id-1 div.sk-estimator:hover label.sk-toggleable__label-arrow:before {color: black;}#sk-container-id-1 div.sk-toggleable__content {max-height: 0;max-width: 0;overflow: hidden;text-align: left;background-color: #f0f8ff;}#sk-container-id-1 div.sk-toggleable__content pre {margin: 0.2em;color: black;border-radius: 0.25em;background-color: #f0f8ff;}#sk-container-id-1 input.sk-toggleable__control:checked~div.sk-toggleable__content {max-height: 200px;max-width: 100%;overflow: auto;}#sk-container-id-1 input.sk-toggleable__control:checked~label.sk-toggleable__label-arrow:before {content: \"▾\";}#sk-container-id-1 div.sk-estimator input.sk-toggleable__control:checked~label.sk-toggleable__label {background-color: #d4ebff;}#sk-container-id-1 div.sk-label input.sk-toggleable__control:checked~label.sk-toggleable__label {background-color: #d4ebff;}#sk-container-id-1 input.sk-hidden--visually {border: 0;clip: rect(1px 1px 1px 1px);clip: rect(1px, 1px, 1px, 1px);height: 1px;margin: -1px;overflow: hidden;padding: 0;position: absolute;width: 1px;}#sk-container-id-1 div.sk-estimator {font-family: monospace;background-color: #f0f8ff;border: 1px dotted black;border-radius: 0.25em;box-sizing: border-box;margin-bottom: 0.5em;}#sk-container-id-1 div.sk-estimator:hover {background-color: #d4ebff;}#sk-container-id-1 div.sk-parallel-item::after {content: \"\";width: 100%;border-bottom: 1px solid gray;flex-grow: 1;}#sk-container-id-1 div.sk-label:hover label.sk-toggleable__label {background-color: #d4ebff;}#sk-container-id-1 div.sk-serial::before {content: \"\";position: absolute;border-left: 1px solid gray;box-sizing: border-box;top: 0;bottom: 0;left: 50%;z-index: 0;}#sk-container-id-1 div.sk-serial {display: flex;flex-direction: column;align-items: center;background-color: white;padding-right: 0.2em;padding-left: 0.2em;position: relative;}#sk-container-id-1 div.sk-item {position: relative;z-index: 1;}#sk-container-id-1 div.sk-parallel {display: flex;align-items: stretch;justify-content: center;background-color: white;position: relative;}#sk-container-id-1 div.sk-item::before, #sk-container-id-1 div.sk-parallel-item::before {content: \"\";position: absolute;border-left: 1px solid gray;box-sizing: border-box;top: 0;bottom: 0;left: 50%;z-index: -1;}#sk-container-id-1 div.sk-parallel-item {display: flex;flex-direction: column;z-index: 1;position: relative;background-color: white;}#sk-container-id-1 div.sk-parallel-item:first-child::after {align-self: flex-end;width: 50%;}#sk-container-id-1 div.sk-parallel-item:last-child::after {align-self: flex-start;width: 50%;}#sk-container-id-1 div.sk-parallel-item:only-child::after {width: 0;}#sk-container-id-1 div.sk-dashed-wrapped {border: 1px dashed gray;margin: 0 0.4em 0.5em 0.4em;box-sizing: border-box;padding-bottom: 0.4em;background-color: white;}#sk-container-id-1 div.sk-label label {font-family: monospace;font-weight: bold;display: inline-block;line-height: 1.2em;}#sk-container-id-1 div.sk-label-container {text-align: center;}#sk-container-id-1 div.sk-container {/* jupyter's `normalize.less` sets `[hidden] { display: none; }` but bootstrap.min.css set `[hidden] { display: none !important; }` so we also need the `!important` here to be able to override the default hidden behavior on the sphinx rendered scikit-learn.org. See: https://github.com/scikit-learn/scikit-learn/issues/21755 */display: inline-block !important;position: relative;}#sk-container-id-1 div.sk-text-repr-fallback {display: none;}</style><div id=\"sk-container-id-1\" class=\"sk-top-container\"><div class=\"sk-text-repr-fallback\"><pre>LinearRegression()</pre><b>In a Jupyter environment, please rerun this cell to show the HTML representation or trust the notebook. <br />On GitHub, the HTML representation is unable to render, please try loading this page with nbviewer.org.</b></div><div class=\"sk-container\" hidden><div class=\"sk-item\"><div class=\"sk-estimator sk-toggleable\"><input class=\"sk-toggleable__control sk-hidden--visually\" id=\"sk-estimator-id-1\" type=\"checkbox\" checked><label for=\"sk-estimator-id-1\" class=\"sk-toggleable__label sk-toggleable__label-arrow\">LinearRegression</label><div class=\"sk-toggleable__content\"><pre>LinearRegression()</pre></div></div></div></div></div>"
      ],
      "text/plain": [
       "LinearRegression()"
      ]
     },
     "execution_count": 66,
     "metadata": {},
     "output_type": "execute_result"
    }
   ],
   "source": [
    "%%time\n",
    "\n",
    "model_lr = LinearRegression()\n",
    "model_lr.fit(features_train, target_train)"
   ]
  },
  {
   "cell_type": "code",
   "execution_count": 67,
   "metadata": {},
   "outputs": [
    {
     "name": "stdout",
     "output_type": "stream",
     "text": [
      "CPU times: user 236 ms, sys: 208 ms, total: 444 ms\n",
      "Wall time: 460 ms\n"
     ]
    }
   ],
   "source": [
    "%%time\n",
    "\n",
    "target_predict = model_lr.predict(features_train)"
   ]
  },
  {
   "cell_type": "code",
   "execution_count": 68,
   "metadata": {},
   "outputs": [
    {
     "data": {
      "text/plain": [
       "2705.828069348864"
      ]
     },
     "execution_count": 68,
     "metadata": {},
     "output_type": "execute_result"
    }
   ],
   "source": [
    "#очень плохие показатели - не нашла ошибку \n",
    "rmse_lr = mean_squared_error(target_train, target_predict) ** .5\n",
    "rmse_lr"
   ]
  },
  {
   "cell_type": "markdown",
   "metadata": {},
   "source": [
    "<div class=\"alert alert-block alert-success\">\n",
    "<b>✔️ Комментарий ревьюера️: </b> Для линейной регрессии нормальный результат\n",
    "</div>"
   ]
  },
  {
   "cell_type": "code",
   "execution_count": 69,
   "metadata": {},
   "outputs": [
    {
     "data": {
      "text/plain": [
       "7353682.6895138975"
      ]
     },
     "execution_count": 69,
     "metadata": {},
     "output_type": "execute_result"
    }
   ],
   "source": [
    "# C использованием кроссвалидации\n",
    "cvs_rmse_lr = (cross_val_score(model_lr,\n",
    "                               features_train,\n",
    "                               target_train,\n",
    "                               cv=5,\n",
    "                               scoring='neg_mean_squared_error')).mean() * -1 ** .5\n",
    "cvs_rmse_lr"
   ]
  },
  {
   "cell_type": "markdown",
   "metadata": {},
   "source": [
    "### CatBoostRegressor\n"
   ]
  },
  {
   "cell_type": "code",
   "execution_count": 70,
   "metadata": {},
   "outputs": [
    {
     "name": "stdout",
     "output_type": "stream",
     "text": [
      "CPU times: user 27.7 s, sys: 879 ms, total: 28.6 s\n",
      "Wall time: 29.9 s\n"
     ]
    },
    {
     "data": {
      "text/plain": [
       "<catboost.core.CatBoostRegressor at 0x7fa5a2e2c2b0>"
      ]
     },
     "execution_count": 70,
     "metadata": {},
     "output_type": "execute_result"
    }
   ],
   "source": [
    "%%time\n",
    "\n",
    "model_cbr = CatBoostRegressor(learning_rate=.5, random_state=12345, verbose=False) \n",
    "model_cbr.fit(features_train, target_train)"
   ]
  },
  {
   "cell_type": "markdown",
   "metadata": {},
   "source": [
    "<div class=\"alert alert-block alert-warning\">\n",
    "<b>⚠️ Комментарий ревьюера: </b> \n",
    "Catboost может обрабатывать категориальные признаки напрямую, внутри модели. \n",
    "Для этого он использует более продвинутые механизмы, поэтому для него кодировать признаки не нужно:\n",
    "\n",
    "https://catboost.ai/en/docs/features/categorical-features\n",
    "\n",
    "https://towardsdatascience.com/how-catboost-encodes-categorical-variables-3866fb2ae640\n",
    "\n",
    "https://www.kaggle.com/code/kgxiao/comparison-of-catboost-and-one-hot-encoding\n",
    "</div>"
   ]
  },
  {
   "cell_type": "code",
   "execution_count": 71,
   "metadata": {},
   "outputs": [
    {
     "name": "stdout",
     "output_type": "stream",
     "text": [
      "CPU times: user 27.2 s, sys: 675 ms, total: 27.8 s\n",
      "Wall time: 29 s\n"
     ]
    },
    {
     "data": {
      "text/plain": [
       "<catboost.core.CatBoostRegressor at 0x7fa5a2f3f280>"
      ]
     },
     "execution_count": 71,
     "metadata": {},
     "output_type": "execute_result"
    }
   ],
   "source": [
    "%%time\n",
    "\n",
    "model_cbr = CatBoostRegressor(learning_rate=.1, random_state=12345, verbose=False) \n",
    "model_cbr.fit(features_train, target_train)"
   ]
  },
  {
   "cell_type": "code",
   "execution_count": 72,
   "metadata": {},
   "outputs": [
    {
     "name": "stdout",
     "output_type": "stream",
     "text": [
      "CPU times: user 28.6 s, sys: 647 ms, total: 29.3 s\n",
      "Wall time: 30.9 s\n"
     ]
    },
    {
     "data": {
      "text/plain": [
       "<catboost.core.CatBoostRegressor at 0x7fa5a2f3fc10>"
      ]
     },
     "execution_count": 72,
     "metadata": {},
     "output_type": "execute_result"
    }
   ],
   "source": [
    "%%time\n",
    "\n",
    "model_cbr = CatBoostRegressor(learning_rate=.8, random_state=12345, verbose=False) \n",
    "model_cbr.fit(features_train, target_train)"
   ]
  },
  {
   "cell_type": "code",
   "execution_count": 73,
   "metadata": {},
   "outputs": [],
   "source": [
    "target_predict = model_cbr.predict(features_train)\n"
   ]
  },
  {
   "cell_type": "code",
   "execution_count": 74,
   "metadata": {},
   "outputs": [
    {
     "data": {
      "text/plain": [
       "1304.714622784368"
      ]
     },
     "execution_count": 74,
     "metadata": {},
     "output_type": "execute_result"
    }
   ],
   "source": [
    "rmse_cbr=mean_squared_error(target_train, target_predict) ** .5\n",
    "rmse_cbr"
   ]
  },
  {
   "cell_type": "markdown",
   "metadata": {},
   "source": [
    "<div class=\"alert alert-block alert-warning\">\n",
    "<b>⚠️ Комментарий ревьюера: </b>  RMSE можно посчитать, задав параметр squared=False у функции mean_squared_error\n",
    "</div>"
   ]
  },
  {
   "cell_type": "markdown",
   "metadata": {},
   "source": [
    "### LightGBM"
   ]
  },
  {
   "cell_type": "code",
   "execution_count": 75,
   "metadata": {},
   "outputs": [],
   "source": [
    "#%%time\n",
    "\n",
    "#model_lgbm = LGBMRegressor() \n",
    "#parameters = [{'num_leaves':[25, 50, 100, 200], 'learning_rate':[.1, .3, .5], 'random_state':[12345]}]\n",
    "\n",
    "#clf = GridSearchCV(model_lgbm, parameters, scoring='neg_mean_squared_error')\n",
    "#clf.fit(features_train, target_train)\n",
    "\n",
    "#print(clf.best_params_)\n",
    "#print()\n",
    "\n",
    "#mts= clf.cv_results_['mean_test_score']\n",
    "\n",
    "#rmse_lgbm = (max(mts) * -1) ** .5\n",
    "#rmse_lgbm"
   ]
  },
  {
   "cell_type": "code",
   "execution_count": 76,
   "metadata": {},
   "outputs": [],
   "source": [
    "#это было оооооочень долго"
   ]
  },
  {
   "cell_type": "code",
   "execution_count": null,
   "metadata": {},
   "outputs": [],
   "source": [
    "%%time\n",
    "\n",
    "model_lgbmr = LGBMRegressor(learning_rate=.5, num_leaves=200, random_state=12345)\n",
    "model_lgbmr.fit(features_train, target_train)"
   ]
  },
  {
   "cell_type": "markdown",
   "metadata": {},
   "source": [
    "<div class=\"alert alert-block alert-warning\">\n",
    "<b>⚠️ Комментарий ревьюера: </b> \n",
    "Модель LGBM может обрабатывать категориальные признаки напрямую, внутри модели.\n",
    "Для этого необходимо закодировать категориальные колонки astype('category').\n",
    "\n",
    "Кодирование LGBM похоже на OrdinalEncoder, но выполняется немного сложнее. Это делает предсказания точнее.\n",
    "\n",
    "https://lightgbm.readthedocs.io/en/latest/Advanced-Topics.html#categorical-feature-support\n",
    "</div>"
   ]
  },
  {
   "cell_type": "code",
   "execution_count": null,
   "metadata": {},
   "outputs": [],
   "source": [
    "%%time\n",
    "\n",
    "target_predict = model_lgbmr.predict(features_train)"
   ]
  },
  {
   "cell_type": "code",
   "execution_count": null,
   "metadata": {},
   "outputs": [],
   "source": [
    "rmse_lgbmr = mean_squared_error(target_train, target_predict) ** .5\n",
    "rmse_lgbmr"
   ]
  },
  {
   "cell_type": "markdown",
   "metadata": {},
   "source": [
    "## Выбор лучшей модели и ее тестирование"
   ]
  },
  {
   "cell_type": "code",
   "execution_count": null,
   "metadata": {},
   "outputs": [],
   "source": [
    "#создаю сводную таблицу по показателям RMSE < 2500, время обучения модели и время предсказания модели:\n",
    "index = ['Линейная регрессия',\n",
    "         'CatBoostRegressor',\n",
    "         'LGBMRegressor'\n",
    "        ]\n",
    "\n",
    "data = {'RMSE':[rmse_lr,\n",
    "                rmse_cbr,\n",
    "                rmse_lgbmr]\n",
    "       }\n",
    "        \n",
    "        \n",
    "\n",
    "all_data = pd.DataFrame(data=data, index=index)\n",
    "\n",
    "all_data\n"
   ]
  },
  {
   "cell_type": "markdown",
   "metadata": {},
   "source": [
    "#выбираем модель LGBMRegressor"
   ]
  },
  {
   "cell_type": "code",
   "execution_count": null,
   "metadata": {},
   "outputs": [],
   "source": [
    "%%time\n",
    "\n",
    "#проверяю качество модели на тестовой выборке:\n",
    "model_lgbmr_test = LGBMRegressor(learning_rate=.5, num_leaves=200, random_state=12345)\n",
    "model_lgbmr_test.fit(features_train, target_train)"
   ]
  },
  {
   "cell_type": "code",
   "execution_count": null,
   "metadata": {},
   "outputs": [],
   "source": [
    "target_predict = model_lgbmr_test.predict(features_test)\n"
   ]
  },
  {
   "cell_type": "code",
   "execution_count": null,
   "metadata": {},
   "outputs": [],
   "source": [
    "#на тестовой выборке показатели хуже, модель переобучилась?\n",
    "rmse_lgbmr_test = mean_squared_error(target_test, target_predict) ** .5\n",
    "rmse_lgbmr_test"
   ]
  },
  {
   "cell_type": "markdown",
   "metadata": {},
   "source": [
    "<div class=\"alert alert-block alert-success\">\n",
    "<b>✔️ Комментарий ревьюера: </b> Да, немного переобучилась. Бустинги к этому склонны.\n",
    "</div>"
   ]
  },
  {
   "cell_type": "markdown",
   "metadata": {},
   "source": [
    "Вывод:\n",
    "Наилучшей моделью стала LGBMRegressor с OHE, которая на финальном тестировании показала RMSE 1586"
   ]
  },
  {
   "cell_type": "markdown",
   "metadata": {},
   "source": [
    "## Общий вывод"
   ]
  },
  {
   "cell_type": "markdown",
   "metadata": {},
   "source": [
    "\n",
    "Передо мной стояла задача- построить модель для определения стоимости автомобиля, с лучшими показателями качества предсказания.\n",
    "\n",
    "Я  использовала технологию градиетного бустинга в моделях CatBoostRegressor и LightGBM и сравнила её с базовыми моделями LinearRegression\n",
    "\n",
    "По итогам качества и скорости обучения на тестовых данных - с небольшим отрывом  побеждает модель LightGBM.\n",
    "\n",
    "Таким образом, для компании \"Не бит, не крашен\" могу  рекомендовать модель LightGBM"
   ]
  },
  {
   "cell_type": "markdown",
   "metadata": {},
   "source": [
    "<font color='blue'><b>Итоговый комментарий ревьюера</b></font>\n",
    "<div class=\"alert alert-block alert-success\">\n",
    "<b>✔️ Комментарий ревьюера:</b>\n",
    "Мне понравилась твоя работа. Спасибо тебе большое, за хорошее оформление проекта и выводы к каждому этапу работы.\n",
    "Чувствуется уверенное знание материала и владение питоном в целом. \n",
    "</div>\n",
    "<font color='blue'><b>Но нужно кое-что поправить:</b></font>\n",
    "<div class=\"alert alert-block alert-danger\">\n",
    "<ul>1) Поправить кодирование признаков</ul>\n",
    "</div>\n",
    "\n",
    "<font color='blue'><b>Осталось совсем немного, буду ждать твою работу на повторное ревью 🙂</b></font>"
   ]
  },
  {
   "cell_type": "markdown",
   "metadata": {},
   "source": [
    "## Чек-лист проверки"
   ]
  },
  {
   "cell_type": "markdown",
   "metadata": {},
   "source": [
    "Поставьте 'x' в выполненных пунктах. Далее нажмите Shift+Enter."
   ]
  },
  {
   "cell_type": "markdown",
   "metadata": {},
   "source": [
    "- [x]  Jupyter Notebook открыт\n",
    "- [ ]  Весь код выполняется без ошибок\n",
    "- [ ]  Ячейки с кодом расположены в порядке исполнения\n",
    "- [ ]  Выполнена загрузка и подготовка данных\n",
    "- [ ]  Выполнено обучение моделей\n",
    "- [ ]  Есть анализ скорости работы и качества моделей"
   ]
  },
  {
   "cell_type": "markdown",
   "metadata": {},
   "source": [
    ":)"
   ]
  },
  {
   "cell_type": "code",
   "execution_count": null,
   "metadata": {},
   "outputs": [],
   "source": []
  }
 ],
 "metadata": {
  "ExecuteTimeLog": [
   {
    "duration": 1778,
    "start_time": "2023-03-12T00:36:57.017Z"
   },
   {
    "duration": 1354,
    "start_time": "2023-03-12T00:37:24.818Z"
   },
   {
    "duration": 165,
    "start_time": "2023-03-12T00:38:54.336Z"
   },
   {
    "duration": 193,
    "start_time": "2023-03-12T00:47:05.726Z"
   },
   {
    "duration": 6,
    "start_time": "2023-03-12T00:50:28.669Z"
   },
   {
    "duration": 33,
    "start_time": "2023-03-12T00:50:50.448Z"
   },
   {
    "duration": 50,
    "start_time": "2023-03-12T01:06:54.708Z"
   },
   {
    "duration": 21,
    "start_time": "2023-03-12T01:08:13.711Z"
   },
   {
    "duration": 23,
    "start_time": "2023-03-12T01:09:18.405Z"
   },
   {
    "duration": 23,
    "start_time": "2023-03-12T01:09:24.503Z"
   },
   {
    "duration": 30,
    "start_time": "2023-03-12T01:09:27.669Z"
   },
   {
    "duration": 80,
    "start_time": "2023-03-12T01:10:51.522Z"
   },
   {
    "duration": 74,
    "start_time": "2023-03-12T01:11:37.171Z"
   },
   {
    "duration": 32,
    "start_time": "2023-03-12T01:13:51.289Z"
   },
   {
    "duration": 72,
    "start_time": "2023-03-12T01:23:58.993Z"
   },
   {
    "duration": 59,
    "start_time": "2023-03-12T01:24:10.130Z"
   },
   {
    "duration": 54,
    "start_time": "2023-03-12T01:25:26.589Z"
   },
   {
    "duration": 59,
    "start_time": "2023-03-12T01:25:34.743Z"
   },
   {
    "duration": 51,
    "start_time": "2023-03-12T01:26:21.604Z"
   },
   {
    "duration": 50,
    "start_time": "2023-03-12T01:28:01.591Z"
   },
   {
    "duration": 47,
    "start_time": "2023-03-12T01:28:53.873Z"
   },
   {
    "duration": 39,
    "start_time": "2023-03-12T01:29:06.588Z"
   },
   {
    "duration": 2,
    "start_time": "2023-03-12T01:30:53.725Z"
   },
   {
    "duration": 53,
    "start_time": "2023-03-12T01:31:25.903Z"
   },
   {
    "duration": 64,
    "start_time": "2023-03-12T01:31:31.066Z"
   },
   {
    "duration": 31,
    "start_time": "2023-03-12T01:31:45.851Z"
   },
   {
    "duration": 86,
    "start_time": "2023-03-12T01:32:46.448Z"
   },
   {
    "duration": 153,
    "start_time": "2023-03-12T01:33:12.938Z"
   },
   {
    "duration": 152,
    "start_time": "2023-03-12T01:35:24.406Z"
   },
   {
    "duration": 477,
    "start_time": "2023-03-12T01:36:47.490Z"
   },
   {
    "duration": 1112,
    "start_time": "2023-03-12T01:37:01.960Z"
   },
   {
    "duration": 195,
    "start_time": "2023-03-12T01:47:41.396Z"
   },
   {
    "duration": 13,
    "start_time": "2023-03-12T01:47:52.690Z"
   },
   {
    "duration": 382,
    "start_time": "2023-03-12T01:48:07.510Z"
   },
   {
    "duration": 166,
    "start_time": "2023-03-12T01:48:24.689Z"
   },
   {
    "duration": 3,
    "start_time": "2023-03-12T01:48:53.357Z"
   },
   {
    "duration": 95,
    "start_time": "2023-03-12T01:50:49.005Z"
   },
   {
    "duration": 27,
    "start_time": "2023-03-12T01:50:52.768Z"
   },
   {
    "duration": 105,
    "start_time": "2023-03-12T01:50:59.945Z"
   },
   {
    "duration": 158,
    "start_time": "2023-03-12T01:52:09.691Z"
   },
   {
    "duration": 68,
    "start_time": "2023-03-12T01:52:48.054Z"
   },
   {
    "duration": 4,
    "start_time": "2023-03-12T01:53:00.802Z"
   },
   {
    "duration": 938,
    "start_time": "2023-03-12T01:53:01.405Z"
   },
   {
    "duration": 177,
    "start_time": "2023-03-12T01:53:02.345Z"
   },
   {
    "duration": 74,
    "start_time": "2023-03-12T01:53:02.831Z"
   },
   {
    "duration": 193,
    "start_time": "2023-03-12T01:53:04.202Z"
   },
   {
    "duration": 24,
    "start_time": "2023-03-12T01:53:05.219Z"
   },
   {
    "duration": 53,
    "start_time": "2023-03-12T01:53:05.801Z"
   },
   {
    "duration": 32,
    "start_time": "2023-03-12T01:53:06.361Z"
   },
   {
    "duration": 37,
    "start_time": "2023-03-12T01:53:07.010Z"
   },
   {
    "duration": 60,
    "start_time": "2023-03-12T01:53:07.537Z"
   },
   {
    "duration": 29,
    "start_time": "2023-03-12T01:53:08.051Z"
   },
   {
    "duration": 69,
    "start_time": "2023-03-12T01:53:08.547Z"
   },
   {
    "duration": 24,
    "start_time": "2023-03-12T01:53:09.030Z"
   },
   {
    "duration": 37,
    "start_time": "2023-03-12T01:53:09.899Z"
   },
   {
    "duration": 61,
    "start_time": "2023-03-12T01:53:10.672Z"
   },
   {
    "duration": 33,
    "start_time": "2023-03-12T01:53:11.162Z"
   },
   {
    "duration": 77,
    "start_time": "2023-03-12T01:53:11.745Z"
   },
   {
    "duration": 184,
    "start_time": "2023-03-12T01:53:12.843Z"
   },
   {
    "duration": 449,
    "start_time": "2023-03-12T01:53:15.000Z"
   },
   {
    "duration": 960,
    "start_time": "2023-03-12T01:53:16.820Z"
   },
   {
    "duration": 52,
    "start_time": "2023-03-12T01:53:20.901Z"
   },
   {
    "duration": 111,
    "start_time": "2023-03-12T01:53:22.550Z"
   },
   {
    "duration": 7,
    "start_time": "2023-03-12T01:55:41.589Z"
   },
   {
    "duration": 22,
    "start_time": "2023-03-12T01:55:50.519Z"
   },
   {
    "duration": 544,
    "start_time": "2023-03-12T01:57:49.990Z"
   },
   {
    "duration": 14,
    "start_time": "2023-03-12T01:58:34.592Z"
   },
   {
    "duration": 93,
    "start_time": "2023-03-12T01:58:45.951Z"
   },
   {
    "duration": 35,
    "start_time": "2023-03-12T01:59:01.587Z"
   },
   {
    "duration": 16,
    "start_time": "2023-03-12T01:59:22.351Z"
   },
   {
    "duration": 952,
    "start_time": "2023-03-12T01:59:44.675Z"
   },
   {
    "duration": 9,
    "start_time": "2023-03-12T01:59:58.812Z"
   },
   {
    "duration": 310,
    "start_time": "2023-03-12T02:00:33.197Z"
   },
   {
    "duration": 498,
    "start_time": "2023-03-12T02:01:20.144Z"
   },
   {
    "duration": 245,
    "start_time": "2023-03-12T02:01:25.832Z"
   },
   {
    "duration": 36,
    "start_time": "2023-03-12T02:02:49.381Z"
   },
   {
    "duration": 28,
    "start_time": "2023-03-12T02:02:56.151Z"
   },
   {
    "duration": 302,
    "start_time": "2023-03-12T02:03:11.690Z"
   },
   {
    "duration": 25,
    "start_time": "2023-03-12T02:03:41.336Z"
   },
   {
    "duration": 5,
    "start_time": "2023-03-12T02:04:21.475Z"
   },
   {
    "duration": 2,
    "start_time": "2023-03-12T02:04:31.870Z"
   },
   {
    "duration": 32,
    "start_time": "2023-03-12T02:05:43.004Z"
   },
   {
    "duration": 7,
    "start_time": "2023-03-12T02:06:15.321Z"
   },
   {
    "duration": 18,
    "start_time": "2023-03-12T02:07:44.919Z"
   },
   {
    "duration": 27,
    "start_time": "2023-03-12T02:09:34.795Z"
   },
   {
    "duration": 18,
    "start_time": "2023-03-12T02:09:42.153Z"
   },
   {
    "duration": 331,
    "start_time": "2023-03-12T02:10:35.162Z"
   },
   {
    "duration": 354,
    "start_time": "2023-03-12T02:11:32.272Z"
   },
   {
    "duration": 287,
    "start_time": "2023-03-12T02:11:39.270Z"
   },
   {
    "duration": 298,
    "start_time": "2023-03-12T02:12:09.934Z"
   },
   {
    "duration": 18,
    "start_time": "2023-03-12T02:15:30.841Z"
   },
   {
    "duration": 24,
    "start_time": "2023-03-12T02:15:36.573Z"
   },
   {
    "duration": 32,
    "start_time": "2023-03-12T02:18:00.548Z"
   },
   {
    "duration": 27,
    "start_time": "2023-03-12T02:18:20.802Z"
   },
   {
    "duration": 15,
    "start_time": "2023-03-12T02:20:17.022Z"
   },
   {
    "duration": 338,
    "start_time": "2023-03-12T02:21:04.549Z"
   },
   {
    "duration": 12,
    "start_time": "2023-03-12T02:21:48.511Z"
   },
   {
    "duration": 235,
    "start_time": "2023-03-12T02:22:02.146Z"
   },
   {
    "duration": 7,
    "start_time": "2023-03-12T02:22:09.392Z"
   },
   {
    "duration": 11,
    "start_time": "2023-03-12T02:22:13.950Z"
   },
   {
    "duration": 10,
    "start_time": "2023-03-12T02:22:34.171Z"
   },
   {
    "duration": 12,
    "start_time": "2023-03-12T02:22:44.699Z"
   },
   {
    "duration": 7,
    "start_time": "2023-03-12T02:25:17.445Z"
   },
   {
    "duration": 8,
    "start_time": "2023-03-12T02:26:23.525Z"
   },
   {
    "duration": 16,
    "start_time": "2023-03-12T02:27:17.115Z"
   },
   {
    "duration": 86,
    "start_time": "2023-03-12T02:31:16.960Z"
   },
   {
    "duration": 5,
    "start_time": "2023-03-12T02:31:46.722Z"
   },
   {
    "duration": 8,
    "start_time": "2023-03-12T02:31:54.545Z"
   },
   {
    "duration": 79,
    "start_time": "2023-03-12T02:32:17.351Z"
   },
   {
    "duration": 23,
    "start_time": "2023-03-12T02:32:31.266Z"
   },
   {
    "duration": 6,
    "start_time": "2023-03-12T02:32:32.992Z"
   },
   {
    "duration": 17,
    "start_time": "2023-03-12T02:32:48.112Z"
   },
   {
    "duration": 8,
    "start_time": "2023-03-12T02:32:49.399Z"
   },
   {
    "duration": 9,
    "start_time": "2023-03-12T02:33:32.389Z"
   },
   {
    "duration": 54,
    "start_time": "2023-03-12T02:35:41.946Z"
   },
   {
    "duration": 6,
    "start_time": "2023-03-12T02:35:43.816Z"
   },
   {
    "duration": 5,
    "start_time": "2023-03-12T02:35:58.603Z"
   },
   {
    "duration": 867,
    "start_time": "2023-03-12T02:35:59.052Z"
   },
   {
    "duration": 167,
    "start_time": "2023-03-12T02:35:59.921Z"
   },
   {
    "duration": 71,
    "start_time": "2023-03-12T02:36:00.090Z"
   },
   {
    "duration": 159,
    "start_time": "2023-03-12T02:36:00.174Z"
   },
   {
    "duration": 26,
    "start_time": "2023-03-12T02:36:00.408Z"
   },
   {
    "duration": 68,
    "start_time": "2023-03-12T02:36:00.641Z"
   },
   {
    "duration": 29,
    "start_time": "2023-03-12T02:36:00.962Z"
   },
   {
    "duration": 21,
    "start_time": "2023-03-12T02:36:01.329Z"
   },
   {
    "duration": 66,
    "start_time": "2023-03-12T02:36:01.539Z"
   },
   {
    "duration": 27,
    "start_time": "2023-03-12T02:36:01.805Z"
   },
   {
    "duration": 65,
    "start_time": "2023-03-12T02:36:02.324Z"
   },
   {
    "duration": 24,
    "start_time": "2023-03-12T02:36:02.550Z"
   },
   {
    "duration": 43,
    "start_time": "2023-03-12T02:36:02.842Z"
   },
   {
    "duration": 67,
    "start_time": "2023-03-12T02:36:03.043Z"
   },
   {
    "duration": 21,
    "start_time": "2023-03-12T02:36:03.235Z"
   },
   {
    "duration": 64,
    "start_time": "2023-03-12T02:36:03.466Z"
   },
   {
    "duration": 158,
    "start_time": "2023-03-12T02:36:03.697Z"
   },
   {
    "duration": 492,
    "start_time": "2023-03-12T02:36:04.169Z"
   },
   {
    "duration": 1006,
    "start_time": "2023-03-12T02:36:04.663Z"
   },
   {
    "duration": 60,
    "start_time": "2023-03-12T02:36:05.678Z"
   },
   {
    "duration": 111,
    "start_time": "2023-03-12T02:36:05.740Z"
   },
   {
    "duration": 39,
    "start_time": "2023-03-12T02:36:05.853Z"
   },
   {
    "duration": 312,
    "start_time": "2023-03-12T02:36:05.894Z"
   },
   {
    "duration": 245,
    "start_time": "2023-03-12T02:36:06.208Z"
   },
   {
    "duration": 7,
    "start_time": "2023-03-12T02:36:06.455Z"
   },
   {
    "duration": 29,
    "start_time": "2023-03-12T02:36:06.601Z"
   },
   {
    "duration": 27,
    "start_time": "2023-03-12T02:36:06.863Z"
   },
   {
    "duration": 26,
    "start_time": "2023-03-12T02:36:07.104Z"
   },
   {
    "duration": 6,
    "start_time": "2023-03-12T02:36:07.327Z"
   },
   {
    "duration": 23,
    "start_time": "2023-03-12T02:36:07.866Z"
   },
   {
    "duration": 35,
    "start_time": "2023-03-12T02:36:08.350Z"
   },
   {
    "duration": 18,
    "start_time": "2023-03-12T02:36:08.582Z"
   },
   {
    "duration": 312,
    "start_time": "2023-03-12T02:36:08.795Z"
   },
   {
    "duration": 18,
    "start_time": "2023-03-12T02:36:09.238Z"
   },
   {
    "duration": 25,
    "start_time": "2023-03-12T02:36:09.497Z"
   },
   {
    "duration": 14,
    "start_time": "2023-03-12T02:36:09.916Z"
   },
   {
    "duration": 257,
    "start_time": "2023-03-12T02:36:10.170Z"
   },
   {
    "duration": 15,
    "start_time": "2023-03-12T02:36:10.490Z"
   },
   {
    "duration": 8,
    "start_time": "2023-03-12T02:36:10.698Z"
   },
   {
    "duration": 17,
    "start_time": "2023-03-12T02:36:11.192Z"
   },
   {
    "duration": 20,
    "start_time": "2023-03-12T02:36:11.532Z"
   },
   {
    "duration": 5,
    "start_time": "2023-03-12T02:36:11.755Z"
   },
   {
    "duration": 5,
    "start_time": "2023-03-12T02:36:28.064Z"
   },
   {
    "duration": 923,
    "start_time": "2023-03-12T02:36:28.241Z"
   },
   {
    "duration": 159,
    "start_time": "2023-03-12T02:36:29.172Z"
   },
   {
    "duration": 86,
    "start_time": "2023-03-12T02:36:29.332Z"
   },
   {
    "duration": 283,
    "start_time": "2023-03-12T02:36:29.420Z"
   },
   {
    "duration": 23,
    "start_time": "2023-03-12T02:36:29.704Z"
   },
   {
    "duration": 77,
    "start_time": "2023-03-12T02:36:29.729Z"
   },
   {
    "duration": 18,
    "start_time": "2023-03-12T02:36:29.809Z"
   },
   {
    "duration": 31,
    "start_time": "2023-03-12T02:36:29.829Z"
   },
   {
    "duration": 60,
    "start_time": "2023-03-12T02:36:29.874Z"
   },
   {
    "duration": 30,
    "start_time": "2023-03-12T02:36:30.054Z"
   },
   {
    "duration": 66,
    "start_time": "2023-03-12T02:36:30.234Z"
   },
   {
    "duration": 34,
    "start_time": "2023-03-12T02:36:30.448Z"
   },
   {
    "duration": 58,
    "start_time": "2023-03-12T02:36:30.642Z"
   },
   {
    "duration": 66,
    "start_time": "2023-03-12T02:36:30.823Z"
   },
   {
    "duration": 22,
    "start_time": "2023-03-12T02:36:31.025Z"
   },
   {
    "duration": 52,
    "start_time": "2023-03-12T02:36:31.217Z"
   },
   {
    "duration": 149,
    "start_time": "2023-03-12T02:36:31.391Z"
   },
   {
    "duration": 456,
    "start_time": "2023-03-12T02:36:31.864Z"
   },
   {
    "duration": 966,
    "start_time": "2023-03-12T02:36:32.323Z"
   },
   {
    "duration": 69,
    "start_time": "2023-03-12T02:36:33.291Z"
   },
   {
    "duration": 124,
    "start_time": "2023-03-12T02:36:33.362Z"
   },
   {
    "duration": 18,
    "start_time": "2023-03-12T02:36:33.490Z"
   },
   {
    "duration": 309,
    "start_time": "2023-03-12T02:36:33.510Z"
   },
   {
    "duration": 268,
    "start_time": "2023-03-12T02:36:33.821Z"
   },
   {
    "duration": 9,
    "start_time": "2023-03-12T02:36:34.092Z"
   },
   {
    "duration": 32,
    "start_time": "2023-03-12T02:36:34.102Z"
   },
   {
    "duration": 18,
    "start_time": "2023-03-12T02:36:34.136Z"
   },
   {
    "duration": 30,
    "start_time": "2023-03-12T02:36:34.172Z"
   },
   {
    "duration": 7,
    "start_time": "2023-03-12T02:36:34.246Z"
   },
   {
    "duration": 18,
    "start_time": "2023-03-12T02:36:34.639Z"
   },
   {
    "duration": 26,
    "start_time": "2023-03-12T02:36:34.833Z"
   },
   {
    "duration": 18,
    "start_time": "2023-03-12T02:36:35.026Z"
   },
   {
    "duration": 337,
    "start_time": "2023-03-12T02:36:35.209Z"
   },
   {
    "duration": 18,
    "start_time": "2023-03-12T02:36:35.597Z"
   },
   {
    "duration": 28,
    "start_time": "2023-03-12T02:36:35.818Z"
   },
   {
    "duration": 15,
    "start_time": "2023-03-12T02:36:36.233Z"
   },
   {
    "duration": 255,
    "start_time": "2023-03-12T02:36:36.443Z"
   },
   {
    "duration": 12,
    "start_time": "2023-03-12T02:36:36.700Z"
   },
   {
    "duration": 7,
    "start_time": "2023-03-12T02:36:36.863Z"
   },
   {
    "duration": 16,
    "start_time": "2023-03-12T02:36:37.303Z"
   },
   {
    "duration": 105,
    "start_time": "2023-03-12T02:36:37.512Z"
   },
   {
    "duration": 6,
    "start_time": "2023-03-12T02:36:37.713Z"
   },
   {
    "duration": 32,
    "start_time": "2023-03-12T02:39:51.508Z"
   },
   {
    "duration": 46,
    "start_time": "2023-03-12T02:44:45.754Z"
   },
   {
    "duration": 46,
    "start_time": "2023-03-12T02:44:58.379Z"
   },
   {
    "duration": 7,
    "start_time": "2023-03-12T02:47:41.556Z"
   },
   {
    "duration": 46,
    "start_time": "2023-03-12T02:47:46.865Z"
   },
   {
    "duration": 3,
    "start_time": "2023-03-12T02:48:06.751Z"
   },
   {
    "duration": 45,
    "start_time": "2023-03-12T02:48:08.480Z"
   },
   {
    "duration": 6,
    "start_time": "2023-03-12T02:48:30.568Z"
   },
   {
    "duration": 31,
    "start_time": "2023-03-12T02:48:42.161Z"
   },
   {
    "duration": 3,
    "start_time": "2023-03-12T02:48:52.403Z"
   },
   {
    "duration": 1333,
    "start_time": "2023-03-12T03:01:04.277Z"
   },
   {
    "duration": 1232,
    "start_time": "2023-03-12T03:01:12.491Z"
   },
   {
    "duration": 9,
    "start_time": "2023-03-12T03:01:26.297Z"
   },
   {
    "duration": 90,
    "start_time": "2023-03-12T03:03:02.248Z"
   },
   {
    "duration": 79,
    "start_time": "2023-03-12T03:04:48.802Z"
   },
   {
    "duration": 93,
    "start_time": "2023-03-12T03:04:57.797Z"
   },
   {
    "duration": 20,
    "start_time": "2023-03-12T03:06:11.034Z"
   },
   {
    "duration": 4,
    "start_time": "2023-03-12T03:11:40.235Z"
   },
   {
    "duration": 1101,
    "start_time": "2023-03-12T03:11:44.621Z"
   },
   {
    "duration": 168,
    "start_time": "2023-03-12T03:11:45.724Z"
   },
   {
    "duration": 93,
    "start_time": "2023-03-12T03:11:45.894Z"
   },
   {
    "duration": 153,
    "start_time": "2023-03-12T03:11:45.992Z"
   },
   {
    "duration": 28,
    "start_time": "2023-03-12T03:11:46.147Z"
   },
   {
    "duration": 78,
    "start_time": "2023-03-12T03:11:46.469Z"
   },
   {
    "duration": 19,
    "start_time": "2023-03-12T03:11:46.725Z"
   },
   {
    "duration": 23,
    "start_time": "2023-03-12T03:11:46.999Z"
   },
   {
    "duration": 79,
    "start_time": "2023-03-12T03:11:47.255Z"
   },
   {
    "duration": 31,
    "start_time": "2023-03-12T03:11:47.489Z"
   },
   {
    "duration": 56,
    "start_time": "2023-03-12T03:11:47.724Z"
   },
   {
    "duration": 24,
    "start_time": "2023-03-12T03:11:47.949Z"
   },
   {
    "duration": 57,
    "start_time": "2023-03-12T03:11:48.160Z"
   },
   {
    "duration": 83,
    "start_time": "2023-03-12T03:11:48.385Z"
   },
   {
    "duration": 24,
    "start_time": "2023-03-12T03:11:48.641Z"
   },
   {
    "duration": 65,
    "start_time": "2023-03-12T03:11:48.863Z"
   },
   {
    "duration": 149,
    "start_time": "2023-03-12T03:11:49.105Z"
   },
   {
    "duration": 585,
    "start_time": "2023-03-12T03:11:49.584Z"
   },
   {
    "duration": 1178,
    "start_time": "2023-03-12T03:11:50.173Z"
   },
   {
    "duration": 110,
    "start_time": "2023-03-12T03:11:51.353Z"
   },
   {
    "duration": 134,
    "start_time": "2023-03-12T03:11:51.465Z"
   },
   {
    "duration": 20,
    "start_time": "2023-03-12T03:11:51.601Z"
   },
   {
    "duration": 370,
    "start_time": "2023-03-12T03:11:51.623Z"
   },
   {
    "duration": 252,
    "start_time": "2023-03-12T03:11:51.995Z"
   },
   {
    "duration": 8,
    "start_time": "2023-03-12T03:11:52.249Z"
   },
   {
    "duration": 45,
    "start_time": "2023-03-12T03:11:52.259Z"
   },
   {
    "duration": 20,
    "start_time": "2023-03-12T03:11:52.307Z"
   },
   {
    "duration": 28,
    "start_time": "2023-03-12T03:11:52.539Z"
   },
   {
    "duration": 8,
    "start_time": "2023-03-12T03:11:52.838Z"
   },
   {
    "duration": 21,
    "start_time": "2023-03-12T03:11:53.359Z"
   },
   {
    "duration": 35,
    "start_time": "2023-03-12T03:11:53.655Z"
   },
   {
    "duration": 17,
    "start_time": "2023-03-12T03:11:53.922Z"
   },
   {
    "duration": 351,
    "start_time": "2023-03-12T03:11:54.194Z"
   },
   {
    "duration": 19,
    "start_time": "2023-03-12T03:11:54.647Z"
   },
   {
    "duration": 38,
    "start_time": "2023-03-12T03:11:54.871Z"
   },
   {
    "duration": 15,
    "start_time": "2023-03-12T03:11:55.439Z"
   },
   {
    "duration": 280,
    "start_time": "2023-03-12T03:11:55.701Z"
   },
   {
    "duration": 20,
    "start_time": "2023-03-12T03:11:55.988Z"
   },
   {
    "duration": 8,
    "start_time": "2023-03-12T03:11:56.433Z"
   },
   {
    "duration": 19,
    "start_time": "2023-03-12T03:11:56.938Z"
   },
   {
    "duration": 115,
    "start_time": "2023-03-12T03:11:57.193Z"
   },
   {
    "duration": 8,
    "start_time": "2023-03-12T03:11:57.422Z"
   },
   {
    "duration": 23,
    "start_time": "2023-03-12T03:11:57.943Z"
   },
   {
    "duration": 7,
    "start_time": "2023-03-12T03:11:58.415Z"
   },
   {
    "duration": 3,
    "start_time": "2023-03-12T03:11:58.652Z"
   },
   {
    "duration": 55,
    "start_time": "2023-03-12T03:11:58.907Z"
   },
   {
    "duration": 3,
    "start_time": "2023-03-12T03:11:59.131Z"
   },
   {
    "duration": 10,
    "start_time": "2023-03-12T03:12:00.386Z"
   },
   {
    "duration": 94,
    "start_time": "2023-03-12T03:12:02.458Z"
   },
   {
    "duration": 20,
    "start_time": "2023-03-12T03:12:03.493Z"
   },
   {
    "duration": 1275,
    "start_time": "2023-03-12T03:12:05.107Z"
   },
   {
    "duration": 5,
    "start_time": "2023-03-12T03:13:23.444Z"
   },
   {
    "duration": 1050,
    "start_time": "2023-03-12T03:13:23.868Z"
   },
   {
    "duration": 179,
    "start_time": "2023-03-12T03:13:24.921Z"
   },
   {
    "duration": 112,
    "start_time": "2023-03-12T03:13:25.103Z"
   },
   {
    "duration": 208,
    "start_time": "2023-03-12T03:13:25.218Z"
   },
   {
    "duration": 43,
    "start_time": "2023-03-12T03:13:25.429Z"
   },
   {
    "duration": 79,
    "start_time": "2023-03-12T03:13:25.645Z"
   },
   {
    "duration": 22,
    "start_time": "2023-03-12T03:13:25.909Z"
   },
   {
    "duration": 33,
    "start_time": "2023-03-12T03:13:26.401Z"
   },
   {
    "duration": 70,
    "start_time": "2023-03-12T03:13:26.700Z"
   },
   {
    "duration": 42,
    "start_time": "2023-03-12T03:13:27.151Z"
   },
   {
    "duration": 77,
    "start_time": "2023-03-12T03:13:27.541Z"
   },
   {
    "duration": 36,
    "start_time": "2023-03-12T03:13:27.821Z"
   },
   {
    "duration": 53,
    "start_time": "2023-03-12T03:13:28.044Z"
   },
   {
    "duration": 79,
    "start_time": "2023-03-12T03:13:28.256Z"
   },
   {
    "duration": 23,
    "start_time": "2023-03-12T03:13:28.493Z"
   },
   {
    "duration": 77,
    "start_time": "2023-03-12T03:13:28.761Z"
   },
   {
    "duration": 187,
    "start_time": "2023-03-12T03:13:28.993Z"
   },
   {
    "duration": 535,
    "start_time": "2023-03-12T03:13:29.547Z"
   },
   {
    "duration": 1112,
    "start_time": "2023-03-12T03:13:30.085Z"
   },
   {
    "duration": 106,
    "start_time": "2023-03-12T03:13:31.199Z"
   },
   {
    "duration": 138,
    "start_time": "2023-03-12T03:13:31.307Z"
   },
   {
    "duration": 30,
    "start_time": "2023-03-12T03:13:31.447Z"
   },
   {
    "duration": 388,
    "start_time": "2023-03-12T03:13:31.628Z"
   },
   {
    "duration": 307,
    "start_time": "2023-03-12T03:13:32.018Z"
   },
   {
    "duration": 10,
    "start_time": "2023-03-12T03:13:32.327Z"
   },
   {
    "duration": 27,
    "start_time": "2023-03-12T03:13:32.537Z"
   },
   {
    "duration": 27,
    "start_time": "2023-03-12T03:13:32.865Z"
   },
   {
    "duration": 30,
    "start_time": "2023-03-12T03:13:33.148Z"
   },
   {
    "duration": 8,
    "start_time": "2023-03-12T03:13:33.497Z"
   },
   {
    "duration": 22,
    "start_time": "2023-03-12T03:13:34.195Z"
   },
   {
    "duration": 29,
    "start_time": "2023-03-12T03:13:34.445Z"
   },
   {
    "duration": 19,
    "start_time": "2023-03-12T03:13:34.717Z"
   },
   {
    "duration": 345,
    "start_time": "2023-03-12T03:13:35.065Z"
   },
   {
    "duration": 19,
    "start_time": "2023-03-12T03:13:35.621Z"
   },
   {
    "duration": 28,
    "start_time": "2023-03-12T03:13:35.918Z"
   },
   {
    "duration": 18,
    "start_time": "2023-03-12T03:13:36.541Z"
   },
   {
    "duration": 282,
    "start_time": "2023-03-12T03:13:36.840Z"
   },
   {
    "duration": 26,
    "start_time": "2023-03-12T03:13:37.180Z"
   },
   {
    "duration": 9,
    "start_time": "2023-03-12T03:13:37.524Z"
   },
   {
    "duration": 18,
    "start_time": "2023-03-12T03:13:38.196Z"
   },
   {
    "duration": 121,
    "start_time": "2023-03-12T03:13:38.537Z"
   },
   {
    "duration": 18,
    "start_time": "2023-03-12T03:13:38.871Z"
   },
   {
    "duration": 25,
    "start_time": "2023-03-12T03:13:39.515Z"
   },
   {
    "duration": 13,
    "start_time": "2023-03-12T03:13:40.171Z"
   },
   {
    "duration": 4,
    "start_time": "2023-03-12T03:13:40.500Z"
   },
   {
    "duration": 52,
    "start_time": "2023-03-12T03:13:40.892Z"
   },
   {
    "duration": 3,
    "start_time": "2023-03-12T03:13:41.425Z"
   },
   {
    "duration": 4,
    "start_time": "2023-03-12T03:13:42.993Z"
   },
   {
    "duration": 78,
    "start_time": "2023-03-12T03:13:44.906Z"
   },
   {
    "duration": 101,
    "start_time": "2023-03-12T03:15:32.526Z"
   },
   {
    "duration": 30,
    "start_time": "2023-03-12T03:15:34.066Z"
   },
   {
    "duration": 1552,
    "start_time": "2023-03-12T03:15:44.656Z"
   },
   {
    "duration": 11,
    "start_time": "2023-03-12T03:15:54.994Z"
   },
   {
    "duration": 5,
    "start_time": "2023-03-12T03:16:14.521Z"
   },
   {
    "duration": 2207,
    "start_time": "2023-03-12T03:18:49.300Z"
   },
   {
    "duration": 11,
    "start_time": "2023-03-12T03:18:54.923Z"
   },
   {
    "duration": 3,
    "start_time": "2023-03-12T03:19:03.794Z"
   },
   {
    "duration": 22,
    "start_time": "2023-03-12T03:20:55.168Z"
   },
   {
    "duration": 11,
    "start_time": "2023-03-12T03:21:16.683Z"
   },
   {
    "duration": 163,
    "start_time": "2023-03-12T03:21:28.593Z"
   },
   {
    "duration": 1670,
    "start_time": "2023-03-12T03:22:57.885Z"
   },
   {
    "duration": 64,
    "start_time": "2023-03-12T03:23:30.636Z"
   },
   {
    "duration": 8,
    "start_time": "2023-03-12T03:24:17.657Z"
   },
   {
    "duration": 2765,
    "start_time": "2023-03-12T03:24:58.803Z"
   },
   {
    "duration": 8,
    "start_time": "2023-03-12T03:25:05.472Z"
   },
   {
    "duration": 13,
    "start_time": "2023-03-12T03:25:26.110Z"
   },
   {
    "duration": 5,
    "start_time": "2023-03-12T03:25:31.194Z"
   },
   {
    "duration": 61,
    "start_time": "2023-03-12T03:25:49.744Z"
   },
   {
    "duration": 2,
    "start_time": "2023-03-12T03:25:55.823Z"
   },
   {
    "duration": 10,
    "start_time": "2023-03-12T03:28:39.232Z"
   },
   {
    "duration": 5,
    "start_time": "2023-03-12T03:37:48.641Z"
   },
   {
    "duration": 916,
    "start_time": "2023-03-12T03:37:49.892Z"
   },
   {
    "duration": 146,
    "start_time": "2023-03-12T03:37:51.615Z"
   },
   {
    "duration": 76,
    "start_time": "2023-03-12T03:37:52.140Z"
   },
   {
    "duration": 183,
    "start_time": "2023-03-12T03:37:53.065Z"
   },
   {
    "duration": 24,
    "start_time": "2023-03-12T03:37:53.413Z"
   },
   {
    "duration": 56,
    "start_time": "2023-03-12T03:37:53.722Z"
   },
   {
    "duration": 27,
    "start_time": "2023-03-12T03:37:54.055Z"
   },
   {
    "duration": 22,
    "start_time": "2023-03-12T03:37:54.327Z"
   },
   {
    "duration": 53,
    "start_time": "2023-03-12T03:37:54.604Z"
   },
   {
    "duration": 41,
    "start_time": "2023-03-12T03:37:54.928Z"
   },
   {
    "duration": 62,
    "start_time": "2023-03-12T03:37:55.172Z"
   },
   {
    "duration": 31,
    "start_time": "2023-03-12T03:37:55.465Z"
   },
   {
    "duration": 37,
    "start_time": "2023-03-12T03:37:55.719Z"
   },
   {
    "duration": 53,
    "start_time": "2023-03-12T03:37:56.009Z"
   },
   {
    "duration": 32,
    "start_time": "2023-03-12T03:37:56.265Z"
   },
   {
    "duration": 67,
    "start_time": "2023-03-12T03:37:56.640Z"
   },
   {
    "duration": 164,
    "start_time": "2023-03-12T03:37:56.953Z"
   },
   {
    "duration": 486,
    "start_time": "2023-03-12T03:37:58.432Z"
   },
   {
    "duration": 930,
    "start_time": "2023-03-12T03:37:58.920Z"
   },
   {
    "duration": 96,
    "start_time": "2023-03-12T03:37:59.852Z"
   },
   {
    "duration": 110,
    "start_time": "2023-03-12T03:37:59.950Z"
   },
   {
    "duration": 21,
    "start_time": "2023-03-12T03:38:00.269Z"
   },
   {
    "duration": 342,
    "start_time": "2023-03-12T03:38:00.543Z"
   },
   {
    "duration": 263,
    "start_time": "2023-03-12T03:38:00.887Z"
   },
   {
    "duration": 13,
    "start_time": "2023-03-12T03:38:01.173Z"
   },
   {
    "duration": 30,
    "start_time": "2023-03-12T03:38:01.466Z"
   },
   {
    "duration": 22,
    "start_time": "2023-03-12T03:38:01.769Z"
   },
   {
    "duration": 26,
    "start_time": "2023-03-12T03:38:02.089Z"
   },
   {
    "duration": 6,
    "start_time": "2023-03-12T03:38:02.353Z"
   },
   {
    "duration": 17,
    "start_time": "2023-03-12T03:38:02.987Z"
   },
   {
    "duration": 29,
    "start_time": "2023-03-12T03:38:03.275Z"
   },
   {
    "duration": 17,
    "start_time": "2023-03-12T03:38:03.622Z"
   },
   {
    "duration": 347,
    "start_time": "2023-03-12T03:38:03.965Z"
   },
   {
    "duration": 17,
    "start_time": "2023-03-12T03:38:04.505Z"
   },
   {
    "duration": 25,
    "start_time": "2023-03-12T03:38:04.814Z"
   },
   {
    "duration": 15,
    "start_time": "2023-03-12T03:38:05.409Z"
   },
   {
    "duration": 354,
    "start_time": "2023-03-12T03:38:05.727Z"
   },
   {
    "duration": 14,
    "start_time": "2023-03-12T03:38:06.086Z"
   },
   {
    "duration": 7,
    "start_time": "2023-03-12T03:38:06.389Z"
   },
   {
    "duration": 17,
    "start_time": "2023-03-12T03:38:07.112Z"
   },
   {
    "duration": 110,
    "start_time": "2023-03-12T03:38:07.429Z"
   },
   {
    "duration": 5,
    "start_time": "2023-03-12T03:38:08.291Z"
   },
   {
    "duration": 21,
    "start_time": "2023-03-12T03:38:09.253Z"
   },
   {
    "duration": 13,
    "start_time": "2023-03-12T03:38:10.683Z"
   },
   {
    "duration": 3,
    "start_time": "2023-03-12T03:38:11.467Z"
   },
   {
    "duration": 52,
    "start_time": "2023-03-12T03:38:12.407Z"
   },
   {
    "duration": 2,
    "start_time": "2023-03-12T03:38:13.416Z"
   },
   {
    "duration": 3,
    "start_time": "2023-03-12T03:38:16.287Z"
   },
   {
    "duration": 87,
    "start_time": "2023-03-12T03:38:17.965Z"
   },
   {
    "duration": 58,
    "start_time": "2023-03-12T03:38:23.850Z"
   },
   {
    "duration": 7,
    "start_time": "2023-03-12T03:38:44.003Z"
   },
   {
    "duration": 9,
    "start_time": "2023-03-12T03:38:47.337Z"
   },
   {
    "duration": 1745,
    "start_time": "2023-03-12T03:39:59.049Z"
   },
   {
    "duration": 1406,
    "start_time": "2023-03-12T03:40:00.796Z"
   },
   {
    "duration": 149,
    "start_time": "2023-03-12T03:40:03.289Z"
   },
   {
    "duration": 86,
    "start_time": "2023-03-12T03:40:03.871Z"
   },
   {
    "duration": 202,
    "start_time": "2023-03-12T03:40:04.889Z"
   },
   {
    "duration": 23,
    "start_time": "2023-03-12T03:40:05.416Z"
   },
   {
    "duration": 54,
    "start_time": "2023-03-12T03:40:05.817Z"
   },
   {
    "duration": 23,
    "start_time": "2023-03-12T03:40:06.282Z"
   },
   {
    "duration": 23,
    "start_time": "2023-03-12T03:40:06.784Z"
   },
   {
    "duration": 69,
    "start_time": "2023-03-12T03:40:07.189Z"
   },
   {
    "duration": 24,
    "start_time": "2023-03-12T03:40:07.637Z"
   },
   {
    "duration": 63,
    "start_time": "2023-03-12T03:40:08.145Z"
   },
   {
    "duration": 35,
    "start_time": "2023-03-12T03:40:08.563Z"
   },
   {
    "duration": 48,
    "start_time": "2023-03-12T03:40:08.995Z"
   },
   {
    "duration": 78,
    "start_time": "2023-03-12T03:40:09.421Z"
   },
   {
    "duration": 21,
    "start_time": "2023-03-12T03:40:09.821Z"
   },
   {
    "duration": 61,
    "start_time": "2023-03-12T03:40:10.311Z"
   },
   {
    "duration": 144,
    "start_time": "2023-03-12T03:40:10.793Z"
   },
   {
    "duration": 501,
    "start_time": "2023-03-12T03:40:11.699Z"
   },
   {
    "duration": 1085,
    "start_time": "2023-03-12T03:40:12.203Z"
   },
   {
    "duration": 94,
    "start_time": "2023-03-12T03:40:13.572Z"
   },
   {
    "duration": 139,
    "start_time": "2023-03-12T03:40:14.112Z"
   },
   {
    "duration": 25,
    "start_time": "2023-03-12T03:40:15.066Z"
   },
   {
    "duration": 308,
    "start_time": "2023-03-12T03:40:15.587Z"
   },
   {
    "duration": 344,
    "start_time": "2023-03-12T03:40:16.065Z"
   },
   {
    "duration": 18,
    "start_time": "2023-03-12T03:40:16.570Z"
   },
   {
    "duration": 51,
    "start_time": "2023-03-12T03:40:17.032Z"
   },
   {
    "duration": 23,
    "start_time": "2023-03-12T03:40:17.568Z"
   },
   {
    "duration": 27,
    "start_time": "2023-03-12T03:40:18.033Z"
   },
   {
    "duration": 6,
    "start_time": "2023-03-12T03:40:18.503Z"
   },
   {
    "duration": 17,
    "start_time": "2023-03-12T03:40:19.431Z"
   },
   {
    "duration": 27,
    "start_time": "2023-03-12T03:40:19.921Z"
   },
   {
    "duration": 21,
    "start_time": "2023-03-12T03:40:20.395Z"
   },
   {
    "duration": 296,
    "start_time": "2023-03-12T03:40:20.872Z"
   },
   {
    "duration": 18,
    "start_time": "2023-03-12T03:40:21.851Z"
   },
   {
    "duration": 26,
    "start_time": "2023-03-12T03:40:22.285Z"
   },
   {
    "duration": 15,
    "start_time": "2023-03-12T03:40:23.215Z"
   },
   {
    "duration": 241,
    "start_time": "2023-03-12T03:40:23.689Z"
   },
   {
    "duration": 13,
    "start_time": "2023-03-12T03:40:24.088Z"
   },
   {
    "duration": 8,
    "start_time": "2023-03-12T03:40:24.540Z"
   },
   {
    "duration": 27,
    "start_time": "2023-03-12T03:40:25.470Z"
   },
   {
    "duration": 158,
    "start_time": "2023-03-12T03:40:25.855Z"
   },
   {
    "duration": 9,
    "start_time": "2023-03-12T03:40:26.292Z"
   },
   {
    "duration": 33,
    "start_time": "2023-03-12T03:40:27.228Z"
   },
   {
    "duration": 9,
    "start_time": "2023-03-12T03:40:28.137Z"
   },
   {
    "duration": 3,
    "start_time": "2023-03-12T03:40:28.666Z"
   },
   {
    "duration": 63,
    "start_time": "2023-03-12T03:40:29.666Z"
   },
   {
    "duration": 3,
    "start_time": "2023-03-12T03:40:30.541Z"
   },
   {
    "duration": 2,
    "start_time": "2023-03-12T03:40:34.422Z"
   },
   {
    "duration": 90,
    "start_time": "2023-03-12T03:40:35.311Z"
   },
   {
    "duration": 1473,
    "start_time": "2023-03-12T03:40:38.185Z"
   },
   {
    "duration": 96,
    "start_time": "2023-03-12T03:40:39.901Z"
   },
   {
    "duration": 1420,
    "start_time": "2023-03-12T03:40:54.410Z"
   },
   {
    "duration": 44,
    "start_time": "2023-03-12T03:40:55.832Z"
   },
   {
    "duration": 2311,
    "start_time": "2023-03-12T03:40:56.548Z"
   },
   {
    "duration": 4,
    "start_time": "2023-03-12T03:40:59.615Z"
   },
   {
    "duration": 10,
    "start_time": "2023-03-12T03:41:02.304Z"
   },
   {
    "duration": 2008,
    "start_time": "2023-03-12T03:41:03.853Z"
   },
   {
    "duration": 3,
    "start_time": "2023-03-12T03:41:05.863Z"
   },
   {
    "duration": 24,
    "start_time": "2023-03-12T03:41:05.873Z"
   },
   {
    "duration": 2796,
    "start_time": "2023-03-12T03:41:06.942Z"
   },
   {
    "duration": 5,
    "start_time": "2023-03-12T03:41:09.741Z"
   },
   {
    "duration": 14,
    "start_time": "2023-03-12T03:41:09.748Z"
   },
   {
    "duration": 113,
    "start_time": "2023-03-12T03:41:09.870Z"
   },
   {
    "duration": 42,
    "start_time": "2023-03-12T03:44:53.598Z"
   },
   {
    "duration": 2,
    "start_time": "2023-03-12T03:44:59.470Z"
   },
   {
    "duration": 4,
    "start_time": "2023-03-12T03:49:08.398Z"
   },
   {
    "duration": 4,
    "start_time": "2023-03-12T03:49:33.584Z"
   },
   {
    "duration": 34222,
    "start_time": "2023-03-12T03:50:58.358Z"
   },
   {
    "duration": 88,
    "start_time": "2023-03-12T03:52:30.268Z"
   },
   {
    "duration": 360,
    "start_time": "2023-03-12T03:52:35.618Z"
   },
   {
    "duration": 6,
    "start_time": "2023-03-12T03:53:07.478Z"
   },
   {
    "duration": 11,
    "start_time": "2023-03-12T03:55:17.267Z"
   },
   {
    "duration": 75,
    "start_time": "2023-03-12T03:55:50.892Z"
   },
   {
    "duration": 6,
    "start_time": "2023-03-12T03:55:54.226Z"
   },
   {
    "duration": 92907,
    "start_time": "2023-03-12T03:56:07.266Z"
   },
   {
    "duration": 99084,
    "start_time": "2023-03-12T03:59:00.690Z"
   },
   {
    "duration": 1745,
    "start_time": "2023-03-19T01:45:46.753Z"
   },
   {
    "duration": 1208,
    "start_time": "2023-03-19T01:45:50.072Z"
   },
   {
    "duration": 151,
    "start_time": "2023-03-19T01:45:51.283Z"
   },
   {
    "duration": 79,
    "start_time": "2023-03-19T01:45:52.504Z"
   },
   {
    "duration": 177,
    "start_time": "2023-03-19T01:45:53.598Z"
   },
   {
    "duration": 24,
    "start_time": "2023-03-19T01:45:54.186Z"
   },
   {
    "duration": 55,
    "start_time": "2023-03-19T01:45:54.841Z"
   },
   {
    "duration": 18,
    "start_time": "2023-03-19T01:45:55.322Z"
   },
   {
    "duration": 23,
    "start_time": "2023-03-19T01:45:55.805Z"
   },
   {
    "duration": 50,
    "start_time": "2023-03-19T01:45:56.220Z"
   },
   {
    "duration": 23,
    "start_time": "2023-03-19T01:45:56.670Z"
   },
   {
    "duration": 61,
    "start_time": "2023-03-19T01:45:57.206Z"
   },
   {
    "duration": 22,
    "start_time": "2023-03-19T01:45:57.652Z"
   },
   {
    "duration": 35,
    "start_time": "2023-03-19T01:45:58.053Z"
   },
   {
    "duration": 52,
    "start_time": "2023-03-19T01:45:58.478Z"
   },
   {
    "duration": 21,
    "start_time": "2023-03-19T01:45:58.885Z"
   },
   {
    "duration": 52,
    "start_time": "2023-03-19T01:45:59.291Z"
   },
   {
    "duration": 135,
    "start_time": "2023-03-19T01:45:59.683Z"
   },
   {
    "duration": 515,
    "start_time": "2023-03-19T01:46:00.499Z"
   },
   {
    "duration": 1018,
    "start_time": "2023-03-19T01:46:01.016Z"
   },
   {
    "duration": 91,
    "start_time": "2023-03-19T01:46:02.036Z"
   },
   {
    "duration": 89,
    "start_time": "2023-03-19T01:46:02.663Z"
   },
   {
    "duration": 18,
    "start_time": "2023-03-19T01:46:03.695Z"
   },
   {
    "duration": 389,
    "start_time": "2023-03-19T01:46:04.060Z"
   },
   {
    "duration": 223,
    "start_time": "2023-03-19T01:46:04.459Z"
   },
   {
    "duration": 9,
    "start_time": "2023-03-19T01:46:04.848Z"
   },
   {
    "duration": 33,
    "start_time": "2023-03-19T01:46:05.235Z"
   },
   {
    "duration": 18,
    "start_time": "2023-03-19T01:46:05.660Z"
   },
   {
    "duration": 28,
    "start_time": "2023-03-19T01:46:06.036Z"
   },
   {
    "duration": 6,
    "start_time": "2023-03-19T01:46:06.417Z"
   },
   {
    "duration": 18,
    "start_time": "2023-03-19T01:46:07.556Z"
   },
   {
    "duration": 26,
    "start_time": "2023-03-19T01:46:07.907Z"
   },
   {
    "duration": 17,
    "start_time": "2023-03-19T01:46:08.375Z"
   },
   {
    "duration": 280,
    "start_time": "2023-03-19T01:46:08.719Z"
   },
   {
    "duration": 18,
    "start_time": "2023-03-19T01:46:09.454Z"
   },
   {
    "duration": 25,
    "start_time": "2023-03-19T01:46:09.868Z"
   },
   {
    "duration": 18,
    "start_time": "2023-03-19T01:46:10.576Z"
   },
   {
    "duration": 218,
    "start_time": "2023-03-19T01:46:10.903Z"
   },
   {
    "duration": 12,
    "start_time": "2023-03-19T01:46:11.321Z"
   },
   {
    "duration": 7,
    "start_time": "2023-03-19T01:46:11.709Z"
   },
   {
    "duration": 15,
    "start_time": "2023-03-19T01:46:12.884Z"
   },
   {
    "duration": 110,
    "start_time": "2023-03-19T01:46:13.253Z"
   },
   {
    "duration": 6,
    "start_time": "2023-03-19T01:46:13.631Z"
   },
   {
    "duration": 21,
    "start_time": "2023-03-19T01:46:14.434Z"
   },
   {
    "duration": 7,
    "start_time": "2023-03-19T01:46:15.189Z"
   },
   {
    "duration": 2,
    "start_time": "2023-03-19T01:46:15.732Z"
   },
   {
    "duration": 48,
    "start_time": "2023-03-19T01:46:16.317Z"
   },
   {
    "duration": 2,
    "start_time": "2023-03-19T01:46:17.019Z"
   },
   {
    "duration": 3,
    "start_time": "2023-03-19T01:46:22.278Z"
   },
   {
    "duration": 78,
    "start_time": "2023-03-19T01:46:23.108Z"
   },
   {
    "duration": 1314,
    "start_time": "2023-03-19T01:46:24.015Z"
   },
   {
    "duration": 4,
    "start_time": "2023-03-19T01:46:25.331Z"
   },
   {
    "duration": 2138,
    "start_time": "2023-03-19T01:46:25.771Z"
   },
   {
    "duration": 4,
    "start_time": "2023-03-19T01:46:27.911Z"
   },
   {
    "duration": 4,
    "start_time": "2023-03-19T01:46:29.986Z"
   },
   {
    "duration": 9,
    "start_time": "2023-03-19T01:46:33.101Z"
   },
   {
    "duration": 1887,
    "start_time": "2023-03-19T01:46:34.609Z"
   },
   {
    "duration": 2,
    "start_time": "2023-03-19T01:46:36.499Z"
   },
   {
    "duration": 18,
    "start_time": "2023-03-19T01:46:36.503Z"
   },
   {
    "duration": 2624,
    "start_time": "2023-03-19T01:46:40.125Z"
   },
   {
    "duration": 5,
    "start_time": "2023-03-19T01:46:42.751Z"
   },
   {
    "duration": 5,
    "start_time": "2023-03-19T01:46:44.200Z"
   },
   {
    "duration": 3,
    "start_time": "2023-03-19T01:46:50.824Z"
   },
   {
    "duration": 3,
    "start_time": "2023-03-19T01:46:51.481Z"
   },
   {
    "duration": 19086,
    "start_time": "2023-03-19T01:46:54.694Z"
   },
   {
    "duration": 399,
    "start_time": "2023-03-19T01:47:16.876Z"
   },
   {
    "duration": 6,
    "start_time": "2023-03-19T01:47:21.156Z"
   },
   {
    "duration": 77892,
    "start_time": "2023-03-19T01:47:23.286Z"
   },
   {
    "duration": 46,
    "start_time": "2023-03-19T01:54:33.237Z"
   },
   {
    "duration": 204,
    "start_time": "2023-03-19T01:55:33.348Z"
   },
   {
    "duration": 32143,
    "start_time": "2023-03-19T01:55:43.373Z"
   },
   {
    "duration": 30319,
    "start_time": "2023-03-19T01:56:51.456Z"
   },
   {
    "duration": 30534,
    "start_time": "2023-03-19T01:58:25.864Z"
   },
   {
    "duration": 7,
    "start_time": "2023-03-19T02:05:57.016Z"
   },
   {
    "duration": 6,
    "start_time": "2023-03-19T02:06:02.983Z"
   },
   {
    "duration": 7,
    "start_time": "2023-03-19T02:06:07.815Z"
   },
   {
    "duration": 8,
    "start_time": "2023-03-19T02:06:28.902Z"
   },
   {
    "duration": 6,
    "start_time": "2023-03-19T02:06:42.759Z"
   },
   {
    "duration": 6,
    "start_time": "2023-03-19T02:09:36.440Z"
   },
   {
    "duration": 29634,
    "start_time": "2023-03-19T02:10:19.081Z"
   },
   {
    "duration": 6,
    "start_time": "2023-03-19T02:10:59.657Z"
   },
   {
    "duration": 5,
    "start_time": "2023-03-19T02:11:07.930Z"
   },
   {
    "duration": 6,
    "start_time": "2023-03-19T02:11:28.009Z"
   },
   {
    "duration": 1671,
    "start_time": "2023-03-26T04:10:18.944Z"
   },
   {
    "duration": 1150,
    "start_time": "2023-03-26T04:10:20.617Z"
   },
   {
    "duration": 111,
    "start_time": "2023-03-26T04:10:21.769Z"
   },
   {
    "duration": 75,
    "start_time": "2023-03-26T04:10:23.623Z"
   },
   {
    "duration": 160,
    "start_time": "2023-03-26T04:10:25.483Z"
   },
   {
    "duration": 19,
    "start_time": "2023-03-26T04:10:26.562Z"
   },
   {
    "duration": 42,
    "start_time": "2023-03-26T04:10:27.326Z"
   },
   {
    "duration": 14,
    "start_time": "2023-03-26T04:10:27.985Z"
   },
   {
    "duration": 18,
    "start_time": "2023-03-26T04:10:28.789Z"
   },
   {
    "duration": 42,
    "start_time": "2023-03-26T04:10:31.137Z"
   },
   {
    "duration": 21,
    "start_time": "2023-03-26T04:10:31.863Z"
   },
   {
    "duration": 43,
    "start_time": "2023-03-26T04:10:32.706Z"
   },
   {
    "duration": 17,
    "start_time": "2023-03-26T04:10:33.364Z"
   },
   {
    "duration": 29,
    "start_time": "2023-03-26T04:10:34.299Z"
   },
   {
    "duration": 47,
    "start_time": "2023-03-26T04:10:35.234Z"
   },
   {
    "duration": 25,
    "start_time": "2023-03-26T04:10:35.817Z"
   },
   {
    "duration": 43,
    "start_time": "2023-03-26T04:10:36.391Z"
   },
   {
    "duration": 109,
    "start_time": "2023-03-26T04:10:37.008Z"
   },
   {
    "duration": 428,
    "start_time": "2023-03-26T04:10:39.062Z"
   },
   {
    "duration": 982,
    "start_time": "2023-03-26T04:10:40.467Z"
   },
   {
    "duration": 88,
    "start_time": "2023-03-26T04:10:43.300Z"
   },
   {
    "duration": 70,
    "start_time": "2023-03-26T04:10:45.628Z"
   },
   {
    "duration": 19,
    "start_time": "2023-03-26T04:10:48.605Z"
   },
   {
    "duration": 368,
    "start_time": "2023-03-26T04:10:49.331Z"
   },
   {
    "duration": 215,
    "start_time": "2023-03-26T04:10:50.951Z"
   },
   {
    "duration": 9,
    "start_time": "2023-03-26T04:10:52.089Z"
   },
   {
    "duration": 33,
    "start_time": "2023-03-26T04:10:52.903Z"
   },
   {
    "duration": 18,
    "start_time": "2023-03-26T04:10:53.615Z"
   },
   {
    "duration": 26,
    "start_time": "2023-03-26T04:10:54.450Z"
   },
   {
    "duration": 6,
    "start_time": "2023-03-26T04:10:55.177Z"
   },
   {
    "duration": 17,
    "start_time": "2023-03-26T04:10:56.386Z"
   },
   {
    "duration": 27,
    "start_time": "2023-03-26T04:10:57.148Z"
   },
   {
    "duration": 16,
    "start_time": "2023-03-26T04:10:57.898Z"
   },
   {
    "duration": 266,
    "start_time": "2023-03-26T04:10:58.727Z"
   },
   {
    "duration": 17,
    "start_time": "2023-03-26T04:11:00.279Z"
   },
   {
    "duration": 28,
    "start_time": "2023-03-26T04:11:01.168Z"
   },
   {
    "duration": 14,
    "start_time": "2023-03-26T04:11:02.241Z"
   },
   {
    "duration": 207,
    "start_time": "2023-03-26T04:11:02.853Z"
   },
   {
    "duration": 11,
    "start_time": "2023-03-26T04:11:03.463Z"
   },
   {
    "duration": 7,
    "start_time": "2023-03-26T04:11:04.199Z"
   },
   {
    "duration": 15,
    "start_time": "2023-03-26T04:11:05.584Z"
   },
   {
    "duration": 91,
    "start_time": "2023-03-26T04:11:06.465Z"
   },
   {
    "duration": 6,
    "start_time": "2023-03-26T04:11:07.117Z"
   },
   {
    "duration": 21,
    "start_time": "2023-03-26T04:11:11.898Z"
   },
   {
    "duration": 10,
    "start_time": "2023-03-26T04:11:15.876Z"
   },
   {
    "duration": 9,
    "start_time": "2023-03-26T04:11:15.892Z"
   },
   {
    "duration": 42,
    "start_time": "2023-03-26T04:11:17.854Z"
   },
   {
    "duration": 3,
    "start_time": "2023-03-26T04:11:18.952Z"
   },
   {
    "duration": 2,
    "start_time": "2023-03-26T04:11:25.175Z"
   },
   {
    "duration": 85,
    "start_time": "2023-03-26T04:11:26.151Z"
   },
   {
    "duration": 1161,
    "start_time": "2023-03-26T04:11:27.471Z"
   },
   {
    "duration": 7,
    "start_time": "2023-03-26T04:11:28.634Z"
   },
   {
    "duration": 2544,
    "start_time": "2023-03-26T04:11:29.004Z"
   },
   {
    "duration": 4,
    "start_time": "2023-03-26T04:11:31.550Z"
   },
   {
    "duration": 4,
    "start_time": "2023-03-26T04:11:32.225Z"
   },
   {
    "duration": 9,
    "start_time": "2023-03-26T04:11:33.601Z"
   },
   {
    "duration": 2446,
    "start_time": "2023-03-26T04:11:37.175Z"
   },
   {
    "duration": 3,
    "start_time": "2023-03-26T04:11:39.623Z"
   },
   {
    "duration": 47,
    "start_time": "2023-03-26T04:11:39.627Z"
   },
   {
    "duration": 2814,
    "start_time": "2023-03-26T04:11:39.675Z"
   },
   {
    "duration": 5,
    "start_time": "2023-03-26T04:11:42.491Z"
   },
   {
    "duration": 4,
    "start_time": "2023-03-26T04:11:44.117Z"
   },
   {
    "duration": 2,
    "start_time": "2023-03-26T04:11:49.016Z"
   },
   {
    "duration": 2,
    "start_time": "2023-03-26T04:11:49.540Z"
   },
   {
    "duration": 24857,
    "start_time": "2023-03-26T04:11:54.085Z"
   },
   {
    "duration": 595,
    "start_time": "2023-03-26T04:12:18.945Z"
   },
   {
    "duration": 7,
    "start_time": "2023-03-26T04:12:19.543Z"
   },
   {
    "duration": 97029,
    "start_time": "2023-03-26T04:12:25.921Z"
   },
   {
    "duration": 30641,
    "start_time": "2023-03-26T04:14:54.373Z"
   },
   {
    "duration": 30715,
    "start_time": "2023-03-26T04:15:27.590Z"
   },
   {
    "duration": 30974,
    "start_time": "2023-03-26T04:17:12.730Z"
   },
   {
    "duration": 6,
    "start_time": "2023-03-26T04:18:01.269Z"
   },
   {
    "duration": 78959,
    "start_time": "2023-03-26T04:24:56.391Z"
   },
   {
    "duration": 84622,
    "start_time": "2023-03-26T04:53:05.927Z"
   },
   {
    "duration": 6,
    "start_time": "2023-03-26T05:46:59.381Z"
   },
   {
    "duration": 206,
    "start_time": "2023-03-26T05:59:54.570Z"
   },
   {
    "duration": 6,
    "start_time": "2023-03-26T06:00:33.822Z"
   },
   {
    "duration": 11,
    "start_time": "2023-03-26T07:01:51.842Z"
   },
   {
    "duration": 52203,
    "start_time": "2023-03-26T07:01:52.867Z"
   },
   {
    "duration": 3,
    "start_time": "2023-03-26T07:03:14.235Z"
   },
   {
    "duration": 3,
    "start_time": "2023-03-26T07:03:46.072Z"
   },
   {
    "duration": 25044,
    "start_time": "2023-03-26T07:06:10.935Z"
   },
   {
    "duration": 5,
    "start_time": "2023-03-26T07:06:46.752Z"
   },
   {
    "duration": 808,
    "start_time": "2023-03-26T07:06:48.836Z"
   },
   {
    "duration": 119,
    "start_time": "2023-03-26T07:06:53.093Z"
   },
   {
    "duration": 75,
    "start_time": "2023-03-26T07:06:54.321Z"
   },
   {
    "duration": 119,
    "start_time": "2023-03-26T07:06:55.609Z"
   },
   {
    "duration": 26,
    "start_time": "2023-03-26T07:06:56.388Z"
   },
   {
    "duration": 46,
    "start_time": "2023-03-26T07:06:57.080Z"
   },
   {
    "duration": 17,
    "start_time": "2023-03-26T07:06:57.480Z"
   },
   {
    "duration": 32,
    "start_time": "2023-03-26T07:06:58.036Z"
   },
   {
    "duration": 51,
    "start_time": "2023-03-26T07:06:58.464Z"
   },
   {
    "duration": 24,
    "start_time": "2023-03-26T07:06:58.894Z"
   },
   {
    "duration": 54,
    "start_time": "2023-03-26T07:06:59.560Z"
   },
   {
    "duration": 23,
    "start_time": "2023-03-26T07:07:00.023Z"
   },
   {
    "duration": 34,
    "start_time": "2023-03-26T07:07:00.552Z"
   },
   {
    "duration": 44,
    "start_time": "2023-03-26T07:07:01.003Z"
   },
   {
    "duration": 34,
    "start_time": "2023-03-26T07:07:01.412Z"
   },
   {
    "duration": 56,
    "start_time": "2023-03-26T07:07:01.835Z"
   },
   {
    "duration": 170,
    "start_time": "2023-03-26T07:07:02.195Z"
   },
   {
    "duration": 469,
    "start_time": "2023-03-26T07:07:03.074Z"
   },
   {
    "duration": 1000,
    "start_time": "2023-03-26T07:07:03.546Z"
   },
   {
    "duration": 67,
    "start_time": "2023-03-26T07:07:04.549Z"
   },
   {
    "duration": 73,
    "start_time": "2023-03-26T07:07:04.642Z"
   },
   {
    "duration": 33,
    "start_time": "2023-03-26T07:07:05.509Z"
   },
   {
    "duration": 335,
    "start_time": "2023-03-26T07:07:05.883Z"
   },
   {
    "duration": 225,
    "start_time": "2023-03-26T07:07:06.255Z"
   },
   {
    "duration": 16,
    "start_time": "2023-03-26T07:07:06.660Z"
   },
   {
    "duration": 29,
    "start_time": "2023-03-26T07:07:07.063Z"
   },
   {
    "duration": 19,
    "start_time": "2023-03-26T07:07:07.418Z"
   },
   {
    "duration": 27,
    "start_time": "2023-03-26T07:07:07.804Z"
   },
   {
    "duration": 7,
    "start_time": "2023-03-26T07:07:08.195Z"
   },
   {
    "duration": 20,
    "start_time": "2023-03-26T07:07:08.912Z"
   },
   {
    "duration": 30,
    "start_time": "2023-03-26T07:07:09.261Z"
   },
   {
    "duration": 18,
    "start_time": "2023-03-26T07:07:09.916Z"
   },
   {
    "duration": 324,
    "start_time": "2023-03-26T07:07:10.234Z"
   },
   {
    "duration": 19,
    "start_time": "2023-03-26T07:07:10.800Z"
   },
   {
    "duration": 28,
    "start_time": "2023-03-26T07:07:11.167Z"
   },
   {
    "duration": 16,
    "start_time": "2023-03-26T07:07:11.817Z"
   },
   {
    "duration": 367,
    "start_time": "2023-03-26T07:07:12.085Z"
   },
   {
    "duration": 13,
    "start_time": "2023-03-26T07:07:12.454Z"
   },
   {
    "duration": 8,
    "start_time": "2023-03-26T07:07:12.702Z"
   },
   {
    "duration": 22,
    "start_time": "2023-03-26T07:07:13.404Z"
   },
   {
    "duration": 82,
    "start_time": "2023-03-26T07:07:13.784Z"
   },
   {
    "duration": 8,
    "start_time": "2023-03-26T07:07:14.050Z"
   },
   {
    "duration": 18,
    "start_time": "2023-03-26T07:07:14.699Z"
   },
   {
    "duration": 8,
    "start_time": "2023-03-26T07:07:15.494Z"
   },
   {
    "duration": 3,
    "start_time": "2023-03-26T07:07:15.927Z"
   },
   {
    "duration": 46,
    "start_time": "2023-03-26T07:07:16.270Z"
   },
   {
    "duration": 3,
    "start_time": "2023-03-26T07:07:16.622Z"
   },
   {
    "duration": 3,
    "start_time": "2023-03-26T07:07:18.935Z"
   },
   {
    "duration": 99,
    "start_time": "2023-03-26T07:07:19.596Z"
   },
   {
    "duration": 1269,
    "start_time": "2023-03-26T07:07:20.812Z"
   },
   {
    "duration": 44,
    "start_time": "2023-03-26T07:07:22.083Z"
   },
   {
    "duration": 2642,
    "start_time": "2023-03-26T07:07:22.128Z"
   },
   {
    "duration": 4,
    "start_time": "2023-03-26T07:07:24.772Z"
   },
   {
    "duration": 6,
    "start_time": "2023-03-26T07:07:33.127Z"
   },
   {
    "duration": 10,
    "start_time": "2023-03-26T07:07:38.694Z"
   },
   {
    "duration": 2245,
    "start_time": "2023-03-26T07:07:39.103Z"
   },
   {
    "duration": 3,
    "start_time": "2023-03-26T07:07:41.350Z"
   },
   {
    "duration": 15,
    "start_time": "2023-03-26T07:07:41.356Z"
   },
   {
    "duration": 3082,
    "start_time": "2023-03-26T07:07:41.374Z"
   },
   {
    "duration": 6,
    "start_time": "2023-03-26T07:07:44.458Z"
   },
   {
    "duration": 13,
    "start_time": "2023-03-26T07:07:44.466Z"
   },
   {
    "duration": 4,
    "start_time": "2023-03-26T07:07:44.481Z"
   },
   {
    "duration": 6,
    "start_time": "2023-03-26T07:07:44.487Z"
   },
   {
    "duration": 164,
    "start_time": "2023-03-26T07:08:04.322Z"
   },
   {
    "duration": 104,
    "start_time": "2023-03-26T07:08:11.181Z"
   },
   {
    "duration": 2058,
    "start_time": "2023-03-26T07:08:23.908Z"
   },
   {
    "duration": 1470,
    "start_time": "2023-03-26T07:08:25.968Z"
   },
   {
    "duration": 124,
    "start_time": "2023-03-26T07:08:29.496Z"
   },
   {
    "duration": 82,
    "start_time": "2023-03-26T07:08:30.124Z"
   },
   {
    "duration": 155,
    "start_time": "2023-03-26T07:08:30.754Z"
   },
   {
    "duration": 20,
    "start_time": "2023-03-26T07:08:31.044Z"
   },
   {
    "duration": 53,
    "start_time": "2023-03-26T07:08:31.396Z"
   },
   {
    "duration": 30,
    "start_time": "2023-03-26T07:08:31.838Z"
   },
   {
    "duration": 20,
    "start_time": "2023-03-26T07:08:32.229Z"
   },
   {
    "duration": 46,
    "start_time": "2023-03-26T07:08:38.473Z"
   },
   {
    "duration": 23,
    "start_time": "2023-03-26T07:08:38.881Z"
   },
   {
    "duration": 50,
    "start_time": "2023-03-26T07:08:39.203Z"
   },
   {
    "duration": 23,
    "start_time": "2023-03-26T07:08:39.594Z"
   },
   {
    "duration": 54,
    "start_time": "2023-03-26T07:08:39.801Z"
   },
   {
    "duration": 47,
    "start_time": "2023-03-26T07:08:40.124Z"
   },
   {
    "duration": 20,
    "start_time": "2023-03-26T07:08:40.427Z"
   },
   {
    "duration": 46,
    "start_time": "2023-03-26T07:08:40.760Z"
   },
   {
    "duration": 118,
    "start_time": "2023-03-26T07:08:41.025Z"
   },
   {
    "duration": 525,
    "start_time": "2023-03-26T07:08:41.601Z"
   },
   {
    "duration": 1050,
    "start_time": "2023-03-26T07:08:42.129Z"
   },
   {
    "duration": 107,
    "start_time": "2023-03-26T07:08:43.181Z"
   },
   {
    "duration": 93,
    "start_time": "2023-03-26T07:08:43.290Z"
   },
   {
    "duration": 23,
    "start_time": "2023-03-26T07:08:43.433Z"
   },
   {
    "duration": 283,
    "start_time": "2023-03-26T07:08:43.770Z"
   },
   {
    "duration": 360,
    "start_time": "2023-03-26T07:08:44.092Z"
   },
   {
    "duration": 13,
    "start_time": "2023-03-26T07:08:44.455Z"
   },
   {
    "duration": 36,
    "start_time": "2023-03-26T07:08:44.655Z"
   },
   {
    "duration": 23,
    "start_time": "2023-03-26T07:08:44.973Z"
   },
   {
    "duration": 30,
    "start_time": "2023-03-26T07:08:45.285Z"
   },
   {
    "duration": 9,
    "start_time": "2023-03-26T07:08:45.596Z"
   },
   {
    "duration": 19,
    "start_time": "2023-03-26T07:08:46.201Z"
   },
   {
    "duration": 29,
    "start_time": "2023-03-26T07:08:46.500Z"
   },
   {
    "duration": 17,
    "start_time": "2023-03-26T07:08:46.778Z"
   },
   {
    "duration": 315,
    "start_time": "2023-03-26T07:08:47.078Z"
   },
   {
    "duration": 19,
    "start_time": "2023-03-26T07:08:47.667Z"
   },
   {
    "duration": 27,
    "start_time": "2023-03-26T07:08:48.002Z"
   },
   {
    "duration": 16,
    "start_time": "2023-03-26T07:08:48.597Z"
   },
   {
    "duration": 228,
    "start_time": "2023-03-26T07:08:48.886Z"
   },
   {
    "duration": 12,
    "start_time": "2023-03-26T07:08:49.208Z"
   },
   {
    "duration": 10,
    "start_time": "2023-03-26T07:08:49.519Z"
   },
   {
    "duration": 22,
    "start_time": "2023-03-26T07:08:50.121Z"
   },
   {
    "duration": 110,
    "start_time": "2023-03-26T07:08:50.393Z"
   },
   {
    "duration": 7,
    "start_time": "2023-03-26T07:08:50.695Z"
   },
   {
    "duration": 19,
    "start_time": "2023-03-26T07:08:51.318Z"
   },
   {
    "duration": 7,
    "start_time": "2023-03-26T07:08:51.934Z"
   },
   {
    "duration": 2,
    "start_time": "2023-03-26T07:08:52.237Z"
   },
   {
    "duration": 44,
    "start_time": "2023-03-26T07:08:52.652Z"
   },
   {
    "duration": 3,
    "start_time": "2023-03-26T07:08:52.875Z"
   },
   {
    "duration": 2,
    "start_time": "2023-03-26T07:08:53.880Z"
   },
   {
    "duration": 99,
    "start_time": "2023-03-26T07:08:54.227Z"
   },
   {
    "duration": 1270,
    "start_time": "2023-03-26T07:08:54.606Z"
   },
   {
    "duration": 5,
    "start_time": "2023-03-26T07:09:13.756Z"
   },
   {
    "duration": 2626,
    "start_time": "2023-03-26T07:09:14.313Z"
   },
   {
    "duration": 4,
    "start_time": "2023-03-26T07:09:16.942Z"
   },
   {
    "duration": 22,
    "start_time": "2023-03-26T07:09:16.948Z"
   },
   {
    "duration": 21,
    "start_time": "2023-03-26T07:09:16.972Z"
   },
   {
    "duration": 2259,
    "start_time": "2023-03-26T07:09:17.329Z"
   },
   {
    "duration": 3,
    "start_time": "2023-03-26T07:09:25.028Z"
   },
   {
    "duration": 17,
    "start_time": "2023-03-26T07:09:25.790Z"
   },
   {
    "duration": 2803,
    "start_time": "2023-03-26T07:09:26.132Z"
   },
   {
    "duration": 6,
    "start_time": "2023-03-26T07:09:28.940Z"
   },
   {
    "duration": 12,
    "start_time": "2023-03-26T07:09:28.948Z"
   },
   {
    "duration": 15,
    "start_time": "2023-03-26T07:09:28.963Z"
   },
   {
    "duration": 14,
    "start_time": "2023-03-26T07:09:28.980Z"
   },
   {
    "duration": 24298,
    "start_time": "2023-03-26T07:09:30.547Z"
   },
   {
    "duration": 489,
    "start_time": "2023-03-26T07:11:20.257Z"
   },
   {
    "duration": 6,
    "start_time": "2023-03-26T07:11:22.465Z"
   },
   {
    "duration": 126221,
    "start_time": "2023-03-26T07:11:23.930Z"
   },
   {
    "duration": 120,
    "start_time": "2023-03-26T07:14:20.310Z"
   },
   {
    "duration": 25670,
    "start_time": "2023-03-26T07:14:37.970Z"
   },
   {
    "duration": 7,
    "start_time": "2023-03-26T07:15:03.643Z"
   },
   {
    "duration": 991,
    "start_time": "2023-03-26T07:15:03.652Z"
   },
   {
    "duration": 5,
    "start_time": "2023-03-26T07:15:09.122Z"
   },
   {
    "duration": 851,
    "start_time": "2023-03-26T07:15:10.374Z"
   },
   {
    "duration": 121,
    "start_time": "2023-03-26T07:15:12.311Z"
   },
   {
    "duration": 93,
    "start_time": "2023-03-26T07:15:13.132Z"
   },
   {
    "duration": 134,
    "start_time": "2023-03-26T07:15:14.080Z"
   },
   {
    "duration": 20,
    "start_time": "2023-03-26T07:15:14.437Z"
   },
   {
    "duration": 46,
    "start_time": "2023-03-26T07:15:14.833Z"
   },
   {
    "duration": 19,
    "start_time": "2023-03-26T07:15:15.202Z"
   },
   {
    "duration": 21,
    "start_time": "2023-03-26T07:15:15.542Z"
   },
   {
    "duration": 61,
    "start_time": "2023-03-26T07:15:15.847Z"
   },
   {
    "duration": 38,
    "start_time": "2023-03-26T07:15:16.208Z"
   },
   {
    "duration": 66,
    "start_time": "2023-03-26T07:15:16.498Z"
   },
   {
    "duration": 30,
    "start_time": "2023-03-26T07:15:16.802Z"
   },
   {
    "duration": 32,
    "start_time": "2023-03-26T07:15:17.136Z"
   },
   {
    "duration": 48,
    "start_time": "2023-03-26T07:15:17.507Z"
   },
   {
    "duration": 21,
    "start_time": "2023-03-26T07:15:17.898Z"
   },
   {
    "duration": 46,
    "start_time": "2023-03-26T07:15:18.152Z"
   },
   {
    "duration": 134,
    "start_time": "2023-03-26T07:15:18.510Z"
   },
   {
    "duration": 492,
    "start_time": "2023-03-26T07:15:19.127Z"
   },
   {
    "duration": 1020,
    "start_time": "2023-03-26T07:15:19.622Z"
   },
   {
    "duration": 72,
    "start_time": "2023-03-26T07:15:20.645Z"
   },
   {
    "duration": 94,
    "start_time": "2023-03-26T07:15:20.719Z"
   },
   {
    "duration": 20,
    "start_time": "2023-03-26T07:15:20.845Z"
   },
   {
    "duration": 305,
    "start_time": "2023-03-26T07:15:21.203Z"
   },
   {
    "duration": 235,
    "start_time": "2023-03-26T07:15:21.730Z"
   },
   {
    "duration": 8,
    "start_time": "2023-03-26T07:15:21.999Z"
   },
   {
    "duration": 36,
    "start_time": "2023-03-26T07:15:22.435Z"
   },
   {
    "duration": 20,
    "start_time": "2023-03-26T07:15:22.707Z"
   },
   {
    "duration": 28,
    "start_time": "2023-03-26T07:15:23.029Z"
   },
   {
    "duration": 6,
    "start_time": "2023-03-26T07:15:23.338Z"
   },
   {
    "duration": 21,
    "start_time": "2023-03-26T07:15:23.851Z"
   },
   {
    "duration": 31,
    "start_time": "2023-03-26T07:15:24.100Z"
   },
   {
    "duration": 21,
    "start_time": "2023-03-26T07:15:24.379Z"
   },
   {
    "duration": 295,
    "start_time": "2023-03-26T07:15:24.663Z"
   },
   {
    "duration": 19,
    "start_time": "2023-03-26T07:15:25.174Z"
   },
   {
    "duration": 27,
    "start_time": "2023-03-26T07:15:25.447Z"
   },
   {
    "duration": 20,
    "start_time": "2023-03-26T07:15:25.984Z"
   },
   {
    "duration": 224,
    "start_time": "2023-03-26T07:15:26.251Z"
   },
   {
    "duration": 12,
    "start_time": "2023-03-26T07:15:26.480Z"
   },
   {
    "duration": 8,
    "start_time": "2023-03-26T07:15:26.794Z"
   },
   {
    "duration": 23,
    "start_time": "2023-03-26T07:15:27.340Z"
   },
   {
    "duration": 122,
    "start_time": "2023-03-26T07:15:27.682Z"
   },
   {
    "duration": 7,
    "start_time": "2023-03-26T07:15:27.940Z"
   },
   {
    "duration": 22,
    "start_time": "2023-03-26T07:15:28.448Z"
   },
   {
    "duration": 7,
    "start_time": "2023-03-26T07:15:29.077Z"
   },
   {
    "duration": 2,
    "start_time": "2023-03-26T07:15:29.390Z"
   },
   {
    "duration": 43,
    "start_time": "2023-03-26T07:15:29.675Z"
   },
   {
    "duration": 2,
    "start_time": "2023-03-26T07:15:29.919Z"
   },
   {
    "duration": 3,
    "start_time": "2023-03-26T07:15:30.883Z"
   },
   {
    "duration": 113,
    "start_time": "2023-03-26T07:15:31.239Z"
   },
   {
    "duration": 1174,
    "start_time": "2023-03-26T07:15:32.877Z"
   },
   {
    "duration": 57,
    "start_time": "2023-03-26T07:15:34.053Z"
   },
   {
    "duration": 2633,
    "start_time": "2023-03-26T07:15:35.040Z"
   },
   {
    "duration": 4,
    "start_time": "2023-03-26T07:15:37.676Z"
   },
   {
    "duration": 10,
    "start_time": "2023-03-26T07:15:37.682Z"
   },
   {
    "duration": 20,
    "start_time": "2023-03-26T07:15:37.695Z"
   },
   {
    "duration": 2355,
    "start_time": "2023-03-26T07:15:37.716Z"
   },
   {
    "duration": 3,
    "start_time": "2023-03-26T07:15:40.073Z"
   },
   {
    "duration": 20,
    "start_time": "2023-03-26T07:15:40.078Z"
   },
   {
    "duration": 2842,
    "start_time": "2023-03-26T07:15:40.100Z"
   },
   {
    "duration": 6,
    "start_time": "2023-03-26T07:15:42.945Z"
   },
   {
    "duration": 9,
    "start_time": "2023-03-26T07:15:42.953Z"
   },
   {
    "duration": 6,
    "start_time": "2023-03-26T07:15:42.964Z"
   },
   {
    "duration": 8,
    "start_time": "2023-03-26T07:15:42.971Z"
   },
   {
    "duration": 233,
    "start_time": "2023-03-26T07:15:52.966Z"
   },
   {
    "duration": 2152,
    "start_time": "2023-03-26T07:16:01.827Z"
   },
   {
    "duration": 1189,
    "start_time": "2023-03-26T07:16:03.981Z"
   },
   {
    "duration": 148,
    "start_time": "2023-03-26T07:16:06.424Z"
   },
   {
    "duration": 96,
    "start_time": "2023-03-26T07:16:06.668Z"
   },
   {
    "duration": 164,
    "start_time": "2023-03-26T07:16:07.599Z"
   },
   {
    "duration": 21,
    "start_time": "2023-03-26T07:16:08.095Z"
   },
   {
    "duration": 67,
    "start_time": "2023-03-26T07:16:08.538Z"
   },
   {
    "duration": 20,
    "start_time": "2023-03-26T07:16:08.928Z"
   },
   {
    "duration": 32,
    "start_time": "2023-03-26T07:16:09.253Z"
   },
   {
    "duration": 44,
    "start_time": "2023-03-26T07:16:09.731Z"
   },
   {
    "duration": 23,
    "start_time": "2023-03-26T07:16:10.115Z"
   },
   {
    "duration": 50,
    "start_time": "2023-03-26T07:16:10.442Z"
   },
   {
    "duration": 34,
    "start_time": "2023-03-26T07:16:10.760Z"
   },
   {
    "duration": 33,
    "start_time": "2023-03-26T07:16:11.076Z"
   },
   {
    "duration": 49,
    "start_time": "2023-03-26T07:16:11.433Z"
   },
   {
    "duration": 22,
    "start_time": "2023-03-26T07:16:11.748Z"
   },
   {
    "duration": 48,
    "start_time": "2023-03-26T07:16:12.045Z"
   },
   {
    "duration": 146,
    "start_time": "2023-03-26T07:16:12.391Z"
   },
   {
    "duration": 597,
    "start_time": "2023-03-26T07:16:13.012Z"
   },
   {
    "duration": 1130,
    "start_time": "2023-03-26T07:16:13.612Z"
   },
   {
    "duration": 118,
    "start_time": "2023-03-26T07:16:14.745Z"
   },
   {
    "duration": 91,
    "start_time": "2023-03-26T07:16:14.866Z"
   },
   {
    "duration": 23,
    "start_time": "2023-03-26T07:16:15.110Z"
   },
   {
    "duration": 512,
    "start_time": "2023-03-26T07:16:15.491Z"
   },
   {
    "duration": 440,
    "start_time": "2023-03-26T07:16:16.006Z"
   },
   {
    "duration": 12,
    "start_time": "2023-03-26T07:16:16.449Z"
   },
   {
    "duration": 39,
    "start_time": "2023-03-26T07:16:16.540Z"
   },
   {
    "duration": 21,
    "start_time": "2023-03-26T07:16:16.925Z"
   },
   {
    "duration": 31,
    "start_time": "2023-03-26T07:16:17.307Z"
   },
   {
    "duration": 7,
    "start_time": "2023-03-26T07:16:17.572Z"
   },
   {
    "duration": 19,
    "start_time": "2023-03-26T07:16:18.227Z"
   },
   {
    "duration": 30,
    "start_time": "2023-03-26T07:16:18.562Z"
   },
   {
    "duration": 20,
    "start_time": "2023-03-26T07:16:18.964Z"
   },
   {
    "duration": 306,
    "start_time": "2023-03-26T07:16:19.297Z"
   },
   {
    "duration": 20,
    "start_time": "2023-03-26T07:16:20.152Z"
   },
   {
    "duration": 31,
    "start_time": "2023-03-26T07:16:20.434Z"
   },
   {
    "duration": 20,
    "start_time": "2023-03-26T07:16:21.136Z"
   },
   {
    "duration": 237,
    "start_time": "2023-03-26T07:16:21.576Z"
   },
   {
    "duration": 13,
    "start_time": "2023-03-26T07:16:21.930Z"
   },
   {
    "duration": 8,
    "start_time": "2023-03-26T07:16:22.258Z"
   },
   {
    "duration": 20,
    "start_time": "2023-03-26T07:16:22.903Z"
   },
   {
    "duration": 106,
    "start_time": "2023-03-26T07:16:23.245Z"
   },
   {
    "duration": 6,
    "start_time": "2023-03-26T07:16:23.615Z"
   },
   {
    "duration": 22,
    "start_time": "2023-03-26T07:16:24.281Z"
   },
   {
    "duration": 8,
    "start_time": "2023-03-26T07:16:24.981Z"
   },
   {
    "duration": 3,
    "start_time": "2023-03-26T07:16:25.468Z"
   },
   {
    "duration": 66,
    "start_time": "2023-03-26T07:16:25.902Z"
   },
   {
    "duration": 3,
    "start_time": "2023-03-26T07:16:26.244Z"
   },
   {
    "duration": 3,
    "start_time": "2023-03-26T07:16:27.201Z"
   },
   {
    "duration": 110,
    "start_time": "2023-03-26T07:16:27.540Z"
   },
   {
    "duration": 1307,
    "start_time": "2023-03-26T07:16:27.883Z"
   },
   {
    "duration": 8,
    "start_time": "2023-03-26T07:16:29.193Z"
   },
   {
    "duration": 2737,
    "start_time": "2023-03-26T07:16:29.204Z"
   },
   {
    "duration": 4,
    "start_time": "2023-03-26T07:16:31.944Z"
   },
   {
    "duration": 12,
    "start_time": "2023-03-26T07:16:31.950Z"
   },
   {
    "duration": 17,
    "start_time": "2023-03-26T07:16:31.964Z"
   },
   {
    "duration": 2348,
    "start_time": "2023-03-26T07:16:31.983Z"
   },
   {
    "duration": 2,
    "start_time": "2023-03-26T07:16:34.333Z"
   },
   {
    "duration": 11,
    "start_time": "2023-03-26T07:16:34.336Z"
   },
   {
    "duration": 2802,
    "start_time": "2023-03-26T07:16:34.350Z"
   },
   {
    "duration": 8,
    "start_time": "2023-03-26T07:16:37.154Z"
   },
   {
    "duration": 8,
    "start_time": "2023-03-26T07:16:37.164Z"
   },
   {
    "duration": 9,
    "start_time": "2023-03-26T07:16:37.175Z"
   },
   {
    "duration": 7,
    "start_time": "2023-03-26T07:16:37.188Z"
   },
   {
    "duration": 27054,
    "start_time": "2023-03-26T07:16:37.198Z"
   },
   {
    "duration": 353,
    "start_time": "2023-03-26T07:17:06.905Z"
   },
   {
    "duration": 7,
    "start_time": "2023-03-26T07:17:08.562Z"
   },
   {
    "duration": 97,
    "start_time": "2023-03-26T07:17:21.574Z"
   },
   {
    "duration": 7,
    "start_time": "2023-03-26T07:17:32.403Z"
   },
   {
    "duration": 100420,
    "start_time": "2023-03-26T07:17:33.533Z"
   },
   {
    "duration": 33816,
    "start_time": "2023-03-26T07:19:13.958Z"
   },
   {
    "duration": 103965,
    "start_time": "2023-03-26T07:19:47.776Z"
   },
   {
    "duration": 34457,
    "start_time": "2023-03-26T07:22:05.490Z"
   },
   {
    "duration": 32673,
    "start_time": "2023-03-26T07:22:39.950Z"
   },
   {
    "duration": 182,
    "start_time": "2023-03-26T07:23:38.602Z"
   },
   {
    "duration": 16,
    "start_time": "2023-03-26T07:23:41.104Z"
   },
   {
    "duration": 3,
    "start_time": "2023-03-26T07:26:43.122Z"
   },
   {
    "duration": 14,
    "start_time": "2023-03-26T07:26:44.175Z"
   },
   {
    "duration": 32407,
    "start_time": "2023-03-26T07:26:50.767Z"
   },
   {
    "duration": 455,
    "start_time": "2023-03-26T07:27:41.873Z"
   },
   {
    "duration": 8,
    "start_time": "2023-03-26T07:27:44.912Z"
   },
   {
    "duration": 13519,
    "start_time": "2023-03-26T07:32:50.347Z"
   },
   {
    "duration": 13633,
    "start_time": "2023-03-26T07:33:24.224Z"
   },
   {
    "duration": 2802,
    "start_time": "2023-03-26T07:35:12.364Z"
   },
   {
    "duration": 18,
    "start_time": "2023-03-26T07:35:48.156Z"
   },
   {
    "duration": 7,
    "start_time": "2023-03-26T07:36:23.258Z"
   },
   {
    "duration": 103,
    "start_time": "2023-03-26T07:42:58.184Z"
   },
   {
    "duration": 94,
    "start_time": "2023-03-26T07:43:06.646Z"
   },
   {
    "duration": 14,
    "start_time": "2023-03-26T07:43:50.355Z"
   },
   {
    "duration": 17,
    "start_time": "2023-03-26T07:43:59.128Z"
   },
   {
    "duration": 17,
    "start_time": "2023-03-26T07:44:07.788Z"
   },
   {
    "duration": 5,
    "start_time": "2023-03-26T07:45:00.725Z"
   },
   {
    "duration": 4,
    "start_time": "2023-03-26T07:45:05.038Z"
   },
   {
    "duration": 5,
    "start_time": "2023-03-26T07:45:38.637Z"
   },
   {
    "duration": 6,
    "start_time": "2023-03-26T07:45:55.777Z"
   },
   {
    "duration": 10,
    "start_time": "2023-03-26T07:46:05.051Z"
   },
   {
    "duration": 30106,
    "start_time": "2023-03-26T07:50:12.743Z"
   },
   {
    "duration": 933,
    "start_time": "2023-03-26T07:50:47.923Z"
   },
   {
    "duration": 17,
    "start_time": "2023-03-26T07:51:19.914Z"
   },
   {
    "duration": 16,
    "start_time": "2023-03-26T07:51:31.490Z"
   },
   {
    "duration": 5,
    "start_time": "2023-03-26T07:51:37.458Z"
   },
   {
    "duration": 6,
    "start_time": "2023-03-26T07:51:49.976Z"
   },
   {
    "duration": 12,
    "start_time": "2023-03-26T07:53:19.738Z"
   },
   {
    "duration": 74,
    "start_time": "2023-03-26T08:07:39.083Z"
   },
   {
    "duration": 5,
    "start_time": "2023-03-26T08:07:55.462Z"
   },
   {
    "duration": 787,
    "start_time": "2023-03-26T08:07:56.491Z"
   },
   {
    "duration": 113,
    "start_time": "2023-03-26T08:07:58.614Z"
   },
   {
    "duration": 67,
    "start_time": "2023-03-26T08:07:59.599Z"
   },
   {
    "duration": 116,
    "start_time": "2023-03-26T08:08:01.030Z"
   },
   {
    "duration": 21,
    "start_time": "2023-03-26T08:08:01.890Z"
   },
   {
    "duration": 43,
    "start_time": "2023-03-26T08:08:02.445Z"
   },
   {
    "duration": 15,
    "start_time": "2023-03-26T08:08:02.814Z"
   },
   {
    "duration": 19,
    "start_time": "2023-03-26T08:08:03.077Z"
   },
   {
    "duration": 44,
    "start_time": "2023-03-26T08:08:03.923Z"
   },
   {
    "duration": 21,
    "start_time": "2023-03-26T08:08:04.425Z"
   },
   {
    "duration": 48,
    "start_time": "2023-03-26T08:08:04.913Z"
   },
   {
    "duration": 22,
    "start_time": "2023-03-26T08:08:05.278Z"
   },
   {
    "duration": 30,
    "start_time": "2023-03-26T08:08:05.699Z"
   },
   {
    "duration": 48,
    "start_time": "2023-03-26T08:08:06.086Z"
   },
   {
    "duration": 21,
    "start_time": "2023-03-26T08:08:06.379Z"
   },
   {
    "duration": 45,
    "start_time": "2023-03-26T08:08:06.743Z"
   },
   {
    "duration": 119,
    "start_time": "2023-03-26T08:08:07.179Z"
   },
   {
    "duration": 445,
    "start_time": "2023-03-26T08:08:08.145Z"
   },
   {
    "duration": 984,
    "start_time": "2023-03-26T08:08:08.637Z"
   },
   {
    "duration": 99,
    "start_time": "2023-03-26T08:08:09.949Z"
   },
   {
    "duration": 71,
    "start_time": "2023-03-26T08:08:10.344Z"
   },
   {
    "duration": 21,
    "start_time": "2023-03-26T08:08:11.764Z"
   },
   {
    "duration": 280,
    "start_time": "2023-03-26T08:08:12.261Z"
   },
   {
    "duration": 221,
    "start_time": "2023-03-26T08:08:12.752Z"
   },
   {
    "duration": 8,
    "start_time": "2023-03-26T08:08:13.113Z"
   },
   {
    "duration": 29,
    "start_time": "2023-03-26T08:08:13.615Z"
   },
   {
    "duration": 23,
    "start_time": "2023-03-26T08:08:14.030Z"
   },
   {
    "duration": 29,
    "start_time": "2023-03-26T08:08:14.319Z"
   },
   {
    "duration": 8,
    "start_time": "2023-03-26T08:08:14.649Z"
   },
   {
    "duration": 17,
    "start_time": "2023-03-26T08:08:15.378Z"
   },
   {
    "duration": 32,
    "start_time": "2023-03-26T08:08:15.791Z"
   },
   {
    "duration": 19,
    "start_time": "2023-03-26T08:08:16.199Z"
   },
   {
    "duration": 329,
    "start_time": "2023-03-26T08:08:16.455Z"
   },
   {
    "duration": 19,
    "start_time": "2023-03-26T08:08:17.142Z"
   },
   {
    "duration": 30,
    "start_time": "2023-03-26T08:08:17.475Z"
   },
   {
    "duration": 14,
    "start_time": "2023-03-26T08:08:18.138Z"
   },
   {
    "duration": 239,
    "start_time": "2023-03-26T08:08:18.435Z"
   },
   {
    "duration": 15,
    "start_time": "2023-03-26T08:08:18.738Z"
   },
   {
    "duration": 10,
    "start_time": "2023-03-26T08:08:19.036Z"
   },
   {
    "duration": 17,
    "start_time": "2023-03-26T08:08:19.643Z"
   },
   {
    "duration": 86,
    "start_time": "2023-03-26T08:08:19.927Z"
   },
   {
    "duration": 8,
    "start_time": "2023-03-26T08:08:20.257Z"
   },
   {
    "duration": 20,
    "start_time": "2023-03-26T08:08:20.803Z"
   },
   {
    "duration": 6,
    "start_time": "2023-03-26T08:08:21.386Z"
   },
   {
    "duration": 3,
    "start_time": "2023-03-26T08:08:21.691Z"
   },
   {
    "duration": 45,
    "start_time": "2023-03-26T08:08:22.004Z"
   },
   {
    "duration": 3,
    "start_time": "2023-03-26T08:08:22.364Z"
   },
   {
    "duration": 3,
    "start_time": "2023-03-26T08:08:23.558Z"
   },
   {
    "duration": 99,
    "start_time": "2023-03-26T08:08:24.053Z"
   },
   {
    "duration": 1195,
    "start_time": "2023-03-26T08:08:24.316Z"
   },
   {
    "duration": 48,
    "start_time": "2023-03-26T08:08:25.513Z"
   },
   {
    "duration": 3364,
    "start_time": "2023-03-26T08:08:26.844Z"
   },
   {
    "duration": 4,
    "start_time": "2023-03-26T08:08:30.210Z"
   },
   {
    "duration": 145,
    "start_time": "2023-03-26T08:08:30.216Z"
   },
   {
    "duration": 11,
    "start_time": "2023-03-26T08:08:40.000Z"
   },
   {
    "duration": 4,
    "start_time": "2023-03-26T08:09:04.260Z"
   },
   {
    "duration": 5,
    "start_time": "2023-03-26T08:09:04.765Z"
   },
   {
    "duration": 21,
    "start_time": "2023-03-26T08:09:05.211Z"
   },
   {
    "duration": 2634,
    "start_time": "2023-03-26T08:09:05.556Z"
   },
   {
    "duration": 3,
    "start_time": "2023-03-26T08:09:08.192Z"
   },
   {
    "duration": 15,
    "start_time": "2023-03-26T08:09:08.197Z"
   },
   {
    "duration": 3065,
    "start_time": "2023-03-26T08:09:08.214Z"
   },
   {
    "duration": 5,
    "start_time": "2023-03-26T08:09:11.281Z"
   },
   {
    "duration": 5,
    "start_time": "2023-03-26T08:09:11.288Z"
   },
   {
    "duration": 8,
    "start_time": "2023-03-26T08:09:11.294Z"
   },
   {
    "duration": 7,
    "start_time": "2023-03-26T08:09:11.304Z"
   },
   {
    "duration": 19964,
    "start_time": "2023-03-26T08:09:11.314Z"
   },
   {
    "duration": 661,
    "start_time": "2023-03-26T08:09:31.280Z"
   },
   {
    "duration": 6,
    "start_time": "2023-03-26T08:09:33.954Z"
   },
   {
    "duration": 87174,
    "start_time": "2023-03-26T08:09:36.167Z"
   },
   {
    "duration": 31810,
    "start_time": "2023-03-26T08:11:05.995Z"
   },
   {
    "duration": 32956,
    "start_time": "2023-03-26T08:11:40.854Z"
   },
   {
    "duration": 32905,
    "start_time": "2023-03-26T08:12:21.530Z"
   },
   {
    "duration": 502,
    "start_time": "2023-03-26T08:12:59.436Z"
   },
   {
    "duration": 7,
    "start_time": "2023-03-26T08:13:16.540Z"
   },
   {
    "duration": 2,
    "start_time": "2023-03-26T08:13:19.376Z"
   },
   {
    "duration": 3,
    "start_time": "2023-03-26T08:13:20.110Z"
   },
   {
    "duration": 15201,
    "start_time": "2023-03-26T08:26:25.258Z"
   },
   {
    "duration": 3219,
    "start_time": "2023-03-26T08:26:40.460Z"
   },
   {
    "duration": 7,
    "start_time": "2023-03-26T08:27:21.770Z"
   },
   {
    "duration": 14,
    "start_time": "2023-03-26T08:27:24.714Z"
   },
   {
    "duration": 19191,
    "start_time": "2023-03-26T08:27:27.365Z"
   },
   {
    "duration": 1039,
    "start_time": "2023-03-26T08:27:54.803Z"
   },
   {
    "duration": 7,
    "start_time": "2023-03-26T08:27:57.775Z"
   },
   {
    "duration": 75,
    "start_time": "2023-03-26T08:28:29.729Z"
   },
   {
    "duration": 1827,
    "start_time": "2023-03-27T19:20:49.321Z"
   },
   {
    "duration": 2861,
    "start_time": "2023-03-27T19:20:51.151Z"
   },
   {
    "duration": 135,
    "start_time": "2023-03-27T19:20:54.015Z"
   },
   {
    "duration": 79,
    "start_time": "2023-03-27T19:20:54.151Z"
   },
   {
    "duration": 171,
    "start_time": "2023-03-27T19:20:54.232Z"
   },
   {
    "duration": 25,
    "start_time": "2023-03-27T19:20:54.405Z"
   },
   {
    "duration": 54,
    "start_time": "2023-03-27T19:20:54.432Z"
   },
   {
    "duration": 16,
    "start_time": "2023-03-27T19:20:54.488Z"
   },
   {
    "duration": 20,
    "start_time": "2023-03-27T19:20:54.518Z"
   },
   {
    "duration": 53,
    "start_time": "2023-03-27T19:20:54.539Z"
   },
   {
    "duration": 37,
    "start_time": "2023-03-27T19:20:54.594Z"
   },
   {
    "duration": 50,
    "start_time": "2023-03-27T19:20:54.632Z"
   },
   {
    "duration": 39,
    "start_time": "2023-03-27T19:20:54.683Z"
   },
   {
    "duration": 51,
    "start_time": "2023-03-27T19:20:54.725Z"
   },
   {
    "duration": 53,
    "start_time": "2023-03-27T19:20:54.779Z"
   },
   {
    "duration": 23,
    "start_time": "2023-03-27T19:20:54.834Z"
   },
   {
    "duration": 66,
    "start_time": "2023-03-27T19:20:54.859Z"
   },
   {
    "duration": 128,
    "start_time": "2023-03-27T19:20:54.927Z"
   },
   {
    "duration": 451,
    "start_time": "2023-03-27T19:20:55.057Z"
   },
   {
    "duration": 912,
    "start_time": "2023-03-27T19:20:55.510Z"
   },
   {
    "duration": 77,
    "start_time": "2023-03-27T19:20:56.424Z"
   },
   {
    "duration": 88,
    "start_time": "2023-03-27T19:20:56.503Z"
   },
   {
    "duration": 27,
    "start_time": "2023-03-27T19:20:56.593Z"
   },
   {
    "duration": 365,
    "start_time": "2023-03-27T19:20:56.621Z"
   },
   {
    "duration": 219,
    "start_time": "2023-03-27T19:20:56.988Z"
   },
   {
    "duration": 18,
    "start_time": "2023-03-27T19:20:57.209Z"
   },
   {
    "duration": 33,
    "start_time": "2023-03-27T19:20:57.229Z"
   },
   {
    "duration": 17,
    "start_time": "2023-03-27T19:20:57.264Z"
   },
   {
    "duration": 45,
    "start_time": "2023-03-27T19:20:57.283Z"
   },
   {
    "duration": 5,
    "start_time": "2023-03-27T19:20:57.331Z"
   },
   {
    "duration": 24,
    "start_time": "2023-03-27T19:20:57.338Z"
   },
   {
    "duration": 23,
    "start_time": "2023-03-27T19:20:57.363Z"
   },
   {
    "duration": 30,
    "start_time": "2023-03-27T19:20:57.388Z"
   },
   {
    "duration": 257,
    "start_time": "2023-03-27T19:20:57.420Z"
   },
   {
    "duration": 16,
    "start_time": "2023-03-27T19:20:57.679Z"
   },
   {
    "duration": 34,
    "start_time": "2023-03-27T19:20:57.696Z"
   },
   {
    "duration": 12,
    "start_time": "2023-03-27T19:20:57.732Z"
   },
   {
    "duration": 214,
    "start_time": "2023-03-27T19:20:57.745Z"
   },
   {
    "duration": 10,
    "start_time": "2023-03-27T19:20:57.960Z"
   },
   {
    "duration": 6,
    "start_time": "2023-03-27T19:20:57.972Z"
   },
   {
    "duration": 37,
    "start_time": "2023-03-27T19:20:57.982Z"
   },
   {
    "duration": 108,
    "start_time": "2023-03-27T19:20:58.020Z"
   },
   {
    "duration": 5,
    "start_time": "2023-03-27T19:20:58.130Z"
   },
   {
    "duration": 19,
    "start_time": "2023-03-27T19:20:58.137Z"
   },
   {
    "duration": 6,
    "start_time": "2023-03-27T19:20:58.157Z"
   },
   {
    "duration": 5,
    "start_time": "2023-03-27T19:20:58.164Z"
   },
   {
    "duration": 64,
    "start_time": "2023-03-27T19:20:58.171Z"
   },
   {
    "duration": 3,
    "start_time": "2023-03-27T19:20:58.237Z"
   },
   {
    "duration": 5,
    "start_time": "2023-03-27T19:20:58.242Z"
   },
   {
    "duration": 92,
    "start_time": "2023-03-27T19:20:58.249Z"
   },
   {
    "duration": 1232,
    "start_time": "2023-03-27T19:20:58.342Z"
   },
   {
    "duration": 4,
    "start_time": "2023-03-27T19:20:59.576Z"
   },
   {
    "duration": 2271,
    "start_time": "2023-03-27T19:20:59.582Z"
   },
   {
    "duration": 5,
    "start_time": "2023-03-27T19:21:01.855Z"
   },
   {
    "duration": 40,
    "start_time": "2023-03-27T19:21:01.861Z"
   },
   {
    "duration": 44,
    "start_time": "2023-03-27T19:21:01.902Z"
   },
   {
    "duration": 2234,
    "start_time": "2023-03-27T19:21:01.949Z"
   },
   {
    "duration": 2,
    "start_time": "2023-03-27T19:21:04.186Z"
   },
   {
    "duration": 14,
    "start_time": "2023-03-27T19:21:04.190Z"
   },
   {
    "duration": 2799,
    "start_time": "2023-03-27T19:21:04.206Z"
   },
   {
    "duration": 13,
    "start_time": "2023-03-27T19:21:07.006Z"
   },
   {
    "duration": 14,
    "start_time": "2023-03-27T19:21:07.020Z"
   },
   {
    "duration": 29,
    "start_time": "2023-03-27T19:21:07.036Z"
   },
   {
    "duration": 21,
    "start_time": "2023-03-27T19:21:07.067Z"
   },
   {
    "duration": 18251,
    "start_time": "2023-03-27T19:21:07.090Z"
   },
   {
    "duration": 476,
    "start_time": "2023-03-27T19:21:25.343Z"
   },
   {
    "duration": 98,
    "start_time": "2023-03-27T19:21:25.821Z"
   },
   {
    "duration": 77905,
    "start_time": "2023-03-27T19:21:25.921Z"
   },
   {
    "duration": 28617,
    "start_time": "2023-03-27T19:22:43.918Z"
   },
   {
    "duration": 29732,
    "start_time": "2023-03-27T19:23:12.537Z"
   },
   {
    "duration": 28320,
    "start_time": "2023-03-27T19:23:42.271Z"
   },
   {
    "duration": 463,
    "start_time": "2023-03-27T19:24:10.593Z"
   },
   {
    "duration": 6,
    "start_time": "2023-03-27T19:24:11.058Z"
   },
   {
    "duration": 24,
    "start_time": "2023-03-27T19:24:11.065Z"
   },
   {
    "duration": 11,
    "start_time": "2023-03-27T19:24:11.091Z"
   },
   {
    "duration": 17119,
    "start_time": "2023-03-27T19:24:11.103Z"
   },
   {
    "duration": 2711,
    "start_time": "2023-03-27T19:24:28.223Z"
   },
   {
    "duration": 5,
    "start_time": "2023-03-27T19:24:30.935Z"
   },
   {
    "duration": 76,
    "start_time": "2023-03-27T19:24:30.942Z"
   },
   {
    "duration": 13506,
    "start_time": "2023-03-27T19:24:31.019Z"
   },
   {
    "duration": 912,
    "start_time": "2023-03-27T19:24:44.527Z"
   },
   {
    "duration": 4,
    "start_time": "2023-03-27T19:24:45.441Z"
   },
   {
    "duration": 130,
    "start_time": "2023-03-27T19:31:46.494Z"
   },
   {
    "duration": 78,
    "start_time": "2023-03-27T19:32:06.252Z"
   },
   {
    "duration": 19,
    "start_time": "2023-03-27T19:34:58.652Z"
   },
   {
    "duration": 4,
    "start_time": "2023-03-27T19:38:45.438Z"
   },
   {
    "duration": 455,
    "start_time": "2023-03-27T19:41:57.569Z"
   },
   {
    "duration": 2373,
    "start_time": "2023-04-02T10:01:26.581Z"
   },
   {
    "duration": 4664,
    "start_time": "2023-04-02T10:01:28.961Z"
   },
   {
    "duration": 163,
    "start_time": "2023-04-02T10:01:33.628Z"
   },
   {
    "duration": 12,
    "start_time": "2023-04-02T10:11:20.467Z"
   },
   {
    "duration": 1106,
    "start_time": "2023-04-02T10:11:21.555Z"
   },
   {
    "duration": 173,
    "start_time": "2023-04-02T10:11:24.227Z"
   },
   {
    "duration": 101,
    "start_time": "2023-04-02T10:11:25.118Z"
   },
   {
    "duration": 229,
    "start_time": "2023-04-02T10:11:26.998Z"
   },
   {
    "duration": 39,
    "start_time": "2023-04-02T10:11:30.461Z"
   },
   {
    "duration": 72,
    "start_time": "2023-04-02T10:11:33.138Z"
   },
   {
    "duration": 25,
    "start_time": "2023-04-02T10:11:34.432Z"
   },
   {
    "duration": 29,
    "start_time": "2023-04-02T10:11:35.188Z"
   },
   {
    "duration": 86,
    "start_time": "2023-04-02T10:11:40.024Z"
   },
   {
    "duration": 24,
    "start_time": "2023-04-02T10:11:41.790Z"
   },
   {
    "duration": 73,
    "start_time": "2023-04-02T10:11:44.103Z"
   },
   {
    "duration": 84,
    "start_time": "2023-04-02T10:11:56.329Z"
   },
   {
    "duration": 25,
    "start_time": "2023-04-02T10:12:07.819Z"
   },
   {
    "duration": 41,
    "start_time": "2023-04-02T10:12:09.790Z"
   },
   {
    "duration": 102,
    "start_time": "2023-04-02T10:12:22.557Z"
   },
   {
    "duration": 52,
    "start_time": "2023-04-02T10:12:29.729Z"
   },
   {
    "duration": 72,
    "start_time": "2023-04-02T10:12:34.027Z"
   },
   {
    "duration": 148,
    "start_time": "2023-04-02T10:12:40.293Z"
   },
   {
    "duration": 618,
    "start_time": "2023-04-02T10:12:44.686Z"
   },
   {
    "duration": 1335,
    "start_time": "2023-04-02T10:12:46.683Z"
   },
   {
    "duration": 116,
    "start_time": "2023-04-02T10:12:50.885Z"
   },
   {
    "duration": 117,
    "start_time": "2023-04-02T10:12:53.116Z"
   },
   {
    "duration": 34,
    "start_time": "2023-04-02T10:12:56.277Z"
   },
   {
    "duration": 486,
    "start_time": "2023-04-02T10:12:57.307Z"
   },
   {
    "duration": 319,
    "start_time": "2023-04-02T10:13:01.163Z"
   },
   {
    "duration": 10,
    "start_time": "2023-04-02T10:13:10.496Z"
   },
   {
    "duration": 38,
    "start_time": "2023-04-02T10:13:11.984Z"
   },
   {
    "duration": 18,
    "start_time": "2023-04-02T10:13:13.489Z"
   },
   {
    "duration": 33,
    "start_time": "2023-04-02T10:13:14.894Z"
   },
   {
    "duration": 13,
    "start_time": "2023-04-02T10:13:20.179Z"
   },
   {
    "duration": 34,
    "start_time": "2023-04-02T10:13:22.670Z"
   },
   {
    "duration": 39,
    "start_time": "2023-04-02T10:13:23.874Z"
   },
   {
    "duration": 35,
    "start_time": "2023-04-02T10:13:26.083Z"
   },
   {
    "duration": 422,
    "start_time": "2023-04-02T10:13:27.137Z"
   },
   {
    "duration": 22,
    "start_time": "2023-04-02T10:13:29.398Z"
   },
   {
    "duration": 49,
    "start_time": "2023-04-02T10:13:30.761Z"
   },
   {
    "duration": 25,
    "start_time": "2023-04-02T10:13:33.070Z"
   },
   {
    "duration": 446,
    "start_time": "2023-04-02T10:13:34.303Z"
   },
   {
    "duration": 21,
    "start_time": "2023-04-02T10:13:36.128Z"
   },
   {
    "duration": 41,
    "start_time": "2023-04-02T10:13:37.368Z"
   },
   {
    "duration": 29,
    "start_time": "2023-04-02T10:13:47.673Z"
   },
   {
    "duration": 158,
    "start_time": "2023-04-02T10:13:49.313Z"
   },
   {
    "duration": 14,
    "start_time": "2023-04-02T10:13:51.703Z"
   },
   {
    "duration": 26,
    "start_time": "2023-04-02T10:13:53.706Z"
   },
   {
    "duration": 9,
    "start_time": "2023-04-02T10:13:56.022Z"
   },
   {
    "duration": 3,
    "start_time": "2023-04-02T10:13:57.525Z"
   },
   {
    "duration": 71,
    "start_time": "2023-04-02T10:14:00.190Z"
   },
   {
    "duration": 5,
    "start_time": "2023-04-02T10:14:10.670Z"
   },
   {
    "duration": 6,
    "start_time": "2023-04-02T10:14:22.891Z"
   },
   {
    "duration": 131,
    "start_time": "2023-04-02T10:14:24.099Z"
   },
   {
    "duration": 1554,
    "start_time": "2023-04-02T10:14:27.099Z"
   },
   {
    "duration": 10,
    "start_time": "2023-04-02T10:24:49.329Z"
   },
   {
    "duration": 4,
    "start_time": "2023-04-02T10:24:50.729Z"
   },
   {
    "duration": 171,
    "start_time": "2023-04-02T10:24:52.644Z"
   },
   {
    "duration": 17,
    "start_time": "2023-04-02T10:25:50.508Z"
   },
   {
    "duration": 14,
    "start_time": "2023-04-02T10:25:57.215Z"
   },
   {
    "duration": 12,
    "start_time": "2023-04-02T10:26:24.206Z"
   },
   {
    "duration": 27,
    "start_time": "2023-04-02T10:26:25.725Z"
   },
   {
    "duration": 7,
    "start_time": "2023-04-02T10:26:59.339Z"
   },
   {
    "duration": 24,
    "start_time": "2023-04-02T10:27:00.470Z"
   },
   {
    "duration": 46,
    "start_time": "2023-04-02T10:28:20.832Z"
   },
   {
    "duration": 16,
    "start_time": "2023-04-02T10:28:21.895Z"
   },
   {
    "duration": 8,
    "start_time": "2023-04-02T10:28:44.287Z"
   },
   {
    "duration": 1045,
    "start_time": "2023-04-02T10:28:44.978Z"
   },
   {
    "duration": 177,
    "start_time": "2023-04-02T10:28:46.025Z"
   },
   {
    "duration": 103,
    "start_time": "2023-04-02T10:28:47.068Z"
   },
   {
    "duration": 152,
    "start_time": "2023-04-02T10:28:48.817Z"
   },
   {
    "duration": 41,
    "start_time": "2023-04-02T10:28:52.256Z"
   },
   {
    "duration": 55,
    "start_time": "2023-04-02T10:28:52.869Z"
   },
   {
    "duration": 35,
    "start_time": "2023-04-02T10:28:53.344Z"
   },
   {
    "duration": 37,
    "start_time": "2023-04-02T10:28:53.768Z"
   },
   {
    "duration": 54,
    "start_time": "2023-04-02T10:28:54.172Z"
   },
   {
    "duration": 22,
    "start_time": "2023-04-02T10:28:54.501Z"
   },
   {
    "duration": 76,
    "start_time": "2023-04-02T10:28:54.922Z"
   },
   {
    "duration": 23,
    "start_time": "2023-04-02T10:28:55.786Z"
   },
   {
    "duration": 66,
    "start_time": "2023-04-02T10:28:56.146Z"
   },
   {
    "duration": 89,
    "start_time": "2023-04-02T10:28:56.738Z"
   },
   {
    "duration": 22,
    "start_time": "2023-04-02T10:28:57.809Z"
   },
   {
    "duration": 59,
    "start_time": "2023-04-02T10:28:58.374Z"
   },
   {
    "duration": 147,
    "start_time": "2023-04-02T10:28:59.006Z"
   },
   {
    "duration": 584,
    "start_time": "2023-04-02T10:29:00.281Z"
   },
   {
    "duration": 1246,
    "start_time": "2023-04-02T10:29:00.896Z"
   },
   {
    "duration": 93,
    "start_time": "2023-04-02T10:29:02.582Z"
   },
   {
    "duration": 103,
    "start_time": "2023-04-02T10:29:04.012Z"
   },
   {
    "duration": 37,
    "start_time": "2023-04-02T10:29:05.258Z"
   },
   {
    "duration": 382,
    "start_time": "2023-04-02T10:29:05.541Z"
   },
   {
    "duration": 343,
    "start_time": "2023-04-02T10:29:06.284Z"
   },
   {
    "duration": 24,
    "start_time": "2023-04-02T10:29:06.843Z"
   },
   {
    "duration": 47,
    "start_time": "2023-04-02T10:29:07.171Z"
   },
   {
    "duration": 28,
    "start_time": "2023-04-02T10:29:07.431Z"
   },
   {
    "duration": 30,
    "start_time": "2023-04-02T10:29:07.802Z"
   },
   {
    "duration": 7,
    "start_time": "2023-04-02T10:29:08.113Z"
   },
   {
    "duration": 38,
    "start_time": "2023-04-02T10:29:08.734Z"
   },
   {
    "duration": 30,
    "start_time": "2023-04-02T10:29:09.099Z"
   },
   {
    "duration": 19,
    "start_time": "2023-04-02T10:29:09.412Z"
   },
   {
    "duration": 344,
    "start_time": "2023-04-02T10:29:09.776Z"
   },
   {
    "duration": 35,
    "start_time": "2023-04-02T10:29:10.567Z"
   },
   {
    "duration": 50,
    "start_time": "2023-04-02T10:29:11.032Z"
   },
   {
    "duration": 37,
    "start_time": "2023-04-02T10:29:11.676Z"
   },
   {
    "duration": 329,
    "start_time": "2023-04-02T10:29:11.996Z"
   },
   {
    "duration": 14,
    "start_time": "2023-04-02T10:29:12.334Z"
   },
   {
    "duration": 14,
    "start_time": "2023-04-02T10:29:12.692Z"
   },
   {
    "duration": 21,
    "start_time": "2023-04-02T10:29:13.588Z"
   },
   {
    "duration": 128,
    "start_time": "2023-04-02T10:29:13.892Z"
   },
   {
    "duration": 7,
    "start_time": "2023-04-02T10:29:14.233Z"
   },
   {
    "duration": 36,
    "start_time": "2023-04-02T10:29:14.870Z"
   },
   {
    "duration": 11,
    "start_time": "2023-04-02T10:29:15.641Z"
   },
   {
    "duration": 7,
    "start_time": "2023-04-02T10:29:15.978Z"
   },
   {
    "duration": 69,
    "start_time": "2023-04-02T10:29:16.308Z"
   },
   {
    "duration": 3,
    "start_time": "2023-04-02T10:29:16.997Z"
   },
   {
    "duration": 10,
    "start_time": "2023-04-02T10:29:19.040Z"
   },
   {
    "duration": 139,
    "start_time": "2023-04-02T10:29:19.538Z"
   },
   {
    "duration": 204,
    "start_time": "2023-04-02T10:29:20.377Z"
   },
   {
    "duration": 1604,
    "start_time": "2023-04-02T10:29:22.006Z"
   },
   {
    "duration": 6,
    "start_time": "2023-04-02T10:29:25.463Z"
   },
   {
    "duration": 2673,
    "start_time": "2023-04-02T10:29:26.671Z"
   },
   {
    "duration": 12,
    "start_time": "2023-04-02T10:29:30.371Z"
   },
   {
    "duration": 19,
    "start_time": "2023-04-02T10:29:31.762Z"
   },
   {
    "duration": 20,
    "start_time": "2023-04-02T10:29:33.371Z"
   },
   {
    "duration": 2508,
    "start_time": "2023-04-02T10:29:40.601Z"
   },
   {
    "duration": 3,
    "start_time": "2023-04-02T10:29:43.111Z"
   },
   {
    "duration": 11,
    "start_time": "2023-04-02T10:29:43.698Z"
   },
   {
    "duration": 6,
    "start_time": "2023-04-02T10:31:04.220Z"
   },
   {
    "duration": 1144,
    "start_time": "2023-04-02T10:31:04.933Z"
   },
   {
    "duration": 190,
    "start_time": "2023-04-02T10:31:06.079Z"
   },
   {
    "duration": 117,
    "start_time": "2023-04-02T10:31:06.492Z"
   },
   {
    "duration": 203,
    "start_time": "2023-04-02T10:31:08.386Z"
   },
   {
    "duration": 30,
    "start_time": "2023-04-02T10:31:10.026Z"
   },
   {
    "duration": 75,
    "start_time": "2023-04-02T10:31:10.503Z"
   },
   {
    "duration": 38,
    "start_time": "2023-04-02T10:31:11.133Z"
   },
   {
    "duration": 22,
    "start_time": "2023-04-02T10:31:11.709Z"
   },
   {
    "duration": 80,
    "start_time": "2023-04-02T10:31:12.235Z"
   },
   {
    "duration": 41,
    "start_time": "2023-04-02T10:31:12.752Z"
   },
   {
    "duration": 63,
    "start_time": "2023-04-02T10:31:13.271Z"
   },
   {
    "duration": 39,
    "start_time": "2023-04-02T10:31:14.270Z"
   },
   {
    "duration": 45,
    "start_time": "2023-04-02T10:31:14.821Z"
   },
   {
    "duration": 72,
    "start_time": "2023-04-02T10:31:15.611Z"
   },
   {
    "duration": 44,
    "start_time": "2023-04-02T10:31:16.666Z"
   },
   {
    "duration": 64,
    "start_time": "2023-04-02T10:31:17.101Z"
   },
   {
    "duration": 239,
    "start_time": "2023-04-02T10:31:17.662Z"
   },
   {
    "duration": 604,
    "start_time": "2023-04-02T10:31:18.701Z"
   },
   {
    "duration": 1188,
    "start_time": "2023-04-02T10:31:19.312Z"
   },
   {
    "duration": 102,
    "start_time": "2023-04-02T10:31:20.502Z"
   },
   {
    "duration": 114,
    "start_time": "2023-04-02T10:31:21.173Z"
   },
   {
    "duration": 33,
    "start_time": "2023-04-02T10:31:22.266Z"
   },
   {
    "duration": 363,
    "start_time": "2023-04-02T10:31:22.821Z"
   },
   {
    "duration": 297,
    "start_time": "2023-04-02T10:31:23.796Z"
   },
   {
    "duration": 8,
    "start_time": "2023-04-02T10:31:24.913Z"
   },
   {
    "duration": 48,
    "start_time": "2023-04-02T10:31:25.324Z"
   },
   {
    "duration": 43,
    "start_time": "2023-04-02T10:31:25.924Z"
   },
   {
    "duration": 52,
    "start_time": "2023-04-02T10:31:26.431Z"
   },
   {
    "duration": 13,
    "start_time": "2023-04-02T10:31:26.984Z"
   },
   {
    "duration": 37,
    "start_time": "2023-04-02T10:31:27.931Z"
   },
   {
    "duration": 40,
    "start_time": "2023-04-02T10:31:28.629Z"
   },
   {
    "duration": 30,
    "start_time": "2023-04-02T10:31:29.163Z"
   },
   {
    "duration": 389,
    "start_time": "2023-04-02T10:31:29.719Z"
   },
   {
    "duration": 32,
    "start_time": "2023-04-02T10:31:30.831Z"
   },
   {
    "duration": 37,
    "start_time": "2023-04-02T10:31:31.294Z"
   },
   {
    "duration": 40,
    "start_time": "2023-04-02T10:31:32.260Z"
   },
   {
    "duration": 290,
    "start_time": "2023-04-02T10:31:32.895Z"
   },
   {
    "duration": 29,
    "start_time": "2023-04-02T10:31:33.363Z"
   },
   {
    "duration": 10,
    "start_time": "2023-04-02T10:31:33.827Z"
   },
   {
    "duration": 45,
    "start_time": "2023-04-02T10:31:35.265Z"
   },
   {
    "duration": 118,
    "start_time": "2023-04-02T10:31:35.772Z"
   },
   {
    "duration": 9,
    "start_time": "2023-04-02T10:31:36.200Z"
   },
   {
    "duration": 38,
    "start_time": "2023-04-02T10:31:37.071Z"
   },
   {
    "duration": 14,
    "start_time": "2023-04-02T10:31:38.471Z"
   },
   {
    "duration": 5,
    "start_time": "2023-04-02T10:31:38.866Z"
   },
   {
    "duration": 81,
    "start_time": "2023-04-02T10:31:39.442Z"
   },
   {
    "duration": 3,
    "start_time": "2023-04-02T10:31:40.823Z"
   },
   {
    "duration": 3,
    "start_time": "2023-04-02T10:31:43.502Z"
   },
   {
    "duration": 129,
    "start_time": "2023-04-02T10:31:44.703Z"
   },
   {
    "duration": 1517,
    "start_time": "2023-04-02T10:31:45.574Z"
   },
   {
    "duration": 57,
    "start_time": "2023-04-02T10:31:47.093Z"
   },
   {
    "duration": 2677,
    "start_time": "2023-04-02T10:31:47.155Z"
   },
   {
    "duration": 4,
    "start_time": "2023-04-02T10:31:49.834Z"
   },
   {
    "duration": 67,
    "start_time": "2023-04-02T10:31:49.841Z"
   },
   {
    "duration": 12,
    "start_time": "2023-04-02T10:31:50.522Z"
   },
   {
    "duration": 22,
    "start_time": "2023-04-02T10:31:52.385Z"
   },
   {
    "duration": 2281,
    "start_time": "2023-04-02T10:31:54.185Z"
   },
   {
    "duration": 4,
    "start_time": "2023-04-02T10:31:56.468Z"
   },
   {
    "duration": 8,
    "start_time": "2023-04-02T10:31:57.329Z"
   },
   {
    "duration": 38,
    "start_time": "2023-04-02T10:32:14.846Z"
   },
   {
    "duration": 9,
    "start_time": "2023-04-02T10:32:42.800Z"
   },
   {
    "duration": 1111,
    "start_time": "2023-04-02T10:34:01.099Z"
   },
   {
    "duration": 181,
    "start_time": "2023-04-02T10:34:02.213Z"
   },
   {
    "duration": 112,
    "start_time": "2023-04-02T10:34:02.396Z"
   },
   {
    "duration": 164,
    "start_time": "2023-04-02T10:34:03.394Z"
   },
   {
    "duration": 43,
    "start_time": "2023-04-02T10:34:04.265Z"
   },
   {
    "duration": 90,
    "start_time": "2023-04-02T10:34:04.685Z"
   },
   {
    "duration": 26,
    "start_time": "2023-04-02T10:34:05.095Z"
   },
   {
    "duration": 38,
    "start_time": "2023-04-02T10:34:05.493Z"
   },
   {
    "duration": 77,
    "start_time": "2023-04-02T10:34:05.870Z"
   },
   {
    "duration": 31,
    "start_time": "2023-04-02T10:34:06.509Z"
   },
   {
    "duration": 91,
    "start_time": "2023-04-02T10:34:06.808Z"
   },
   {
    "duration": 53,
    "start_time": "2023-04-02T10:34:07.415Z"
   },
   {
    "duration": 65,
    "start_time": "2023-04-02T10:34:07.759Z"
   },
   {
    "duration": 96,
    "start_time": "2023-04-02T10:34:08.093Z"
   },
   {
    "duration": 38,
    "start_time": "2023-04-02T10:34:08.972Z"
   },
   {
    "duration": 64,
    "start_time": "2023-04-02T10:34:09.265Z"
   },
   {
    "duration": 203,
    "start_time": "2023-04-02T10:34:09.673Z"
   },
   {
    "duration": 599,
    "start_time": "2023-04-02T10:34:10.934Z"
   },
   {
    "duration": 1285,
    "start_time": "2023-04-02T10:34:11.536Z"
   },
   {
    "duration": 131,
    "start_time": "2023-04-02T10:34:12.824Z"
   },
   {
    "duration": 131,
    "start_time": "2023-04-02T10:34:13.168Z"
   },
   {
    "duration": 45,
    "start_time": "2023-04-02T10:34:14.015Z"
   },
   {
    "duration": 388,
    "start_time": "2023-04-02T10:34:14.414Z"
   },
   {
    "duration": 332,
    "start_time": "2023-04-02T10:34:15.170Z"
   },
   {
    "duration": 20,
    "start_time": "2023-04-02T10:34:16.013Z"
   },
   {
    "duration": 43,
    "start_time": "2023-04-02T10:34:16.384Z"
   },
   {
    "duration": 39,
    "start_time": "2023-04-02T10:34:16.770Z"
   },
   {
    "duration": 34,
    "start_time": "2023-04-02T10:34:17.095Z"
   },
   {
    "duration": 6,
    "start_time": "2023-04-02T10:34:17.415Z"
   },
   {
    "duration": 24,
    "start_time": "2023-04-02T10:34:18.103Z"
   },
   {
    "duration": 40,
    "start_time": "2023-04-02T10:34:18.590Z"
   },
   {
    "duration": 32,
    "start_time": "2023-04-02T10:34:18.995Z"
   },
   {
    "duration": 392,
    "start_time": "2023-04-02T10:34:19.677Z"
   },
   {
    "duration": 22,
    "start_time": "2023-04-02T10:34:20.193Z"
   },
   {
    "duration": 44,
    "start_time": "2023-04-02T10:34:20.574Z"
   },
   {
    "duration": 18,
    "start_time": "2023-04-02T10:34:21.220Z"
   },
   {
    "duration": 428,
    "start_time": "2023-04-02T10:34:21.773Z"
   },
   {
    "duration": 13,
    "start_time": "2023-04-02T10:34:22.205Z"
   },
   {
    "duration": 9,
    "start_time": "2023-04-02T10:34:22.299Z"
   },
   {
    "duration": 19,
    "start_time": "2023-04-02T10:34:23.316Z"
   },
   {
    "duration": 126,
    "start_time": "2023-04-02T10:34:23.662Z"
   },
   {
    "duration": 7,
    "start_time": "2023-04-02T10:34:24.098Z"
   },
   {
    "duration": 32,
    "start_time": "2023-04-02T10:34:24.781Z"
   },
   {
    "duration": 16,
    "start_time": "2023-04-02T10:34:25.581Z"
   },
   {
    "duration": 5,
    "start_time": "2023-04-02T10:34:26.003Z"
   },
   {
    "duration": 65,
    "start_time": "2023-04-02T10:34:26.408Z"
   },
   {
    "duration": 7,
    "start_time": "2023-04-02T10:34:27.266Z"
   },
   {
    "duration": 3,
    "start_time": "2023-04-02T10:34:29.055Z"
   },
   {
    "duration": 129,
    "start_time": "2023-04-02T10:34:29.594Z"
   },
   {
    "duration": 1429,
    "start_time": "2023-04-02T10:34:29.881Z"
   },
   {
    "duration": 19,
    "start_time": "2023-04-02T10:34:31.316Z"
   },
   {
    "duration": 2789,
    "start_time": "2023-04-02T10:34:31.337Z"
   },
   {
    "duration": 4,
    "start_time": "2023-04-02T10:34:34.130Z"
   },
   {
    "duration": 86,
    "start_time": "2023-04-02T10:34:34.136Z"
   },
   {
    "duration": 58,
    "start_time": "2023-04-02T10:34:34.224Z"
   },
   {
    "duration": 120,
    "start_time": "2023-04-02T10:34:53.741Z"
   },
   {
    "duration": 2559,
    "start_time": "2023-04-02T10:35:10.093Z"
   },
   {
    "duration": 5080,
    "start_time": "2023-04-02T10:35:12.659Z"
   },
   {
    "duration": 186,
    "start_time": "2023-04-02T10:35:22.371Z"
   },
   {
    "duration": 146,
    "start_time": "2023-04-02T10:35:23.171Z"
   },
   {
    "duration": 208,
    "start_time": "2023-04-02T10:35:24.328Z"
   },
   {
    "duration": 42,
    "start_time": "2023-04-02T10:35:25.375Z"
   },
   {
    "duration": 113,
    "start_time": "2023-04-02T10:35:26.120Z"
   },
   {
    "duration": 35,
    "start_time": "2023-04-02T10:35:26.692Z"
   },
   {
    "duration": 39,
    "start_time": "2023-04-02T10:35:27.124Z"
   },
   {
    "duration": 59,
    "start_time": "2023-04-02T10:35:27.485Z"
   },
   {
    "duration": 30,
    "start_time": "2023-04-02T10:35:27.889Z"
   },
   {
    "duration": 79,
    "start_time": "2023-04-02T10:35:28.278Z"
   },
   {
    "duration": 22,
    "start_time": "2023-04-02T10:35:28.999Z"
   },
   {
    "duration": 55,
    "start_time": "2023-04-02T10:35:29.366Z"
   },
   {
    "duration": 61,
    "start_time": "2023-04-02T10:35:29.870Z"
   },
   {
    "duration": 41,
    "start_time": "2023-04-02T10:35:30.717Z"
   },
   {
    "duration": 92,
    "start_time": "2023-04-02T10:35:31.156Z"
   },
   {
    "duration": 198,
    "start_time": "2023-04-02T10:35:31.512Z"
   },
   {
    "duration": 706,
    "start_time": "2023-04-02T10:35:32.220Z"
   },
   {
    "duration": 1544,
    "start_time": "2023-04-02T10:35:32.928Z"
   },
   {
    "duration": 120,
    "start_time": "2023-04-02T10:35:34.479Z"
   },
   {
    "duration": 117,
    "start_time": "2023-04-02T10:35:34.605Z"
   },
   {
    "duration": 22,
    "start_time": "2023-04-02T10:35:35.712Z"
   },
   {
    "duration": 435,
    "start_time": "2023-04-02T10:35:36.284Z"
   },
   {
    "duration": 475,
    "start_time": "2023-04-02T10:35:36.964Z"
   },
   {
    "duration": 11,
    "start_time": "2023-04-02T10:35:37.706Z"
   },
   {
    "duration": 57,
    "start_time": "2023-04-02T10:35:38.470Z"
   },
   {
    "duration": 29,
    "start_time": "2023-04-02T10:35:38.799Z"
   },
   {
    "duration": 43,
    "start_time": "2023-04-02T10:35:39.285Z"
   },
   {
    "duration": 12,
    "start_time": "2023-04-02T10:35:39.704Z"
   },
   {
    "duration": 32,
    "start_time": "2023-04-02T10:35:40.530Z"
   },
   {
    "duration": 40,
    "start_time": "2023-04-02T10:35:40.986Z"
   },
   {
    "duration": 41,
    "start_time": "2023-04-02T10:35:41.430Z"
   },
   {
    "duration": 401,
    "start_time": "2023-04-02T10:35:41.790Z"
   },
   {
    "duration": 43,
    "start_time": "2023-04-02T10:35:42.647Z"
   },
   {
    "duration": 49,
    "start_time": "2023-04-02T10:35:43.182Z"
   },
   {
    "duration": 20,
    "start_time": "2023-04-02T10:35:44.113Z"
   },
   {
    "duration": 378,
    "start_time": "2023-04-02T10:35:44.577Z"
   },
   {
    "duration": 25,
    "start_time": "2023-04-02T10:35:44.972Z"
   },
   {
    "duration": 16,
    "start_time": "2023-04-02T10:35:45.366Z"
   },
   {
    "duration": 22,
    "start_time": "2023-04-02T10:35:46.607Z"
   },
   {
    "duration": 166,
    "start_time": "2023-04-02T10:35:47.033Z"
   },
   {
    "duration": 11,
    "start_time": "2023-04-02T10:35:48.096Z"
   },
   {
    "duration": 31,
    "start_time": "2023-04-02T10:35:48.788Z"
   },
   {
    "duration": 18,
    "start_time": "2023-04-02T10:35:49.495Z"
   },
   {
    "duration": 12,
    "start_time": "2023-04-02T10:35:50.716Z"
   },
   {
    "duration": 181,
    "start_time": "2023-04-02T10:35:50.731Z"
   },
   {
    "duration": 5,
    "start_time": "2023-04-02T10:35:51.103Z"
   },
   {
    "duration": 2,
    "start_time": "2023-04-02T10:35:52.892Z"
   },
   {
    "duration": 134,
    "start_time": "2023-04-02T10:35:53.361Z"
   },
   {
    "duration": 1748,
    "start_time": "2023-04-02T10:35:53.783Z"
   },
   {
    "duration": 19,
    "start_time": "2023-04-02T10:35:55.534Z"
   },
   {
    "duration": 2807,
    "start_time": "2023-04-02T10:35:55.566Z"
   },
   {
    "duration": 20,
    "start_time": "2023-04-02T10:35:58.385Z"
   },
   {
    "duration": 19,
    "start_time": "2023-04-02T10:35:58.413Z"
   },
   {
    "duration": 88,
    "start_time": "2023-04-02T10:35:58.435Z"
   },
   {
    "duration": 2575,
    "start_time": "2023-04-02T10:36:00.201Z"
   },
   {
    "duration": 426,
    "start_time": "2023-04-02T10:36:02.785Z"
   },
   {
    "duration": 7,
    "start_time": "2023-04-02T10:36:03.226Z"
   },
   {
    "duration": 12,
    "start_time": "2023-04-02T10:36:05.412Z"
   },
   {
    "duration": 8,
    "start_time": "2023-04-02T10:38:10.829Z"
   },
   {
    "duration": 1216,
    "start_time": "2023-04-02T10:38:11.817Z"
   },
   {
    "duration": 232,
    "start_time": "2023-04-02T10:38:13.036Z"
   },
   {
    "duration": 111,
    "start_time": "2023-04-02T10:38:13.276Z"
   },
   {
    "duration": 183,
    "start_time": "2023-04-02T10:38:14.884Z"
   },
   {
    "duration": 47,
    "start_time": "2023-04-02T10:38:16.368Z"
   },
   {
    "duration": 86,
    "start_time": "2023-04-02T10:38:17.071Z"
   },
   {
    "duration": 17,
    "start_time": "2023-04-02T10:38:17.707Z"
   },
   {
    "duration": 24,
    "start_time": "2023-04-02T10:38:18.190Z"
   },
   {
    "duration": 71,
    "start_time": "2023-04-02T10:38:18.759Z"
   },
   {
    "duration": 49,
    "start_time": "2023-04-02T10:38:19.240Z"
   },
   {
    "duration": 110,
    "start_time": "2023-04-02T10:38:19.797Z"
   },
   {
    "duration": 40,
    "start_time": "2023-04-02T10:38:20.928Z"
   },
   {
    "duration": 61,
    "start_time": "2023-04-02T10:38:21.475Z"
   },
   {
    "duration": 74,
    "start_time": "2023-04-02T10:38:21.899Z"
   },
   {
    "duration": 25,
    "start_time": "2023-04-02T10:38:22.990Z"
   },
   {
    "duration": 70,
    "start_time": "2023-04-02T10:38:23.497Z"
   },
   {
    "duration": 207,
    "start_time": "2023-04-02T10:38:23.903Z"
   },
   {
    "duration": 616,
    "start_time": "2023-04-02T10:38:25.096Z"
   },
   {
    "duration": 1385,
    "start_time": "2023-04-02T10:38:25.714Z"
   },
   {
    "duration": 102,
    "start_time": "2023-04-02T10:38:27.112Z"
   },
   {
    "duration": 110,
    "start_time": "2023-04-02T10:38:27.674Z"
   },
   {
    "duration": 41,
    "start_time": "2023-04-02T10:38:28.838Z"
   },
   {
    "duration": 371,
    "start_time": "2023-04-02T10:38:29.499Z"
   },
   {
    "duration": 320,
    "start_time": "2023-04-02T10:38:30.491Z"
   },
   {
    "duration": 21,
    "start_time": "2023-04-02T10:38:31.670Z"
   },
   {
    "duration": 61,
    "start_time": "2023-04-02T10:38:31.938Z"
   },
   {
    "duration": 21,
    "start_time": "2023-04-02T10:38:32.598Z"
   },
   {
    "duration": 37,
    "start_time": "2023-04-02T10:38:33.080Z"
   },
   {
    "duration": 9,
    "start_time": "2023-04-02T10:38:33.558Z"
   },
   {
    "duration": 29,
    "start_time": "2023-04-02T10:38:34.496Z"
   },
   {
    "duration": 50,
    "start_time": "2023-04-02T10:38:34.837Z"
   },
   {
    "duration": 18,
    "start_time": "2023-04-02T10:38:35.505Z"
   },
   {
    "duration": 462,
    "start_time": "2023-04-02T10:38:35.925Z"
   },
   {
    "duration": 28,
    "start_time": "2023-04-02T10:38:36.810Z"
   },
   {
    "duration": 32,
    "start_time": "2023-04-02T10:38:37.317Z"
   },
   {
    "duration": 32,
    "start_time": "2023-04-02T10:38:38.057Z"
   },
   {
    "duration": 281,
    "start_time": "2023-04-02T10:38:38.468Z"
   },
   {
    "duration": 18,
    "start_time": "2023-04-02T10:38:38.837Z"
   },
   {
    "duration": 17,
    "start_time": "2023-04-02T10:38:39.372Z"
   },
   {
    "duration": 33,
    "start_time": "2023-04-02T10:38:40.562Z"
   },
   {
    "duration": 141,
    "start_time": "2023-04-02T10:38:40.862Z"
   },
   {
    "duration": 21,
    "start_time": "2023-04-02T10:38:41.468Z"
   },
   {
    "duration": 24,
    "start_time": "2023-04-02T10:38:42.390Z"
   },
   {
    "duration": 14,
    "start_time": "2023-04-02T10:38:43.385Z"
   },
   {
    "duration": 4,
    "start_time": "2023-04-02T10:38:43.870Z"
   },
   {
    "duration": 78,
    "start_time": "2023-04-02T10:38:44.236Z"
   },
   {
    "duration": 10,
    "start_time": "2023-04-02T10:38:45.298Z"
   },
   {
    "duration": 3,
    "start_time": "2023-04-02T10:38:47.227Z"
   },
   {
    "duration": 129,
    "start_time": "2023-04-02T10:38:47.696Z"
   },
   {
    "duration": 1429,
    "start_time": "2023-04-02T10:38:48.186Z"
   },
   {
    "duration": 73,
    "start_time": "2023-04-02T10:38:53.335Z"
   },
   {
    "duration": 3203,
    "start_time": "2023-04-02T10:38:54.300Z"
   },
   {
    "duration": 6,
    "start_time": "2023-04-02T10:38:57.507Z"
   },
   {
    "duration": 12,
    "start_time": "2023-04-02T10:38:59.384Z"
   },
   {
    "duration": 28,
    "start_time": "2023-04-02T10:39:01.168Z"
   },
   {
    "duration": 12,
    "start_time": "2023-04-02T10:39:04.026Z"
   },
   {
    "duration": 3660,
    "start_time": "2023-04-02T10:39:07.113Z"
   },
   {
    "duration": 14,
    "start_time": "2023-04-02T10:39:10.775Z"
   },
   {
    "duration": 12,
    "start_time": "2023-04-02T10:39:40.173Z"
   },
   {
    "duration": 10,
    "start_time": "2023-04-02T10:51:17.266Z"
   },
   {
    "duration": 1187,
    "start_time": "2023-04-02T10:51:18.437Z"
   },
   {
    "duration": 278,
    "start_time": "2023-04-02T10:51:20.669Z"
   },
   {
    "duration": 153,
    "start_time": "2023-04-02T10:51:21.316Z"
   },
   {
    "duration": 200,
    "start_time": "2023-04-02T10:51:22.657Z"
   },
   {
    "duration": 38,
    "start_time": "2023-04-02T10:51:23.971Z"
   },
   {
    "duration": 111,
    "start_time": "2023-04-02T10:51:24.534Z"
   },
   {
    "duration": 46,
    "start_time": "2023-04-02T10:51:25.141Z"
   },
   {
    "duration": 41,
    "start_time": "2023-04-02T10:51:25.879Z"
   },
   {
    "duration": 113,
    "start_time": "2023-04-02T10:51:26.368Z"
   },
   {
    "duration": 81,
    "start_time": "2023-04-02T10:51:26.925Z"
   },
   {
    "duration": 103,
    "start_time": "2023-04-02T10:51:27.503Z"
   },
   {
    "duration": 47,
    "start_time": "2023-04-02T10:51:28.714Z"
   },
   {
    "duration": 48,
    "start_time": "2023-04-02T10:51:29.304Z"
   },
   {
    "duration": 141,
    "start_time": "2023-04-02T10:51:29.814Z"
   },
   {
    "duration": 52,
    "start_time": "2023-04-02T10:51:30.792Z"
   },
   {
    "duration": 84,
    "start_time": "2023-04-02T10:51:31.281Z"
   },
   {
    "duration": 195,
    "start_time": "2023-04-02T10:51:31.716Z"
   },
   {
    "duration": 618,
    "start_time": "2023-04-02T10:51:32.751Z"
   },
   {
    "duration": 1270,
    "start_time": "2023-04-02T10:51:33.372Z"
   },
   {
    "duration": 134,
    "start_time": "2023-04-02T10:51:34.655Z"
   },
   {
    "duration": 209,
    "start_time": "2023-04-02T10:51:35.099Z"
   },
   {
    "duration": 74,
    "start_time": "2023-04-02T10:51:36.027Z"
   },
   {
    "duration": 732,
    "start_time": "2023-04-02T10:51:36.587Z"
   },
   {
    "duration": 423,
    "start_time": "2023-04-02T10:51:37.703Z"
   },
   {
    "duration": 39,
    "start_time": "2023-04-02T10:51:38.698Z"
   },
   {
    "duration": 35,
    "start_time": "2023-04-02T10:51:39.201Z"
   },
   {
    "duration": 27,
    "start_time": "2023-04-02T10:51:39.601Z"
   },
   {
    "duration": 57,
    "start_time": "2023-04-02T10:51:40.172Z"
   },
   {
    "duration": 10,
    "start_time": "2023-04-02T10:51:40.611Z"
   },
   {
    "duration": 33,
    "start_time": "2023-04-02T10:51:41.671Z"
   },
   {
    "duration": 37,
    "start_time": "2023-04-02T10:51:42.183Z"
   },
   {
    "duration": 20,
    "start_time": "2023-04-02T10:51:42.783Z"
   },
   {
    "duration": 348,
    "start_time": "2023-04-02T10:51:43.287Z"
   },
   {
    "duration": 18,
    "start_time": "2023-04-02T10:51:44.403Z"
   },
   {
    "duration": 42,
    "start_time": "2023-04-02T10:51:44.814Z"
   },
   {
    "duration": 32,
    "start_time": "2023-04-02T10:51:45.923Z"
   },
   {
    "duration": 332,
    "start_time": "2023-04-02T10:51:46.496Z"
   },
   {
    "duration": 39,
    "start_time": "2023-04-02T10:51:46.974Z"
   },
   {
    "duration": 23,
    "start_time": "2023-04-02T10:51:47.482Z"
   },
   {
    "duration": 30,
    "start_time": "2023-04-02T10:51:49.051Z"
   },
   {
    "duration": 115,
    "start_time": "2023-04-02T10:51:49.592Z"
   },
   {
    "duration": 8,
    "start_time": "2023-04-02T10:51:50.694Z"
   },
   {
    "duration": 20,
    "start_time": "2023-04-02T10:51:51.085Z"
   },
   {
    "duration": 11,
    "start_time": "2023-04-02T10:51:52.177Z"
   },
   {
    "duration": 2,
    "start_time": "2023-04-02T10:51:52.730Z"
   },
   {
    "duration": 79,
    "start_time": "2023-04-02T10:51:53.210Z"
   },
   {
    "duration": 11,
    "start_time": "2023-04-02T10:51:54.142Z"
   },
   {
    "duration": 7,
    "start_time": "2023-04-02T10:51:58.269Z"
   },
   {
    "duration": 383,
    "start_time": "2023-04-02T10:51:58.844Z"
   },
   {
    "duration": 155,
    "start_time": "2023-04-02T10:51:59.418Z"
   },
   {
    "duration": 1398,
    "start_time": "2023-04-02T10:52:00.010Z"
   },
   {
    "duration": 61,
    "start_time": "2023-04-02T10:52:02.530Z"
   },
   {
    "duration": 2574,
    "start_time": "2023-04-02T10:52:03.690Z"
   },
   {
    "duration": 6,
    "start_time": "2023-04-02T10:52:06.277Z"
   },
   {
    "duration": 6,
    "start_time": "2023-04-02T10:52:07.691Z"
   },
   {
    "duration": 13,
    "start_time": "2023-04-02T10:52:08.410Z"
   },
   {
    "duration": 13,
    "start_time": "2023-04-02T10:52:09.964Z"
   },
   {
    "duration": 2652,
    "start_time": "2023-04-02T10:52:11.011Z"
   },
   {
    "duration": 18,
    "start_time": "2023-04-02T10:52:13.673Z"
   },
   {
    "duration": 7,
    "start_time": "2023-04-02T10:53:16.086Z"
   },
   {
    "duration": 1160,
    "start_time": "2023-04-02T10:53:16.930Z"
   },
   {
    "duration": 142,
    "start_time": "2023-04-02T10:53:18.093Z"
   },
   {
    "duration": 86,
    "start_time": "2023-04-02T10:53:18.392Z"
   },
   {
    "duration": 156,
    "start_time": "2023-04-02T10:53:20.214Z"
   },
   {
    "duration": 23,
    "start_time": "2023-04-02T10:53:21.395Z"
   },
   {
    "duration": 70,
    "start_time": "2023-04-02T10:53:21.794Z"
   },
   {
    "duration": 27,
    "start_time": "2023-04-02T10:53:22.294Z"
   },
   {
    "duration": 34,
    "start_time": "2023-04-02T10:53:22.763Z"
   },
   {
    "duration": 81,
    "start_time": "2023-04-02T10:53:23.194Z"
   },
   {
    "duration": 49,
    "start_time": "2023-04-02T10:53:23.571Z"
   },
   {
    "duration": 64,
    "start_time": "2023-04-02T10:53:23.994Z"
   },
   {
    "duration": 44,
    "start_time": "2023-04-02T10:53:24.724Z"
   },
   {
    "duration": 58,
    "start_time": "2023-04-02T10:53:25.027Z"
   },
   {
    "duration": 58,
    "start_time": "2023-04-02T10:53:25.487Z"
   },
   {
    "duration": 43,
    "start_time": "2023-04-02T10:53:26.326Z"
   },
   {
    "duration": 102,
    "start_time": "2023-04-02T10:53:26.802Z"
   },
   {
    "duration": 277,
    "start_time": "2023-04-02T10:53:27.336Z"
   },
   {
    "duration": 590,
    "start_time": "2023-04-02T10:53:28.215Z"
   },
   {
    "duration": 1176,
    "start_time": "2023-04-02T10:53:28.807Z"
   },
   {
    "duration": 108,
    "start_time": "2023-04-02T10:53:29.985Z"
   },
   {
    "duration": 105,
    "start_time": "2023-04-02T10:53:30.425Z"
   },
   {
    "duration": 22,
    "start_time": "2023-04-02T10:53:31.392Z"
   },
   {
    "duration": 355,
    "start_time": "2023-04-02T10:53:31.814Z"
   },
   {
    "duration": 266,
    "start_time": "2023-04-02T10:53:32.485Z"
   },
   {
    "duration": 21,
    "start_time": "2023-04-02T10:53:33.234Z"
   },
   {
    "duration": 32,
    "start_time": "2023-04-02T10:53:33.595Z"
   },
   {
    "duration": 20,
    "start_time": "2023-04-02T10:53:33.985Z"
   },
   {
    "duration": 43,
    "start_time": "2023-04-02T10:53:34.315Z"
   },
   {
    "duration": 8,
    "start_time": "2023-04-02T10:53:34.704Z"
   },
   {
    "duration": 24,
    "start_time": "2023-04-02T10:53:35.570Z"
   },
   {
    "duration": 39,
    "start_time": "2023-04-02T10:53:35.915Z"
   },
   {
    "duration": 18,
    "start_time": "2023-04-02T10:53:36.304Z"
   },
   {
    "duration": 395,
    "start_time": "2023-04-02T10:53:36.675Z"
   },
   {
    "duration": 31,
    "start_time": "2023-04-02T10:53:37.371Z"
   },
   {
    "duration": 32,
    "start_time": "2023-04-02T10:53:37.779Z"
   },
   {
    "duration": 26,
    "start_time": "2023-04-02T10:53:38.536Z"
   },
   {
    "duration": 279,
    "start_time": "2023-04-02T10:53:38.994Z"
   },
   {
    "duration": 12,
    "start_time": "2023-04-02T10:53:39.387Z"
   },
   {
    "duration": 9,
    "start_time": "2023-04-02T10:53:39.792Z"
   },
   {
    "duration": 18,
    "start_time": "2023-04-02T10:53:40.924Z"
   },
   {
    "duration": 109,
    "start_time": "2023-04-02T10:53:41.386Z"
   },
   {
    "duration": 15,
    "start_time": "2023-04-02T10:53:41.762Z"
   },
   {
    "duration": 24,
    "start_time": "2023-04-02T10:53:42.677Z"
   },
   {
    "duration": 7,
    "start_time": "2023-04-02T10:53:43.413Z"
   },
   {
    "duration": 5,
    "start_time": "2023-04-02T10:53:43.778Z"
   },
   {
    "duration": 55,
    "start_time": "2023-04-02T10:53:44.105Z"
   },
   {
    "duration": 6,
    "start_time": "2023-04-02T10:53:44.943Z"
   },
   {
    "duration": 3,
    "start_time": "2023-04-02T10:53:47.314Z"
   },
   {
    "duration": 115,
    "start_time": "2023-04-02T10:53:47.778Z"
   },
   {
    "duration": 1592,
    "start_time": "2023-04-02T10:53:48.232Z"
   },
   {
    "duration": 67,
    "start_time": "2023-04-02T10:53:54.194Z"
   },
   {
    "duration": 2538,
    "start_time": "2023-04-02T10:53:55.585Z"
   },
   {
    "duration": 4,
    "start_time": "2023-04-02T10:53:59.292Z"
   },
   {
    "duration": 15,
    "start_time": "2023-04-02T10:54:00.554Z"
   },
   {
    "duration": 14,
    "start_time": "2023-04-02T10:54:01.983Z"
   },
   {
    "duration": 3,
    "start_time": "2023-04-02T10:54:03.693Z"
   },
   {
    "duration": 2398,
    "start_time": "2023-04-02T10:54:04.678Z"
   },
   {
    "duration": 553,
    "start_time": "2023-04-02T10:54:08.067Z"
   },
   {
    "duration": 19,
    "start_time": "2023-04-02T10:54:10.270Z"
   },
   {
    "duration": 3,
    "start_time": "2023-04-02T10:59:12.180Z"
   },
   {
    "duration": 187,
    "start_time": "2023-04-02T10:59:13.606Z"
   },
   {
    "duration": 15,
    "start_time": "2023-04-02T10:59:14.790Z"
   },
   {
    "duration": 3063,
    "start_time": "2023-04-02T10:59:33.174Z"
   },
   {
    "duration": 11,
    "start_time": "2023-04-02T10:59:37.758Z"
   },
   {
    "duration": 5,
    "start_time": "2023-04-02T10:59:39.726Z"
   },
   {
    "duration": 3,
    "start_time": "2023-04-02T10:59:50.320Z"
   },
   {
    "duration": 3,
    "start_time": "2023-04-02T10:59:51.506Z"
   },
   {
    "duration": 18,
    "start_time": "2023-04-02T11:02:07.894Z"
   },
   {
    "duration": 1351,
    "start_time": "2023-04-02T11:02:08.911Z"
   },
   {
    "duration": 204,
    "start_time": "2023-04-02T11:02:11.313Z"
   },
   {
    "duration": 101,
    "start_time": "2023-04-02T11:02:12.168Z"
   },
   {
    "duration": 201,
    "start_time": "2023-04-02T11:02:13.097Z"
   },
   {
    "duration": 53,
    "start_time": "2023-04-02T11:02:13.870Z"
   },
   {
    "duration": 78,
    "start_time": "2023-04-02T11:02:14.370Z"
   },
   {
    "duration": 36,
    "start_time": "2023-04-02T11:02:14.749Z"
   },
   {
    "duration": 46,
    "start_time": "2023-04-02T11:02:15.257Z"
   },
   {
    "duration": 83,
    "start_time": "2023-04-02T11:02:15.620Z"
   },
   {
    "duration": 47,
    "start_time": "2023-04-02T11:02:16.025Z"
   },
   {
    "duration": 93,
    "start_time": "2023-04-02T11:02:16.320Z"
   },
   {
    "duration": 46,
    "start_time": "2023-04-02T11:02:16.981Z"
   },
   {
    "duration": 65,
    "start_time": "2023-04-02T11:02:18.358Z"
   },
   {
    "duration": 106,
    "start_time": "2023-04-02T11:02:18.429Z"
   },
   {
    "duration": 91,
    "start_time": "2023-04-02T11:02:18.538Z"
   },
   {
    "duration": 85,
    "start_time": "2023-04-02T11:02:18.698Z"
   },
   {
    "duration": 200,
    "start_time": "2023-04-02T11:02:18.967Z"
   },
   {
    "duration": 639,
    "start_time": "2023-04-02T11:02:19.680Z"
   },
   {
    "duration": 1378,
    "start_time": "2023-04-02T11:02:20.322Z"
   },
   {
    "duration": 124,
    "start_time": "2023-04-02T11:02:21.703Z"
   },
   {
    "duration": 126,
    "start_time": "2023-04-02T11:02:21.829Z"
   },
   {
    "duration": 44,
    "start_time": "2023-04-02T11:02:22.075Z"
   },
   {
    "duration": 449,
    "start_time": "2023-04-02T11:02:22.360Z"
   },
   {
    "duration": 341,
    "start_time": "2023-04-02T11:02:23.060Z"
   },
   {
    "duration": 9,
    "start_time": "2023-04-02T11:02:24.328Z"
   },
   {
    "duration": 33,
    "start_time": "2023-04-02T11:02:24.895Z"
   },
   {
    "duration": 49,
    "start_time": "2023-04-02T11:02:25.318Z"
   },
   {
    "duration": 49,
    "start_time": "2023-04-02T11:02:25.777Z"
   },
   {
    "duration": 19,
    "start_time": "2023-04-02T11:02:26.290Z"
   },
   {
    "duration": 54,
    "start_time": "2023-04-02T11:02:27.067Z"
   },
   {
    "duration": 31,
    "start_time": "2023-04-02T11:02:27.505Z"
   },
   {
    "duration": 43,
    "start_time": "2023-04-02T11:02:28.262Z"
   },
   {
    "duration": 429,
    "start_time": "2023-04-02T11:02:28.789Z"
   },
   {
    "duration": 24,
    "start_time": "2023-04-02T11:02:29.704Z"
   },
   {
    "duration": 52,
    "start_time": "2023-04-02T11:02:30.125Z"
   },
   {
    "duration": 21,
    "start_time": "2023-04-02T11:02:31.009Z"
   },
   {
    "duration": 519,
    "start_time": "2023-04-02T11:02:31.437Z"
   },
   {
    "duration": 17,
    "start_time": "2023-04-02T11:02:31.958Z"
   },
   {
    "duration": 22,
    "start_time": "2023-04-02T11:02:32.371Z"
   },
   {
    "duration": 43,
    "start_time": "2023-04-02T11:02:33.783Z"
   },
   {
    "duration": 205,
    "start_time": "2023-04-02T11:02:34.251Z"
   },
   {
    "duration": 23,
    "start_time": "2023-04-02T11:02:34.724Z"
   },
   {
    "duration": 69,
    "start_time": "2023-04-02T11:02:35.639Z"
   },
   {
    "duration": 45,
    "start_time": "2023-04-02T11:02:36.972Z"
   },
   {
    "duration": 11,
    "start_time": "2023-04-02T11:02:37.435Z"
   },
   {
    "duration": 91,
    "start_time": "2023-04-02T11:02:38.056Z"
   },
   {
    "duration": 11,
    "start_time": "2023-04-02T11:02:38.872Z"
   },
   {
    "duration": 7,
    "start_time": "2023-04-02T11:02:41.597Z"
   },
   {
    "duration": 25,
    "start_time": "2023-04-02T11:02:42.274Z"
   },
   {
    "duration": 152,
    "start_time": "2023-04-02T11:02:42.790Z"
   },
   {
    "duration": 11,
    "start_time": "2023-04-02T11:03:55.695Z"
   },
   {
    "duration": 1143,
    "start_time": "2023-04-02T11:03:57.070Z"
   },
   {
    "duration": 192,
    "start_time": "2023-04-02T11:03:58.215Z"
   },
   {
    "duration": 100,
    "start_time": "2023-04-02T11:03:58.534Z"
   },
   {
    "duration": 174,
    "start_time": "2023-04-02T11:03:59.922Z"
   },
   {
    "duration": 34,
    "start_time": "2023-04-02T11:04:01.104Z"
   },
   {
    "duration": 106,
    "start_time": "2023-04-02T11:04:01.775Z"
   },
   {
    "duration": 23,
    "start_time": "2023-04-02T11:04:02.302Z"
   },
   {
    "duration": 35,
    "start_time": "2023-04-02T11:04:02.990Z"
   },
   {
    "duration": 71,
    "start_time": "2023-04-02T11:04:03.568Z"
   },
   {
    "duration": 37,
    "start_time": "2023-04-02T11:04:04.022Z"
   },
   {
    "duration": 85,
    "start_time": "2023-04-02T11:04:04.604Z"
   },
   {
    "duration": 42,
    "start_time": "2023-04-02T11:04:05.675Z"
   },
   {
    "duration": 66,
    "start_time": "2023-04-02T11:04:06.252Z"
   },
   {
    "duration": 97,
    "start_time": "2023-04-02T11:04:06.811Z"
   },
   {
    "duration": 55,
    "start_time": "2023-04-02T11:04:08.193Z"
   },
   {
    "duration": 55,
    "start_time": "2023-04-02T11:04:08.791Z"
   },
   {
    "duration": 266,
    "start_time": "2023-04-02T11:04:09.423Z"
   },
   {
    "duration": 616,
    "start_time": "2023-04-02T11:04:11.007Z"
   },
   {
    "duration": 1326,
    "start_time": "2023-04-02T11:04:11.709Z"
   },
   {
    "duration": 112,
    "start_time": "2023-04-02T11:04:13.037Z"
   },
   {
    "duration": 126,
    "start_time": "2023-04-02T11:04:14.162Z"
   },
   {
    "duration": 25,
    "start_time": "2023-04-02T11:04:15.409Z"
   },
   {
    "duration": 498,
    "start_time": "2023-04-02T11:04:15.969Z"
   },
   {
    "duration": 501,
    "start_time": "2023-04-02T11:04:17.024Z"
   },
   {
    "duration": 12,
    "start_time": "2023-04-02T11:04:18.300Z"
   },
   {
    "duration": 42,
    "start_time": "2023-04-02T11:04:18.873Z"
   },
   {
    "duration": 24,
    "start_time": "2023-04-02T11:04:19.490Z"
   },
   {
    "duration": 45,
    "start_time": "2023-04-02T11:04:20.211Z"
   },
   {
    "duration": 12,
    "start_time": "2023-04-02T11:04:20.703Z"
   },
   {
    "duration": 41,
    "start_time": "2023-04-02T11:04:21.775Z"
   },
   {
    "duration": 36,
    "start_time": "2023-04-02T11:04:22.304Z"
   },
   {
    "duration": 32,
    "start_time": "2023-04-02T11:04:22.685Z"
   },
   {
    "duration": 534,
    "start_time": "2023-04-02T11:04:23.236Z"
   },
   {
    "duration": 39,
    "start_time": "2023-04-02T11:04:24.181Z"
   },
   {
    "duration": 31,
    "start_time": "2023-04-02T11:04:24.708Z"
   },
   {
    "duration": 23,
    "start_time": "2023-04-02T11:04:25.908Z"
   },
   {
    "duration": 612,
    "start_time": "2023-04-02T11:04:26.405Z"
   },
   {
    "duration": 16,
    "start_time": "2023-04-02T11:04:27.019Z"
   },
   {
    "duration": 11,
    "start_time": "2023-04-02T11:04:27.422Z"
   },
   {
    "duration": 35,
    "start_time": "2023-04-02T11:04:29.969Z"
   },
   {
    "duration": 159,
    "start_time": "2023-04-02T11:04:30.544Z"
   },
   {
    "duration": 9,
    "start_time": "2023-04-02T11:04:31.569Z"
   },
   {
    "duration": 38,
    "start_time": "2023-04-02T11:04:32.842Z"
   },
   {
    "duration": 10,
    "start_time": "2023-04-02T11:04:34.682Z"
   },
   {
    "duration": 9,
    "start_time": "2023-04-02T11:04:35.348Z"
   },
   {
    "duration": 93,
    "start_time": "2023-04-02T11:04:36.048Z"
   },
   {
    "duration": 11,
    "start_time": "2023-04-02T11:04:38.363Z"
   },
   {
    "duration": 3,
    "start_time": "2023-04-02T11:04:41.943Z"
   },
   {
    "duration": 6,
    "start_time": "2023-04-02T11:04:44.071Z"
   },
   {
    "duration": 175,
    "start_time": "2023-04-02T11:04:46.322Z"
   },
   {
    "duration": 1897,
    "start_time": "2023-04-02T11:04:48.120Z"
   },
   {
    "duration": 56,
    "start_time": "2023-04-02T11:04:50.020Z"
   },
   {
    "duration": 2947,
    "start_time": "2023-04-02T11:04:50.444Z"
   },
   {
    "duration": 14,
    "start_time": "2023-04-02T11:04:53.399Z"
   },
   {
    "duration": 102,
    "start_time": "2023-04-02T11:04:53.429Z"
   },
   {
    "duration": 105,
    "start_time": "2023-04-02T11:04:53.533Z"
   },
   {
    "duration": 2637,
    "start_time": "2023-04-02T11:04:55.779Z"
   },
   {
    "duration": 20,
    "start_time": "2023-04-02T11:05:01.474Z"
   },
   {
    "duration": 8,
    "start_time": "2023-04-02T11:06:36.039Z"
   },
   {
    "duration": 1107,
    "start_time": "2023-04-02T11:06:36.684Z"
   },
   {
    "duration": 152,
    "start_time": "2023-04-02T11:06:37.793Z"
   },
   {
    "duration": 87,
    "start_time": "2023-04-02T11:06:37.946Z"
   },
   {
    "duration": 163,
    "start_time": "2023-04-02T11:06:38.035Z"
   },
   {
    "duration": 41,
    "start_time": "2023-04-02T11:06:39.040Z"
   },
   {
    "duration": 70,
    "start_time": "2023-04-02T11:06:39.432Z"
   },
   {
    "duration": 48,
    "start_time": "2023-04-02T11:06:39.940Z"
   },
   {
    "duration": 36,
    "start_time": "2023-04-02T11:06:40.339Z"
   },
   {
    "duration": 64,
    "start_time": "2023-04-02T11:06:40.711Z"
   },
   {
    "duration": 44,
    "start_time": "2023-04-02T11:06:41.140Z"
   },
   {
    "duration": 74,
    "start_time": "2023-04-02T11:06:41.519Z"
   },
   {
    "duration": 23,
    "start_time": "2023-04-02T11:06:42.299Z"
   },
   {
    "duration": 40,
    "start_time": "2023-04-02T11:06:42.677Z"
   },
   {
    "duration": 71,
    "start_time": "2023-04-02T11:06:43.140Z"
   },
   {
    "duration": 22,
    "start_time": "2023-04-02T11:06:43.900Z"
   },
   {
    "duration": 60,
    "start_time": "2023-04-02T11:06:44.299Z"
   },
   {
    "duration": 147,
    "start_time": "2023-04-02T11:06:44.683Z"
   },
   {
    "duration": 619,
    "start_time": "2023-04-02T11:06:46.492Z"
   },
   {
    "duration": 1199,
    "start_time": "2023-04-02T11:06:47.114Z"
   },
   {
    "duration": 81,
    "start_time": "2023-04-02T11:06:48.315Z"
   },
   {
    "duration": 104,
    "start_time": "2023-04-02T11:06:48.399Z"
   },
   {
    "duration": 101,
    "start_time": "2023-04-02T11:06:48.506Z"
   },
   {
    "duration": 330,
    "start_time": "2023-04-02T11:06:48.669Z"
   },
   {
    "duration": 261,
    "start_time": "2023-04-02T11:06:49.532Z"
   },
   {
    "duration": 10,
    "start_time": "2023-04-02T11:06:50.284Z"
   },
   {
    "duration": 48,
    "start_time": "2023-04-02T11:06:50.744Z"
   },
   {
    "duration": 24,
    "start_time": "2023-04-02T11:06:51.174Z"
   },
   {
    "duration": 35,
    "start_time": "2023-04-02T11:06:51.584Z"
   },
   {
    "duration": 15,
    "start_time": "2023-04-02T11:06:52.046Z"
   },
   {
    "duration": 29,
    "start_time": "2023-04-02T11:06:52.944Z"
   },
   {
    "duration": 43,
    "start_time": "2023-04-02T11:06:53.324Z"
   },
   {
    "duration": 21,
    "start_time": "2023-04-02T11:06:53.912Z"
   },
   {
    "duration": 329,
    "start_time": "2023-04-02T11:06:54.332Z"
   },
   {
    "duration": 20,
    "start_time": "2023-04-02T11:06:55.217Z"
   },
   {
    "duration": 30,
    "start_time": "2023-04-02T11:06:55.673Z"
   },
   {
    "duration": 25,
    "start_time": "2023-04-02T11:06:56.568Z"
   },
   {
    "duration": 247,
    "start_time": "2023-04-02T11:06:57.002Z"
   },
   {
    "duration": 13,
    "start_time": "2023-04-02T11:06:57.401Z"
   },
   {
    "duration": 7,
    "start_time": "2023-04-02T11:06:57.812Z"
   },
   {
    "duration": 19,
    "start_time": "2023-04-02T11:06:59.111Z"
   },
   {
    "duration": 101,
    "start_time": "2023-04-02T11:06:59.531Z"
   },
   {
    "duration": 21,
    "start_time": "2023-04-02T11:06:59.956Z"
   },
   {
    "duration": 30,
    "start_time": "2023-04-02T11:07:00.773Z"
   },
   {
    "duration": 9,
    "start_time": "2023-04-02T11:07:01.583Z"
   },
   {
    "duration": 4,
    "start_time": "2023-04-02T11:07:02.009Z"
   },
   {
    "duration": 53,
    "start_time": "2023-04-02T11:07:02.472Z"
   },
   {
    "duration": 5,
    "start_time": "2023-04-02T11:07:03.202Z"
   },
   {
    "duration": 3,
    "start_time": "2023-04-02T11:07:04.822Z"
   },
   {
    "duration": 124,
    "start_time": "2023-04-02T11:07:05.612Z"
   },
   {
    "duration": 1471,
    "start_time": "2023-04-02T11:07:06.062Z"
   },
   {
    "duration": 53,
    "start_time": "2023-04-02T11:07:07.535Z"
   },
   {
    "duration": 2667,
    "start_time": "2023-04-02T11:07:07.591Z"
   },
   {
    "duration": 14,
    "start_time": "2023-04-02T11:07:10.268Z"
   },
   {
    "duration": 14,
    "start_time": "2023-04-02T11:07:10.284Z"
   },
   {
    "duration": 55,
    "start_time": "2023-04-02T11:07:10.301Z"
   },
   {
    "duration": 10,
    "start_time": "2023-04-02T11:07:38.203Z"
   },
   {
    "duration": 12,
    "start_time": "2023-04-02T11:07:41.869Z"
   },
   {
    "duration": 21,
    "start_time": "2023-04-02T11:07:50.502Z"
   },
   {
    "duration": 12,
    "start_time": "2023-04-02T11:07:53.044Z"
   },
   {
    "duration": 2627,
    "start_time": "2023-04-02T11:07:54.574Z"
   },
   {
    "duration": 7,
    "start_time": "2023-04-02T11:07:58.497Z"
   },
   {
    "duration": 7,
    "start_time": "2023-04-02T11:29:03.004Z"
   },
   {
    "duration": 936,
    "start_time": "2023-04-02T11:29:04.779Z"
   },
   {
    "duration": 161,
    "start_time": "2023-04-02T11:29:05.718Z"
   },
   {
    "duration": 89,
    "start_time": "2023-04-02T11:29:07.139Z"
   },
   {
    "duration": 140,
    "start_time": "2023-04-02T11:29:08.380Z"
   },
   {
    "duration": 28,
    "start_time": "2023-04-02T11:29:09.327Z"
   },
   {
    "duration": 43,
    "start_time": "2023-04-02T11:29:09.885Z"
   },
   {
    "duration": 17,
    "start_time": "2023-04-02T11:29:10.387Z"
   },
   {
    "duration": 22,
    "start_time": "2023-04-02T11:29:10.880Z"
   },
   {
    "duration": 46,
    "start_time": "2023-04-02T11:29:11.283Z"
   },
   {
    "duration": 30,
    "start_time": "2023-04-02T11:29:11.632Z"
   },
   {
    "duration": 66,
    "start_time": "2023-04-02T11:29:12.021Z"
   },
   {
    "duration": 28,
    "start_time": "2023-04-02T11:29:12.867Z"
   },
   {
    "duration": 49,
    "start_time": "2023-04-02T11:29:13.327Z"
   },
   {
    "duration": 64,
    "start_time": "2023-04-02T11:29:13.717Z"
   },
   {
    "duration": 22,
    "start_time": "2023-04-02T11:29:14.488Z"
   },
   {
    "duration": 48,
    "start_time": "2023-04-02T11:29:14.883Z"
   },
   {
    "duration": 138,
    "start_time": "2023-04-02T11:29:15.281Z"
   },
   {
    "duration": 501,
    "start_time": "2023-04-02T11:29:16.294Z"
   },
   {
    "duration": 1061,
    "start_time": "2023-04-02T11:29:16.798Z"
   },
   {
    "duration": 96,
    "start_time": "2023-04-02T11:29:17.862Z"
   },
   {
    "duration": 99,
    "start_time": "2023-04-02T11:29:18.627Z"
   },
   {
    "duration": 23,
    "start_time": "2023-04-02T11:29:19.777Z"
   },
   {
    "duration": 333,
    "start_time": "2023-04-02T11:29:20.788Z"
   },
   {
    "duration": 265,
    "start_time": "2023-04-02T11:29:21.637Z"
   },
   {
    "duration": 10,
    "start_time": "2023-04-02T11:29:22.728Z"
   },
   {
    "duration": 29,
    "start_time": "2023-04-02T11:29:23.484Z"
   },
   {
    "duration": 21,
    "start_time": "2023-04-02T11:29:23.980Z"
   },
   {
    "duration": 35,
    "start_time": "2023-04-02T11:29:24.427Z"
   },
   {
    "duration": 7,
    "start_time": "2023-04-02T11:29:25.127Z"
   },
   {
    "duration": 35,
    "start_time": "2023-04-02T11:29:25.935Z"
   },
   {
    "duration": 29,
    "start_time": "2023-04-02T11:29:26.379Z"
   },
   {
    "duration": 24,
    "start_time": "2023-04-02T11:29:26.584Z"
   },
   {
    "duration": 316,
    "start_time": "2023-04-02T11:29:27.187Z"
   },
   {
    "duration": 20,
    "start_time": "2023-04-02T11:29:27.695Z"
   },
   {
    "duration": 28,
    "start_time": "2023-04-02T11:29:27.984Z"
   },
   {
    "duration": 38,
    "start_time": "2023-04-02T11:29:28.552Z"
   },
   {
    "duration": 431,
    "start_time": "2023-04-02T11:29:28.788Z"
   },
   {
    "duration": 45,
    "start_time": "2023-04-02T11:29:29.222Z"
   },
   {
    "duration": 9,
    "start_time": "2023-04-02T11:29:29.487Z"
   },
   {
    "duration": 18,
    "start_time": "2023-04-02T11:29:30.485Z"
   },
   {
    "duration": 107,
    "start_time": "2023-04-02T11:29:30.807Z"
   },
   {
    "duration": 8,
    "start_time": "2023-04-02T11:29:31.180Z"
   },
   {
    "duration": 21,
    "start_time": "2023-04-02T11:29:31.880Z"
   },
   {
    "duration": 7,
    "start_time": "2023-04-02T11:29:32.515Z"
   },
   {
    "duration": 2,
    "start_time": "2023-04-02T11:29:32.827Z"
   },
   {
    "duration": 47,
    "start_time": "2023-04-02T11:29:33.108Z"
   },
   {
    "duration": 3,
    "start_time": "2023-04-02T11:29:33.795Z"
   },
   {
    "duration": 3,
    "start_time": "2023-04-02T11:29:35.916Z"
   },
   {
    "duration": 119,
    "start_time": "2023-04-02T11:29:36.560Z"
   },
   {
    "duration": 1307,
    "start_time": "2023-04-02T11:29:36.888Z"
   },
   {
    "duration": 30,
    "start_time": "2023-04-02T11:29:38.197Z"
   },
   {
    "duration": 2608,
    "start_time": "2023-04-02T11:29:38.228Z"
   },
   {
    "duration": 7,
    "start_time": "2023-04-02T11:29:40.842Z"
   },
   {
    "duration": 45,
    "start_time": "2023-04-02T11:29:40.854Z"
   },
   {
    "duration": 35,
    "start_time": "2023-04-02T11:29:40.900Z"
   },
   {
    "duration": 3,
    "start_time": "2023-04-02T11:29:42.887Z"
   },
   {
    "duration": 2424,
    "start_time": "2023-04-02T11:29:43.986Z"
   },
   {
    "duration": 7,
    "start_time": "2023-04-02T11:29:46.413Z"
   },
   {
    "duration": 3,
    "start_time": "2023-04-02T11:30:07.583Z"
   },
   {
    "duration": 3,
    "start_time": "2023-04-02T11:30:08.595Z"
   },
   {
    "duration": 6,
    "start_time": "2023-04-02T11:30:10.114Z"
   },
   {
    "duration": 5,
    "start_time": "2023-04-02T11:30:14.797Z"
   },
   {
    "duration": 6,
    "start_time": "2023-04-02T11:30:15.361Z"
   },
   {
    "duration": 1889,
    "start_time": "2023-04-02T11:35:31.960Z"
   },
   {
    "duration": 4336,
    "start_time": "2023-04-02T11:35:33.852Z"
   },
   {
    "duration": 183,
    "start_time": "2023-04-02T11:35:40.129Z"
   },
   {
    "duration": 99,
    "start_time": "2023-04-02T11:35:41.375Z"
   },
   {
    "duration": 197,
    "start_time": "2023-04-02T11:35:43.417Z"
   },
   {
    "duration": 38,
    "start_time": "2023-04-02T11:35:45.460Z"
   },
   {
    "duration": 52,
    "start_time": "2023-04-02T11:35:46.398Z"
   },
   {
    "duration": 18,
    "start_time": "2023-04-02T11:35:47.301Z"
   },
   {
    "duration": 26,
    "start_time": "2023-04-02T11:35:48.183Z"
   },
   {
    "duration": 81,
    "start_time": "2023-04-02T11:35:49.909Z"
   },
   {
    "duration": 40,
    "start_time": "2023-04-02T11:35:50.925Z"
   },
   {
    "duration": 66,
    "start_time": "2023-04-02T11:35:52.060Z"
   },
   {
    "duration": 21,
    "start_time": "2023-04-02T11:35:53.718Z"
   },
   {
    "duration": 28,
    "start_time": "2023-04-02T11:35:54.589Z"
   },
   {
    "duration": 47,
    "start_time": "2023-04-02T11:35:55.289Z"
   },
   {
    "duration": 20,
    "start_time": "2023-04-02T11:35:56.807Z"
   },
   {
    "duration": 67,
    "start_time": "2023-04-02T11:35:57.717Z"
   },
   {
    "duration": 203,
    "start_time": "2023-04-02T11:36:06.270Z"
   },
   {
    "duration": 671,
    "start_time": "2023-04-02T11:36:07.884Z"
   },
   {
    "duration": 1338,
    "start_time": "2023-04-02T11:36:08.674Z"
   },
   {
    "duration": 111,
    "start_time": "2023-04-02T11:36:10.149Z"
   },
   {
    "duration": 92,
    "start_time": "2023-04-02T11:36:11.664Z"
   },
   {
    "duration": 34,
    "start_time": "2023-04-02T11:36:13.244Z"
   },
   {
    "duration": 343,
    "start_time": "2023-04-02T11:36:13.676Z"
   },
   {
    "duration": 372,
    "start_time": "2023-04-02T11:36:14.417Z"
   },
   {
    "duration": 13,
    "start_time": "2023-04-02T11:36:15.329Z"
   },
   {
    "duration": 46,
    "start_time": "2023-04-02T11:36:15.870Z"
   },
   {
    "duration": 25,
    "start_time": "2023-04-02T11:36:16.196Z"
   },
   {
    "duration": 37,
    "start_time": "2023-04-02T11:36:16.581Z"
   },
   {
    "duration": 7,
    "start_time": "2023-04-02T11:36:16.973Z"
   },
   {
    "duration": 20,
    "start_time": "2023-04-02T11:36:17.789Z"
   },
   {
    "duration": 37,
    "start_time": "2023-04-02T11:36:18.229Z"
   },
   {
    "duration": 18,
    "start_time": "2023-04-02T11:36:18.617Z"
   },
   {
    "duration": 345,
    "start_time": "2023-04-02T11:36:18.996Z"
   },
   {
    "duration": 28,
    "start_time": "2023-04-02T11:36:19.832Z"
   },
   {
    "duration": 30,
    "start_time": "2023-04-02T11:36:20.279Z"
   },
   {
    "duration": 20,
    "start_time": "2023-04-02T11:36:21.068Z"
   },
   {
    "duration": 256,
    "start_time": "2023-04-02T11:36:21.397Z"
   },
   {
    "duration": 12,
    "start_time": "2023-04-02T11:36:21.816Z"
   },
   {
    "duration": 8,
    "start_time": "2023-04-02T11:36:22.189Z"
   },
   {
    "duration": 18,
    "start_time": "2023-04-02T11:36:23.209Z"
   },
   {
    "duration": 113,
    "start_time": "2023-04-02T11:36:23.617Z"
   },
   {
    "duration": 7,
    "start_time": "2023-04-02T11:36:23.977Z"
   },
   {
    "duration": 23,
    "start_time": "2023-04-02T11:36:24.674Z"
   },
   {
    "duration": 14,
    "start_time": "2023-04-02T11:36:25.468Z"
   },
   {
    "duration": 3,
    "start_time": "2023-04-02T11:36:25.879Z"
   },
   {
    "duration": 60,
    "start_time": "2023-04-02T11:36:26.278Z"
   },
   {
    "duration": 7,
    "start_time": "2023-04-02T11:36:27.039Z"
   },
   {
    "duration": 3,
    "start_time": "2023-04-02T11:36:29.137Z"
   },
   {
    "duration": 122,
    "start_time": "2023-04-02T11:36:29.970Z"
   },
   {
    "duration": 1377,
    "start_time": "2023-04-02T11:36:30.404Z"
   },
   {
    "duration": 5,
    "start_time": "2023-04-02T11:36:31.787Z"
   },
   {
    "duration": 2585,
    "start_time": "2023-04-02T11:36:31.909Z"
   },
   {
    "duration": 4,
    "start_time": "2023-04-02T11:36:34.503Z"
   },
   {
    "duration": 12,
    "start_time": "2023-04-02T11:36:34.509Z"
   },
   {
    "duration": 30,
    "start_time": "2023-04-02T11:36:34.523Z"
   },
   {
    "duration": 4,
    "start_time": "2023-04-02T11:36:34.830Z"
   },
   {
    "duration": 3313,
    "start_time": "2023-04-02T11:36:36.190Z"
   },
   {
    "duration": 6,
    "start_time": "2023-04-02T11:36:39.506Z"
   },
   {
    "duration": 3,
    "start_time": "2023-04-02T11:36:43.230Z"
   },
   {
    "duration": 5,
    "start_time": "2023-04-02T11:36:44.509Z"
   },
   {
    "duration": 6,
    "start_time": "2023-04-02T11:36:45.336Z"
   },
   {
    "duration": 7,
    "start_time": "2023-04-02T11:36:47.557Z"
   },
   {
    "duration": 3,
    "start_time": "2023-04-02T11:36:48.069Z"
   },
   {
    "duration": 79097,
    "start_time": "2023-04-02T11:36:59.594Z"
   },
   {
    "duration": 470,
    "start_time": "2023-04-02T11:38:22.073Z"
   },
   {
    "duration": 15,
    "start_time": "2023-04-02T11:38:24.837Z"
   },
   {
    "duration": 348211,
    "start_time": "2023-04-02T11:38:31.831Z"
   },
   {
    "duration": 348830,
    "start_time": "2023-04-02T11:44:29.436Z"
   },
   {
    "duration": 36124,
    "start_time": "2023-04-02T11:50:18.268Z"
   },
   {
    "duration": 37273,
    "start_time": "2023-04-02T11:50:59.211Z"
   },
   {
    "duration": 37643,
    "start_time": "2023-04-02T11:51:38.567Z"
   },
   {
    "duration": 574,
    "start_time": "2023-04-02T11:52:18.869Z"
   },
   {
    "duration": 7,
    "start_time": "2023-04-02T11:52:46.505Z"
   },
   {
    "duration": 3,
    "start_time": "2023-04-02T11:52:53.485Z"
   },
   {
    "duration": 3,
    "start_time": "2023-04-02T11:52:56.806Z"
   },
   {
    "duration": 830832,
    "start_time": "2023-04-02T11:52:58.435Z"
   },
   {
    "duration": 3151,
    "start_time": "2023-04-02T12:06:56.511Z"
   },
   {
    "duration": 6,
    "start_time": "2023-04-02T12:07:01.712Z"
   },
   {
    "duration": 16,
    "start_time": "2023-04-02T12:07:09.950Z"
   },
   {
    "duration": 16533,
    "start_time": "2023-04-02T12:07:18.010Z"
   },
   {
    "duration": 1068,
    "start_time": "2023-04-02T12:07:37.193Z"
   },
   {
    "duration": 6,
    "start_time": "2023-04-02T12:07:39.912Z"
   },
   {
    "duration": 1274,
    "start_time": "2023-04-02T13:06:01.668Z"
   },
   {
    "duration": 1411,
    "start_time": "2023-04-02T13:06:02.945Z"
   },
   {
    "duration": 154,
    "start_time": "2023-04-02T13:06:04.361Z"
   },
   {
    "duration": 101,
    "start_time": "2023-04-02T13:06:04.517Z"
   },
   {
    "duration": 239,
    "start_time": "2023-04-02T13:06:04.621Z"
   },
   {
    "duration": 22,
    "start_time": "2023-04-02T13:06:04.862Z"
   },
   {
    "duration": 91,
    "start_time": "2023-04-02T13:06:04.887Z"
   },
   {
    "duration": 28,
    "start_time": "2023-04-02T13:06:04.980Z"
   },
   {
    "duration": 49,
    "start_time": "2023-04-02T13:06:05.010Z"
   },
   {
    "duration": 90,
    "start_time": "2023-04-02T13:06:05.062Z"
   },
   {
    "duration": 42,
    "start_time": "2023-04-02T13:06:05.159Z"
   },
   {
    "duration": 93,
    "start_time": "2023-04-02T13:06:05.204Z"
   },
   {
    "duration": 29,
    "start_time": "2023-04-02T13:06:05.299Z"
   },
   {
    "duration": 81,
    "start_time": "2023-04-02T13:06:05.340Z"
   },
   {
    "duration": 81,
    "start_time": "2023-04-02T13:06:05.423Z"
   },
   {
    "duration": 25,
    "start_time": "2023-04-02T13:06:05.506Z"
   },
   {
    "duration": 63,
    "start_time": "2023-04-02T13:06:05.545Z"
   },
   {
    "duration": 173,
    "start_time": "2023-04-02T13:06:05.610Z"
   },
   {
    "duration": 543,
    "start_time": "2023-04-02T13:06:05.785Z"
   },
   {
    "duration": 1026,
    "start_time": "2023-04-02T13:06:06.329Z"
   },
   {
    "duration": 87,
    "start_time": "2023-04-02T13:06:07.357Z"
   },
   {
    "duration": 104,
    "start_time": "2023-04-02T13:06:07.449Z"
   },
   {
    "duration": 19,
    "start_time": "2023-04-02T13:06:07.559Z"
   },
   {
    "duration": 312,
    "start_time": "2023-04-02T13:06:07.580Z"
   },
   {
    "duration": 258,
    "start_time": "2023-04-02T13:06:07.894Z"
   },
   {
    "duration": 9,
    "start_time": "2023-04-02T13:06:08.153Z"
   },
   {
    "duration": 33,
    "start_time": "2023-04-02T13:06:08.163Z"
   },
   {
    "duration": 16,
    "start_time": "2023-04-02T13:06:08.198Z"
   },
   {
    "duration": 48,
    "start_time": "2023-04-02T13:06:08.216Z"
   },
   {
    "duration": 6,
    "start_time": "2023-04-02T13:06:08.265Z"
   },
   {
    "duration": 19,
    "start_time": "2023-04-02T13:06:08.273Z"
   },
   {
    "duration": 26,
    "start_time": "2023-04-02T13:06:08.294Z"
   },
   {
    "duration": 40,
    "start_time": "2023-04-02T13:06:08.322Z"
   },
   {
    "duration": 332,
    "start_time": "2023-04-02T13:06:08.364Z"
   },
   {
    "duration": 18,
    "start_time": "2023-04-02T13:06:08.698Z"
   },
   {
    "duration": 47,
    "start_time": "2023-04-02T13:06:08.718Z"
   },
   {
    "duration": 13,
    "start_time": "2023-04-02T13:06:08.768Z"
   },
   {
    "duration": 386,
    "start_time": "2023-04-02T13:06:08.783Z"
   },
   {
    "duration": 18,
    "start_time": "2023-04-02T13:06:09.171Z"
   },
   {
    "duration": 9,
    "start_time": "2023-04-02T13:06:09.191Z"
   },
   {
    "duration": 44,
    "start_time": "2023-04-02T13:06:09.205Z"
   },
   {
    "duration": 132,
    "start_time": "2023-04-02T13:06:09.250Z"
   },
   {
    "duration": 9,
    "start_time": "2023-04-02T13:06:09.383Z"
   },
   {
    "duration": 29,
    "start_time": "2023-04-02T13:06:09.394Z"
   },
   {
    "duration": 27,
    "start_time": "2023-04-02T13:06:09.425Z"
   },
   {
    "duration": 18,
    "start_time": "2023-04-02T13:06:09.456Z"
   },
   {
    "duration": 44,
    "start_time": "2023-04-02T13:06:09.475Z"
   },
   {
    "duration": 3,
    "start_time": "2023-04-02T13:06:09.521Z"
   },
   {
    "duration": 5,
    "start_time": "2023-04-02T13:06:09.525Z"
   },
   {
    "duration": 110,
    "start_time": "2023-04-02T13:06:09.532Z"
   },
   {
    "duration": 1321,
    "start_time": "2023-04-02T13:06:09.646Z"
   },
   {
    "duration": 5,
    "start_time": "2023-04-02T13:06:10.968Z"
   },
   {
    "duration": 3021,
    "start_time": "2023-04-02T13:06:10.974Z"
   },
   {
    "duration": 4,
    "start_time": "2023-04-02T13:06:13.997Z"
   },
   {
    "duration": 30,
    "start_time": "2023-04-02T13:06:14.002Z"
   },
   {
    "duration": 31,
    "start_time": "2023-04-02T13:06:14.033Z"
   },
   {
    "duration": 38,
    "start_time": "2023-04-02T13:06:14.066Z"
   },
   {
    "duration": 1843,
    "start_time": "2023-04-02T13:06:14.106Z"
   },
   {
    "duration": 16,
    "start_time": "2023-04-02T13:06:15.951Z"
   },
   {
    "duration": 3,
    "start_time": "2023-04-02T13:06:15.969Z"
   },
   {
    "duration": 3,
    "start_time": "2023-04-02T13:06:15.974Z"
   },
   {
    "duration": 7,
    "start_time": "2023-04-02T13:06:15.980Z"
   },
   {
    "duration": 3,
    "start_time": "2023-04-02T13:06:15.989Z"
   },
   {
    "duration": 4,
    "start_time": "2023-04-02T13:06:15.993Z"
   },
   {
    "duration": 3363,
    "start_time": "2023-04-02T13:07:43.180Z"
   },
   {
    "duration": 1625,
    "start_time": "2023-04-02T13:07:46.549Z"
   },
   {
    "duration": 235,
    "start_time": "2023-04-02T13:07:48.176Z"
   },
   {
    "duration": 114,
    "start_time": "2023-04-02T13:07:48.414Z"
   },
   {
    "duration": 306,
    "start_time": "2023-04-02T13:07:48.531Z"
   },
   {
    "duration": 41,
    "start_time": "2023-04-02T13:07:48.839Z"
   },
   {
    "duration": 99,
    "start_time": "2023-04-02T13:07:48.882Z"
   },
   {
    "duration": 30,
    "start_time": "2023-04-02T13:07:48.985Z"
   },
   {
    "duration": 41,
    "start_time": "2023-04-02T13:07:49.017Z"
   },
   {
    "duration": 57,
    "start_time": "2023-04-02T13:07:49.061Z"
   },
   {
    "duration": 39,
    "start_time": "2023-04-02T13:07:49.119Z"
   },
   {
    "duration": 66,
    "start_time": "2023-04-02T13:07:49.160Z"
   },
   {
    "duration": 44,
    "start_time": "2023-04-02T13:07:49.228Z"
   },
   {
    "duration": 38,
    "start_time": "2023-04-02T13:07:49.278Z"
   },
   {
    "duration": 102,
    "start_time": "2023-04-02T13:07:49.318Z"
   },
   {
    "duration": 40,
    "start_time": "2023-04-02T13:07:49.422Z"
   },
   {
    "duration": 78,
    "start_time": "2023-04-02T13:07:49.463Z"
   },
   {
    "duration": 187,
    "start_time": "2023-04-02T13:07:49.548Z"
   },
   {
    "duration": 620,
    "start_time": "2023-04-02T13:07:49.744Z"
   },
   {
    "duration": 1061,
    "start_time": "2023-04-02T13:07:50.366Z"
   },
   {
    "duration": 102,
    "start_time": "2023-04-02T13:07:51.430Z"
   },
   {
    "duration": 148,
    "start_time": "2023-04-02T13:07:51.534Z"
   },
   {
    "duration": 24,
    "start_time": "2023-04-02T13:07:51.684Z"
   },
   {
    "duration": 396,
    "start_time": "2023-04-02T13:07:51.710Z"
   },
   {
    "duration": 258,
    "start_time": "2023-04-02T13:07:52.109Z"
   },
   {
    "duration": 9,
    "start_time": "2023-04-02T13:07:52.369Z"
   },
   {
    "duration": 30,
    "start_time": "2023-04-02T13:07:52.380Z"
   },
   {
    "duration": 38,
    "start_time": "2023-04-02T13:07:52.414Z"
   },
   {
    "duration": 32,
    "start_time": "2023-04-02T13:07:52.455Z"
   },
   {
    "duration": 7,
    "start_time": "2023-04-02T13:07:52.492Z"
   },
   {
    "duration": 23,
    "start_time": "2023-04-02T13:07:52.501Z"
   },
   {
    "duration": 30,
    "start_time": "2023-04-02T13:07:52.540Z"
   },
   {
    "duration": 17,
    "start_time": "2023-04-02T13:07:52.573Z"
   },
   {
    "duration": 314,
    "start_time": "2023-04-02T13:07:52.592Z"
   },
   {
    "duration": 16,
    "start_time": "2023-04-02T13:07:52.908Z"
   },
   {
    "duration": 42,
    "start_time": "2023-04-02T13:07:52.925Z"
   },
   {
    "duration": 14,
    "start_time": "2023-04-02T13:07:52.969Z"
   },
   {
    "duration": 326,
    "start_time": "2023-04-02T13:07:52.984Z"
   },
   {
    "duration": 13,
    "start_time": "2023-04-02T13:07:53.313Z"
   },
   {
    "duration": 13,
    "start_time": "2023-04-02T13:07:53.340Z"
   },
   {
    "duration": 23,
    "start_time": "2023-04-02T13:07:53.359Z"
   },
   {
    "duration": 172,
    "start_time": "2023-04-02T13:07:53.384Z"
   },
   {
    "duration": 7,
    "start_time": "2023-04-02T13:07:53.565Z"
   },
   {
    "duration": 32,
    "start_time": "2023-04-02T13:07:53.574Z"
   },
   {
    "duration": 8,
    "start_time": "2023-04-02T13:07:53.608Z"
   },
   {
    "duration": 11,
    "start_time": "2023-04-02T13:07:53.618Z"
   },
   {
    "duration": 64,
    "start_time": "2023-04-02T13:07:53.641Z"
   },
   {
    "duration": 3,
    "start_time": "2023-04-02T13:07:53.707Z"
   },
   {
    "duration": 4,
    "start_time": "2023-04-02T13:07:53.712Z"
   },
   {
    "duration": 126,
    "start_time": "2023-04-02T13:07:53.718Z"
   },
   {
    "duration": 1522,
    "start_time": "2023-04-02T13:07:53.845Z"
   },
   {
    "duration": 4,
    "start_time": "2023-04-02T13:07:55.369Z"
   },
   {
    "duration": 2196,
    "start_time": "2023-04-02T13:07:55.375Z"
   },
   {
    "duration": 9,
    "start_time": "2023-04-02T13:08:54.670Z"
   },
   {
    "duration": 8,
    "start_time": "2023-04-02T13:09:07.254Z"
   },
   {
    "duration": 5,
    "start_time": "2023-04-02T13:09:12.098Z"
   },
   {
    "duration": 5,
    "start_time": "2023-04-02T13:10:27.125Z"
   },
   {
    "duration": 1016,
    "start_time": "2023-04-02T13:10:27.132Z"
   },
   {
    "duration": 155,
    "start_time": "2023-04-02T13:10:28.153Z"
   },
   {
    "duration": 81,
    "start_time": "2023-04-02T13:10:28.310Z"
   },
   {
    "duration": 231,
    "start_time": "2023-04-02T13:10:28.394Z"
   },
   {
    "duration": 44,
    "start_time": "2023-04-02T13:10:28.627Z"
   },
   {
    "duration": 69,
    "start_time": "2023-04-02T13:10:28.673Z"
   },
   {
    "duration": 31,
    "start_time": "2023-04-02T13:10:28.745Z"
   },
   {
    "duration": 26,
    "start_time": "2023-04-02T13:10:28.778Z"
   },
   {
    "duration": 101,
    "start_time": "2023-04-02T13:10:28.811Z"
   },
   {
    "duration": 57,
    "start_time": "2023-04-02T13:10:28.917Z"
   },
   {
    "duration": 99,
    "start_time": "2023-04-02T13:10:28.978Z"
   },
   {
    "duration": 38,
    "start_time": "2023-04-02T13:10:29.080Z"
   },
   {
    "duration": 64,
    "start_time": "2023-04-02T13:10:29.120Z"
   },
   {
    "duration": 81,
    "start_time": "2023-04-02T13:10:29.187Z"
   },
   {
    "duration": 33,
    "start_time": "2023-04-02T13:10:29.273Z"
   },
   {
    "duration": 76,
    "start_time": "2023-04-02T13:10:29.308Z"
   },
   {
    "duration": 179,
    "start_time": "2023-04-02T13:10:29.387Z"
   },
   {
    "duration": 493,
    "start_time": "2023-04-02T13:10:29.568Z"
   },
   {
    "duration": 1042,
    "start_time": "2023-04-02T13:10:30.062Z"
   },
   {
    "duration": 79,
    "start_time": "2023-04-02T13:10:31.106Z"
   },
   {
    "duration": 116,
    "start_time": "2023-04-02T13:10:31.187Z"
   },
   {
    "duration": 39,
    "start_time": "2023-04-02T13:10:31.306Z"
   },
   {
    "duration": 352,
    "start_time": "2023-04-02T13:10:31.348Z"
   },
   {
    "duration": 323,
    "start_time": "2023-04-02T13:10:31.703Z"
   },
   {
    "duration": 19,
    "start_time": "2023-04-02T13:10:32.029Z"
   },
   {
    "duration": 50,
    "start_time": "2023-04-02T13:10:32.051Z"
   },
   {
    "duration": 25,
    "start_time": "2023-04-02T13:10:32.103Z"
   },
   {
    "duration": 38,
    "start_time": "2023-04-02T13:10:32.140Z"
   },
   {
    "duration": 10,
    "start_time": "2023-04-02T13:10:32.181Z"
   },
   {
    "duration": 82,
    "start_time": "2023-04-02T13:10:32.193Z"
   },
   {
    "duration": 31,
    "start_time": "2023-04-02T13:10:32.278Z"
   },
   {
    "duration": 35,
    "start_time": "2023-04-02T13:10:32.312Z"
   },
   {
    "duration": 430,
    "start_time": "2023-04-02T13:10:32.349Z"
   },
   {
    "duration": 28,
    "start_time": "2023-04-02T13:10:32.797Z"
   },
   {
    "duration": 31,
    "start_time": "2023-04-02T13:10:32.828Z"
   },
   {
    "duration": 17,
    "start_time": "2023-04-02T13:10:32.861Z"
   },
   {
    "duration": 283,
    "start_time": "2023-04-02T13:10:32.879Z"
   },
   {
    "duration": 15,
    "start_time": "2023-04-02T13:10:33.166Z"
   },
   {
    "duration": 8,
    "start_time": "2023-04-02T13:10:33.182Z"
   },
   {
    "duration": 20,
    "start_time": "2023-04-02T13:10:33.192Z"
   },
   {
    "duration": 153,
    "start_time": "2023-04-02T13:10:33.215Z"
   },
   {
    "duration": 8,
    "start_time": "2023-04-02T13:10:33.370Z"
   },
   {
    "duration": 28,
    "start_time": "2023-04-02T13:10:33.381Z"
   },
   {
    "duration": 15,
    "start_time": "2023-04-02T13:10:33.411Z"
   },
   {
    "duration": 23,
    "start_time": "2023-04-02T13:10:33.444Z"
   },
   {
    "duration": 53,
    "start_time": "2023-04-02T13:10:33.470Z"
   },
   {
    "duration": 4,
    "start_time": "2023-04-02T13:10:33.525Z"
   },
   {
    "duration": 11,
    "start_time": "2023-04-02T13:10:33.531Z"
   },
   {
    "duration": 143,
    "start_time": "2023-04-02T13:10:33.547Z"
   },
   {
    "duration": 1506,
    "start_time": "2023-04-02T13:10:33.692Z"
   },
   {
    "duration": 57,
    "start_time": "2023-04-02T13:10:35.201Z"
   },
   {
    "duration": 2160,
    "start_time": "2023-04-02T13:10:35.262Z"
   },
   {
    "duration": 5,
    "start_time": "2023-04-02T13:10:37.424Z"
   },
   {
    "duration": 20,
    "start_time": "2023-04-02T13:10:37.431Z"
   },
   {
    "duration": 16,
    "start_time": "2023-04-02T13:10:37.454Z"
   },
   {
    "duration": 6,
    "start_time": "2023-04-02T13:10:37.472Z"
   },
   {
    "duration": 1937,
    "start_time": "2023-04-02T13:10:37.479Z"
   },
   {
    "duration": 8,
    "start_time": "2023-04-02T13:10:39.418Z"
   },
   {
    "duration": 49,
    "start_time": "2023-04-02T13:10:50.840Z"
   },
   {
    "duration": 3,
    "start_time": "2023-04-02T13:10:52.259Z"
   },
   {
    "duration": 3,
    "start_time": "2023-04-02T13:10:52.858Z"
   },
   {
    "duration": 6,
    "start_time": "2023-04-02T13:10:53.466Z"
   },
   {
    "duration": 3,
    "start_time": "2023-04-02T13:10:57.022Z"
   },
   {
    "duration": 2,
    "start_time": "2023-04-02T13:10:57.537Z"
   },
   {
    "duration": 41731,
    "start_time": "2023-04-02T13:10:59.537Z"
   },
   {
    "duration": 186,
    "start_time": "2023-04-02T13:11:41.271Z"
   },
   {
    "duration": 1131,
    "start_time": "2023-04-02T13:12:22.496Z"
   },
   {
    "duration": 929,
    "start_time": "2023-04-02T13:12:23.629Z"
   },
   {
    "duration": 151,
    "start_time": "2023-04-02T13:12:24.560Z"
   },
   {
    "duration": 87,
    "start_time": "2023-04-02T13:12:24.713Z"
   },
   {
    "duration": 188,
    "start_time": "2023-04-02T13:12:24.802Z"
   },
   {
    "duration": 20,
    "start_time": "2023-04-02T13:12:24.991Z"
   },
   {
    "duration": 87,
    "start_time": "2023-04-02T13:12:25.013Z"
   },
   {
    "duration": 22,
    "start_time": "2023-04-02T13:12:25.102Z"
   },
   {
    "duration": 39,
    "start_time": "2023-04-02T13:12:25.126Z"
   },
   {
    "duration": 80,
    "start_time": "2023-04-02T13:12:25.169Z"
   },
   {
    "duration": 35,
    "start_time": "2023-04-02T13:12:25.251Z"
   },
   {
    "duration": 81,
    "start_time": "2023-04-02T13:12:25.288Z"
   },
   {
    "duration": 22,
    "start_time": "2023-04-02T13:12:25.371Z"
   },
   {
    "duration": 57,
    "start_time": "2023-04-02T13:12:25.394Z"
   },
   {
    "duration": 50,
    "start_time": "2023-04-02T13:12:25.454Z"
   },
   {
    "duration": 35,
    "start_time": "2023-04-02T13:12:25.506Z"
   },
   {
    "duration": 57,
    "start_time": "2023-04-02T13:12:25.544Z"
   },
   {
    "duration": 155,
    "start_time": "2023-04-02T13:12:25.603Z"
   },
   {
    "duration": 505,
    "start_time": "2023-04-02T13:12:25.760Z"
   },
   {
    "duration": 1016,
    "start_time": "2023-04-02T13:12:26.267Z"
   },
   {
    "duration": 96,
    "start_time": "2023-04-02T13:12:27.285Z"
   },
   {
    "duration": 111,
    "start_time": "2023-04-02T13:12:27.382Z"
   },
   {
    "duration": 17,
    "start_time": "2023-04-02T13:12:27.495Z"
   },
   {
    "duration": 340,
    "start_time": "2023-04-02T13:12:27.513Z"
   },
   {
    "duration": 246,
    "start_time": "2023-04-02T13:12:27.857Z"
   },
   {
    "duration": 9,
    "start_time": "2023-04-02T13:12:28.105Z"
   },
   {
    "duration": 52,
    "start_time": "2023-04-02T13:12:28.115Z"
   },
   {
    "duration": 19,
    "start_time": "2023-04-02T13:12:28.172Z"
   },
   {
    "duration": 53,
    "start_time": "2023-04-02T13:12:28.193Z"
   },
   {
    "duration": 8,
    "start_time": "2023-04-02T13:12:28.253Z"
   },
   {
    "duration": 26,
    "start_time": "2023-04-02T13:12:28.263Z"
   },
   {
    "duration": 26,
    "start_time": "2023-04-02T13:12:28.291Z"
   },
   {
    "duration": 39,
    "start_time": "2023-04-02T13:12:28.318Z"
   },
   {
    "duration": 304,
    "start_time": "2023-04-02T13:12:28.359Z"
   },
   {
    "duration": 30,
    "start_time": "2023-04-02T13:12:28.664Z"
   },
   {
    "duration": 29,
    "start_time": "2023-04-02T13:12:28.696Z"
   },
   {
    "duration": 32,
    "start_time": "2023-04-02T13:12:28.727Z"
   },
   {
    "duration": 357,
    "start_time": "2023-04-02T13:12:28.761Z"
   },
   {
    "duration": 26,
    "start_time": "2023-04-02T13:12:29.121Z"
   },
   {
    "duration": 9,
    "start_time": "2023-04-02T13:12:29.151Z"
   },
   {
    "duration": 20,
    "start_time": "2023-04-02T13:12:29.166Z"
   },
   {
    "duration": 185,
    "start_time": "2023-04-02T13:12:29.189Z"
   },
   {
    "duration": 8,
    "start_time": "2023-04-02T13:12:29.376Z"
   },
   {
    "duration": 30,
    "start_time": "2023-04-02T13:12:29.386Z"
   },
   {
    "duration": 38,
    "start_time": "2023-04-02T13:12:29.418Z"
   },
   {
    "duration": 11,
    "start_time": "2023-04-02T13:12:29.458Z"
   },
   {
    "duration": 62,
    "start_time": "2023-04-02T13:12:29.475Z"
   },
   {
    "duration": 7,
    "start_time": "2023-04-02T13:12:29.539Z"
   },
   {
    "duration": 10,
    "start_time": "2023-04-02T13:12:29.548Z"
   },
   {
    "duration": 87,
    "start_time": "2023-04-02T13:12:29.559Z"
   },
   {
    "duration": 1348,
    "start_time": "2023-04-02T13:12:29.657Z"
   },
   {
    "duration": 5,
    "start_time": "2023-04-02T13:12:31.007Z"
   },
   {
    "duration": 2104,
    "start_time": "2023-04-02T13:12:31.013Z"
   },
   {
    "duration": 3,
    "start_time": "2023-04-02T13:12:33.120Z"
   },
   {
    "duration": 29,
    "start_time": "2023-04-02T13:12:33.125Z"
   },
   {
    "duration": 9,
    "start_time": "2023-04-02T13:12:33.160Z"
   },
   {
    "duration": 7,
    "start_time": "2023-04-02T13:12:33.170Z"
   },
   {
    "duration": 1919,
    "start_time": "2023-04-02T13:12:33.178Z"
   },
   {
    "duration": 8,
    "start_time": "2023-04-02T13:12:35.100Z"
   },
   {
    "duration": 3,
    "start_time": "2023-04-02T13:12:35.110Z"
   },
   {
    "duration": 6,
    "start_time": "2023-04-02T13:12:35.115Z"
   },
   {
    "duration": 12,
    "start_time": "2023-04-02T13:12:35.144Z"
   },
   {
    "duration": 3,
    "start_time": "2023-04-02T13:12:35.158Z"
   },
   {
    "duration": 13,
    "start_time": "2023-04-02T13:12:35.163Z"
   },
   {
    "duration": 39,
    "start_time": "2023-04-02T13:12:35.178Z"
   },
   {
    "duration": 44764,
    "start_time": "2023-04-02T13:12:35.219Z"
   },
   {
    "duration": 464,
    "start_time": "2023-04-02T13:13:19.985Z"
   },
   {
    "duration": 18,
    "start_time": "2023-04-02T13:13:20.452Z"
   },
   {
    "duration": 183478,
    "start_time": "2023-04-02T13:13:20.472Z"
   },
   {
    "duration": 29909,
    "start_time": "2023-04-02T13:16:23.952Z"
   },
   {
    "duration": 29011,
    "start_time": "2023-04-02T13:16:53.863Z"
   },
   {
    "duration": 30860,
    "start_time": "2023-04-02T13:17:22.876Z"
   },
   {
    "duration": 418,
    "start_time": "2023-04-02T13:17:53.738Z"
   },
   {
    "duration": 6,
    "start_time": "2023-04-02T13:17:54.158Z"
   },
   {
    "duration": 9,
    "start_time": "2023-04-02T13:17:54.166Z"
   },
   {
    "duration": 11,
    "start_time": "2023-04-02T13:17:54.176Z"
   }
  ],
  "kernelspec": {
   "display_name": "Python 3 (ipykernel)",
   "language": "python",
   "name": "python3"
  },
  "language_info": {
   "codemirror_mode": {
    "name": "ipython",
    "version": 3
   },
   "file_extension": ".py",
   "mimetype": "text/x-python",
   "name": "python",
   "nbconvert_exporter": "python",
   "pygments_lexer": "ipython3",
   "version": "3.9.5"
  },
  "toc": {
   "base_numbering": 1,
   "nav_menu": {},
   "number_sections": true,
   "sideBar": true,
   "skip_h1_title": true,
   "title_cell": "Table of Contents",
   "title_sidebar": "Contents",
   "toc_cell": false,
   "toc_position": {},
   "toc_section_display": true,
   "toc_window_display": false
  }
 },
 "nbformat": 4,
 "nbformat_minor": 2
}
